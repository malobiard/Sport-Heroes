{
  "nbformat": 4,
  "nbformat_minor": 0,
  "metadata": {
    "colab": {
      "provenance": []
    },
    "kernelspec": {
      "name": "python3",
      "display_name": "Python 3"
    },
    "language_info": {
      "name": "python"
    }
  },
  "cells": [
    {
      "cell_type": "markdown",
      "source": [
        "Import des modules"
      ],
      "metadata": {
        "id": "4S2p9jZzHWIo"
      }
    },
    {
      "cell_type": "code",
      "source": [
        "import pandas as pd\n",
        "from sklearn.cluster import KMeans\n",
        "import matplotlib.pyplot as plt\n",
        "from sklearn.preprocessing import StandardScaler\n",
        "from google.colab import files"
      ],
      "metadata": {
        "id": "bZcojexRHUhD"
      },
      "execution_count": null,
      "outputs": []
    },
    {
      "cell_type": "markdown",
      "source": [
        "Import des fichiers"
      ],
      "metadata": {
        "id": "q7pa6-v3IcLc"
      }
    },
    {
      "cell_type": "code",
      "source": [
        "df0 = pd.read_csv(\"/content/Clustering-Users-interets - data sans _null_.csv\")\n",
        "df0.set_index(\"utilisateur\", inplace = True)\n",
        "df1 = pd.read_csv(\"/content/Clustering-Users-interets - data running.csv\")\n",
        "df1.set_index(\"utilisateur\", inplace = True)\n",
        "df1bis = df1.copy()\n",
        "df1bis.drop('sorties_running_mois', axis=1, inplace=True)\n",
        "df1bis = df1bis.loc[df1bis['distance_moyenne_running_hebdo_last_3months'] > 0]\n",
        "df1bis = df1bis.loc[df1bis['vitesse_running_moyenne'] > 0]\n",
        "df1bis = df1bis.loc[df1bis['vitesse_running_moyenne'] <= 11]\n",
        "scaler = StandardScaler()\n",
        "df1_standard = scaler.fit_transform(df1bis)\n",
        "df1_standard = pd.DataFrame(df1_standard, index= df1bis.index, columns=df1bis.columns)\n",
        "df2 = pd.read_csv(\"/content/Clustering-Users-interets - data cycling.csv\")\n",
        "df2.set_index(\"utilisateur\", inplace = True)\n",
        "df2bis = df2.copy()\n",
        "df2bis.drop('sorties_cycling_mois', axis=1, inplace=True)\n",
        "df2bis = df2bis.loc[df2bis['distance_moyenne_cycling_hebdo_last_3months'] > 0]\n",
        "df2bis = df2bis.loc[df2bis['vitesse_cycling_moyenne'] > 0]\n",
        "df2bis = df2bis.loc[df2bis['vitesse_cycling_moyenne'] <= 8]\n",
        "scaler = StandardScaler()\n",
        "df2_standard = scaler.fit_transform(df2bis)\n",
        "df2_standard = pd.DataFrame(df2_standard, index= df2bis.index, columns=df2bis.columns)\n",
        "df3 = pd.read_csv(\"/content/Clustering-Users-interets - data swimming.csv\")\n",
        "df3.set_index(\"utilisateur\", inplace = True)\n",
        "df3bis = df3.copy()\n",
        "df3bis.drop('sorties_swimming_mois', axis=1, inplace=True)\n",
        "df3bis = df3bis.loc[df3bis['distance_moyenne_swimming_hebdo_last_3months'] > 0]\n",
        "df3bis = df3bis.loc[df3bis['vitesse_swimming_moyenne'] > 0]\n",
        "df3bis = df3bis.loc[df3bis['vitesse_swimming_moyenne'] <= 100]\n",
        "scaler = StandardScaler()\n",
        "df3_standard = scaler.fit_transform(df3bis)\n",
        "df3_standard = pd.DataFrame(df3_standard, index= df3bis.index, columns=df3bis.columns)\n",
        "df4 = pd.read_csv(\"/content/Clustering-Users-interets - data walking.csv\")\n",
        "df4.set_index(\"utilisateur\", inplace = True)\n",
        "df4bis = df4.copy()\n",
        "df4bis.drop('sorties_walking_mois', axis=1, inplace=True)\n",
        "df4bis = df4bis.loc[df4bis['distance_moyenne_walking_hebdo_last_3months'] > 0]\n",
        "df4bis = df4bis.loc[df4bis['vitesse_walking_moyenne'] > 0]\n",
        "df4bis = df4bis.loc[df4bis['vitesse_walking_moyenne'] <= 26]\n",
        "scaler = StandardScaler()\n",
        "df4_standard = scaler.fit_transform(df4bis)\n",
        "df4_standard = pd.DataFrame(df4_standard, index= df4bis.index, columns=df4bis.columns)\n",
        "df5 = pd.read_csv(\"/content/Clustering-Users-interets - data yoga.csv\")\n",
        "df5.set_index(\"utilisateur\", inplace = True)\n",
        "df5bis = df5.copy()\n",
        "df5bis = df5bis.loc[df5bis['nombre_sessions_yoga_hebdo_last_3months'] > 0]\n",
        "df5bis = df5bis.loc[df5bis['duree_yoga_moyenne'] > 0]\n",
        "scaler = StandardScaler()\n",
        "df5_standard = scaler.fit_transform(df5bis)\n",
        "df5_standard = pd.DataFrame(df5_standard, index= df5bis.index, columns=df5bis.columns)\n",
        "df6 = pd.read_csv(\"/content/Clustering-Users-interets - data workout.csv\")\n",
        "df6.set_index(\"utilisateur\", inplace = True)\n",
        "df6bis = df6.copy()\n",
        "df6bis = df6bis.loc[df6bis['nombre_sessions_workout_hebdo_last_3months'] > 0]\n",
        "df6bis = df6bis.loc[df6bis['duree_workout_moyenne'] > 0]\n",
        "scaler = StandardScaler()\n",
        "df6_standard = scaler.fit_transform(df6bis)\n",
        "df6_standard = pd.DataFrame(df6_standard, index= df6bis.index, columns=df6bis.columns)\n",
        "df1_standard.head()"
      ],
      "metadata": {
        "id": "ykHMVOOcIcb1"
      },
      "execution_count": null,
      "outputs": []
    },
    {
      "cell_type": "markdown",
      "source": [
        "Clustering global, sur toutes les colonnes en même temps"
      ],
      "metadata": {
        "id": "S7XpFNyvHaXf"
      }
    },
    {
      "cell_type": "code",
      "execution_count": null,
      "metadata": {
        "id": "w4DD0Vh9xg0x"
      },
      "outputs": [],
      "source": [
        "\n",
        "# Importer votre tableau de données\n",
        "df0 = pd.read_csv(\"/content/Clustering-Users-interets - data sans _null_.csv\")\n",
        "df0.set_index(\"utilisateur\", inplace = True)\n",
        "\n",
        "# Choisir le nombre de clusters (k)\n",
        "k = 5\n",
        "\n",
        "# Sélectionner les colonnes sur lesquelles faire le clustering\n",
        "cols = [\"distance_moyenne_running_hebdo_last_3months\",\n",
        "\"distance_moyenne_cycling_hebdo_last_3months\",\n",
        "\"distance_moyenne_swimming_hebdo_last_3months\",\n",
        "\"distance_moyenne_walking_hebdo_last_3months\",\n",
        "\"nombre_sessions_yoga_hebdo_last_3months\",\n",
        "\"nombre_sessions_workout_hebdo_last_3months\",\n",
        "\"vitesse_running_moyenne\",\n",
        "\"vitesse_cycling_moyenne\",\n",
        "\"vitesse_swimming_moyenne\",\n",
        "\"vitesse_walking_moyenne\",\n",
        "\"duree_yoga_moyenne\",\n",
        "\"duree_workout_moyenne\",\n",
        "\"sorties_running_mois\",\n",
        "\"sorties_cycling_mois\",\n",
        "\"sorties_swimming_mois\",\n",
        "\"sorties_walking_mois\"]\n",
        "\n",
        "# Sélectionner les données pour le clustering\n",
        "data = df0[cols]\n",
        "\n",
        "# Initialiser le modèle de clustering\n",
        "kmeans = KMeans(n_clusters=k, random_state=0)\n",
        "\n",
        "# Effectuer le clustering\n",
        "kmeans.fit(data)\n",
        "\n",
        "# Ajouter une colonne \"cluster\" à votre tableau de données\n",
        "df0[\"cluster\"] = kmeans.labels_\n",
        "\n",
        "# Afficher le tableau de données avec la colonne \"cluster\"\n"
      ]
    },
    {
      "cell_type": "markdown",
      "source": [
        "Methode du coude : Running"
      ],
      "metadata": {
        "id": "hEy85w3mHrWq"
      }
    },
    {
      "cell_type": "code",
      "source": [
        "# Extraction des données de la dataframe\n",
        "X = df1_standard.values\n",
        "\n",
        "# Normalisation des données\n",
        "scaler = StandardScaler()\n",
        "X = scaler.fit_transform(X)\n",
        "\n",
        "# Liste des valeurs de K à tester\n",
        "K = range(1, 10)\n",
        "\n",
        "# Liste des valeurs des variances intra-cluster pour chaque K\n",
        "inertias = []\n",
        "\n",
        "for k in K:\n",
        "    # Créer un modèle de KMeans pour chaque K\n",
        "    model = KMeans(n_clusters=k)\n",
        "\n",
        "    # Ajuster le modèle aux données\n",
        "    model.fit(X)\n",
        "\n",
        "    # Ajouter l'inertie (variance intra-cluster) à la liste\n",
        "    inertias.append(model.inertia_)\n",
        "\n",
        "# Tracer le graphique de la méthode du coude\n",
        "plt.plot(K, inertias, 'bx-')\n",
        "plt.xlabel('Nombre de clusters (K)')\n",
        "plt.ylabel('Variance intra-cluster')\n",
        "plt.title(\"Méthode du coude pour déterminer le nombre optimal de clusters\")\n",
        "plt.show()\n",
        "\n"
      ],
      "metadata": {
        "id": "LZDLiw5oHrx2"
      },
      "execution_count": null,
      "outputs": []
    },
    {
      "cell_type": "markdown",
      "source": [
        "Clustering : Running"
      ],
      "metadata": {
        "id": "IOFEGRNRoPZi"
      }
    },
    {
      "cell_type": "code",
      "source": [
        "# Choisir le nombre de clusters (k)\n",
        "k = 4\n",
        "\n",
        "# Sélectionner les colonnes sur lesquelles faire le clustering\n",
        "cols = [df1_standard.columns[0],df1_standard.columns[1]]\n",
        "\n",
        "# Sélectionner les données pour le clustering\n",
        "data = df1_standard[cols]\n",
        "\n",
        "# Initialiser le modèle de clustering\n",
        "kmeans = KMeans(n_clusters=k, random_state=0)\n",
        "\n",
        "# Effectuer le clustering\n",
        "kmeans.fit(data)\n",
        "\n",
        "# Ajouter une colonne \"cluster\" à votre tableau de données\n",
        "df1_standard[\"running_cluster\"] = kmeans.labels_\n",
        "df1bis[\"running_cluster\"] = kmeans.labels_\n",
        "\n",
        "# Afficher le tableau de données avec la colonne \"cluster\"\n",
        "#df1.head()\n",
        "stats = df1bis.groupby('running_cluster').agg(['mean', 'median', 'var', 'std'])\n",
        "stats\n",
        "comptage = df1_bis['running_cluster'].value_counts()\n",
        "comptage"
      ],
      "metadata": {
        "id": "QDNgHpI1oPtK"
      },
      "execution_count": null,
      "outputs": []
    },
    {
      "cell_type": "markdown",
      "source": [
        "Methode du coude : Cycling"
      ],
      "metadata": {
        "id": "Gna93i0Boj8b"
      }
    },
    {
      "cell_type": "code",
      "source": [
        "# Extraction des données de la dataframe\n",
        "X = df2_standard.values\n",
        "\n",
        "# Normalisation des données\n",
        "scaler = StandardScaler()\n",
        "X = scaler.fit_transform(X)\n",
        "\n",
        "# Liste des valeurs de K à tester\n",
        "K = range(1, 10)\n",
        "\n",
        "# Liste des valeurs des variances intra-cluster pour chaque K\n",
        "inertias = []\n",
        "\n",
        "for k in K:\n",
        "    # Créer un modèle de KMeans pour chaque K\n",
        "    model = KMeans(n_clusters=k)\n",
        "\n",
        "    # Ajuster le modèle aux données\n",
        "    model.fit(X)\n",
        "\n",
        "    # Ajouter l'inertie (variance intra-cluster) à la liste\n",
        "    inertias.append(model.inertia_)\n",
        "\n",
        "# Tracer le graphique de la méthode du coude\n",
        "plt.plot(K, inertias, 'bx-')\n",
        "plt.xlabel('Nombre de clusters (K)')\n",
        "plt.ylabel('Variance intra-cluster')\n",
        "plt.title(\"Méthode du coude pour déterminer le nombre optimal de clusters\")\n",
        "plt.show()"
      ],
      "metadata": {
        "id": "SGW9R4GsokH7"
      },
      "execution_count": null,
      "outputs": []
    },
    {
      "cell_type": "markdown",
      "source": [
        "Clustering : Cycling"
      ],
      "metadata": {
        "id": "excIhgxZokYE"
      }
    },
    {
      "cell_type": "code",
      "source": [
        "# Choisir le nombre de clusters (k)\n",
        "k = 4\n",
        "\n",
        "# Sélectionner les colonnes sur lesquelles faire le clustering\n",
        "cols = [df2_standard.columns[0],df2_standard.columns[1]]\n",
        "\n",
        "# Sélectionner les données pour le clustering\n",
        "data = df2_standard[cols]\n",
        "\n",
        "# Initialiser le modèle de clustering\n",
        "kmeans = KMeans(n_clusters=k, random_state=0)\n",
        "\n",
        "# Effectuer le clustering\n",
        "kmeans.fit(data)\n",
        "\n",
        "# Ajouter une colonne \"cluster\" à votre tableau de données\n",
        "df2_standard[\"cycling_cluster\"] = kmeans.labels_\n",
        "df2bis[\"cycling_cluster\"] = kmeans.labels_\n",
        "\n",
        "# Afficher le tableau de données avec la colonne \"cluster\"\n",
        "#df2_standard.head()\n",
        "stats = df2_standard.groupby('cycling_cluster').agg(['mean', 'median', 'var', 'std'])\n",
        "stats\n",
        "comptage = df2_standard['cycling_cluster'].value_counts()\n",
        "comptage"
      ],
      "metadata": {
        "id": "XNxa2O-iokjx"
      },
      "execution_count": null,
      "outputs": []
    },
    {
      "cell_type": "markdown",
      "source": [
        "Methode du coude : Swimming"
      ],
      "metadata": {
        "id": "8Dx06rXyokqa"
      }
    },
    {
      "cell_type": "code",
      "source": [
        "# Extraction des données de la dataframe\n",
        "X = df3_standard.values\n",
        "\n",
        "# Normalisation des données\n",
        "scaler = StandardScaler()\n",
        "X = scaler.fit_transform(X)\n",
        "\n",
        "# Liste des valeurs de K à tester\n",
        "K = range(1, 10)\n",
        "\n",
        "# Liste des valeurs des variances intra-cluster pour chaque K\n",
        "inertias = []\n",
        "\n",
        "for k in K:\n",
        "    # Créer un modèle de KMeans pour chaque K\n",
        "    model = KMeans(n_clusters=k)\n",
        "\n",
        "    # Ajuster le modèle aux données\n",
        "    model.fit(X)\n",
        "\n",
        "    # Ajouter l'inertie (variance intra-cluster) à la liste\n",
        "    inertias.append(model.inertia_)\n",
        "\n",
        "# Tracer le graphique de la méthode du coude\n",
        "plt.plot(K, inertias, 'bx-')\n",
        "plt.xlabel('Nombre de clusters (K)')\n",
        "plt.ylabel('Variance intra-cluster')\n",
        "plt.title(\"Méthode du coude pour déterminer le nombre optimal de clusters\")\n",
        "plt.show()"
      ],
      "metadata": {
        "id": "DcO5Hdnrokx6"
      },
      "execution_count": null,
      "outputs": []
    },
    {
      "cell_type": "markdown",
      "source": [
        "Clustering : Swimming"
      ],
      "metadata": {
        "id": "sgOtE0bpok5Y"
      }
    },
    {
      "cell_type": "code",
      "source": [
        "# Choisir le nombre de clusters (k)\n",
        "k = 4\n",
        "\n",
        "# Sélectionner les colonnes sur lesquelles faire le clustering\n",
        "cols = [df3_standard.columns[0],df3_standard.columns[1]]\n",
        "\n",
        "# Sélectionner les données pour le clustering\n",
        "data = df3_standard[cols]\n",
        "\n",
        "# Initialiser le modèle de clustering\n",
        "kmeans = KMeans(n_clusters=k, random_state=0)\n",
        "\n",
        "# Effectuer le clustering\n",
        "kmeans.fit(data)\n",
        "\n",
        "# Ajouter une colonne \"cluster\" à votre tableau de données\n",
        "df3_standard[\"swimming_cluster\"] = kmeans.labels_\n",
        "df3bis[\"swimming_cluster\"] = kmeans.labels_\n",
        "\n",
        "# Afficher le tableau de données avec la colonne \"cluster\"\n",
        "#df3_standard.head()\n",
        "stats = df3_standard.groupby('swimming_cluster').agg(['mean', 'median', 'var', 'std'])\n",
        "stats\n",
        "comptage = df3_standard['swimming_cluster'].value_counts()\n",
        "comptage"
      ],
      "metadata": {
        "id": "eRoLG-lhok_0"
      },
      "execution_count": null,
      "outputs": []
    },
    {
      "cell_type": "markdown",
      "source": [
        "Methode du coude : Walking"
      ],
      "metadata": {
        "id": "DSbRpixPolFy"
      }
    },
    {
      "cell_type": "code",
      "source": [
        "# Extraction des données de la dataframe\n",
        "X = df4_standard.values\n",
        "\n",
        "# Normalisation des données\n",
        "scaler = StandardScaler()\n",
        "X = scaler.fit_transform(X)\n",
        "\n",
        "# Liste des valeurs de K à tester\n",
        "K = range(1, 10)\n",
        "\n",
        "# Liste des valeurs des variances intra-cluster pour chaque K\n",
        "inertias = []\n",
        "\n",
        "for k in K:\n",
        "    # Créer un modèle de KMeans pour chaque K\n",
        "    model = KMeans(n_clusters=k)\n",
        "\n",
        "    # Ajuster le modèle aux données\n",
        "    model.fit(X)\n",
        "\n",
        "    # Ajouter l'inertie (variance intra-cluster) à la liste\n",
        "    inertias.append(model.inertia_)\n",
        "\n",
        "# Tracer le graphique de la méthode du coude\n",
        "plt.plot(K, inertias, 'bx-')\n",
        "plt.xlabel('Nombre de clusters (K)')\n",
        "plt.ylabel('Variance intra-cluster')\n",
        "plt.title(\"Méthode du coude pour déterminer le nombre optimal de clusters\")\n",
        "plt.show()"
      ],
      "metadata": {
        "id": "V7VLcsnVolMz"
      },
      "execution_count": null,
      "outputs": []
    },
    {
      "cell_type": "markdown",
      "source": [
        "Clustering : Walking"
      ],
      "metadata": {
        "id": "Cd84xOlxolSM"
      }
    },
    {
      "cell_type": "code",
      "source": [
        "# Choisir le nombre de clusters (k)\n",
        "k = 4\n",
        "\n",
        "# Sélectionner les colonnes sur lesquelles faire le clustering\n",
        "cols = [df4_standard.columns[0],df4_standard.columns[1]]\n",
        "\n",
        "# Sélectionner les données pour le clustering\n",
        "data = df4_standard[cols]\n",
        "\n",
        "# Initialiser le modèle de clustering\n",
        "kmeans = KMeans(n_clusters=k, random_state=0)\n",
        "\n",
        "# Effectuer le clustering\n",
        "kmeans.fit(data)\n",
        "\n",
        "# Ajouter une colonne \"cluster\" à votre tableau de données\n",
        "df4_standard[\"walking_cluster\"] = kmeans.labels_\n",
        "df4bis[\"walking_cluster\"] = kmeans.labels_\n",
        "\n",
        "# Afficher le tableau de données avec la colonne \"cluster\"\n",
        "#df4_standard.head()\n",
        "stats = df4_standard.groupby('walking_cluster').agg(['mean', 'median', 'var', 'std'])\n",
        "stats\n",
        "comptage = df4_standard['walking_cluster'].value_counts()\n",
        "comptage"
      ],
      "metadata": {
        "id": "pzoa43-HolZA"
      },
      "execution_count": null,
      "outputs": []
    },
    {
      "cell_type": "markdown",
      "source": [
        "Methode du coude : Yoga"
      ],
      "metadata": {
        "id": "bg-6ZgVIold7"
      }
    },
    {
      "cell_type": "code",
      "source": [
        "# Extraction des données de la dataframe\n",
        "X = df5_standard.values\n",
        "\n",
        "# Normalisation des données\n",
        "scaler = StandardScaler()\n",
        "X = scaler.fit_transform(X)\n",
        "\n",
        "# Liste des valeurs de K à tester\n",
        "K = range(1, 10)\n",
        "\n",
        "# Liste des valeurs des variances intra-cluster pour chaque K\n",
        "inertias = []\n",
        "\n",
        "for k in K:\n",
        "    # Créer un modèle de KMeans pour chaque K\n",
        "    model = KMeans(n_clusters=k)\n",
        "\n",
        "    # Ajuster le modèle aux données\n",
        "    model.fit(X)\n",
        "\n",
        "    # Ajouter l'inertie (variance intra-cluster) à la liste\n",
        "    inertias.append(model.inertia_)\n",
        "\n",
        "# Tracer le graphique de la méthode du coude\n",
        "plt.plot(K, inertias, 'bx-')\n",
        "plt.xlabel('Nombre de clusters (K)')\n",
        "plt.ylabel('Variance intra-cluster')\n",
        "plt.title(\"Méthode du coude pour déterminer le nombre optimal de clusters\")\n",
        "plt.show()"
      ],
      "metadata": {
        "id": "dvXBKI4qoljl"
      },
      "execution_count": null,
      "outputs": []
    },
    {
      "cell_type": "markdown",
      "source": [
        "Clustering : Yoga"
      ],
      "metadata": {
        "id": "8YeVRnrEo4v_"
      }
    },
    {
      "cell_type": "code",
      "source": [
        "# Choisir le nombre de clusters (k)\n",
        "k = 4\n",
        "\n",
        "# Sélectionner les colonnes sur lesquelles faire le clustering\n",
        "cols = [df5_standard.columns[0],df5_standard.columns[1]]\n",
        "\n",
        "# Sélectionner les données pour le clustering\n",
        "data = df5_standard[cols]\n",
        "\n",
        "# Initialiser le modèle de clustering\n",
        "kmeans = KMeans(n_clusters=k, random_state=0)\n",
        "\n",
        "# Effectuer le clustering\n",
        "kmeans.fit(data)\n",
        "\n",
        "# Ajouter une colonne \"cluster\" à votre tableau de données\n",
        "df5_standard[\"yoga_cluster\"] = kmeans.labels_\n",
        "df5bis[\"yoga_cluster\"] = kmeans.labels_\n",
        "\n",
        "# Afficher le tableau de données avec la colonne \"cluster\"\n",
        "#df5_standard.head()\n",
        "stats = df5_standard.groupby('yoga_cluster').agg(['mean', 'median', 'var', 'std'])\n",
        "stats\n",
        "comptage = df5_standard['yoga_cluster'].value_counts()\n",
        "comptage"
      ],
      "metadata": {
        "id": "VsOnObuDo438"
      },
      "execution_count": null,
      "outputs": []
    },
    {
      "cell_type": "markdown",
      "source": [
        "Methode du coude : Workout"
      ],
      "metadata": {
        "id": "BhgafqTPo4-s"
      }
    },
    {
      "cell_type": "code",
      "source": [
        "# Extraction des données de la dataframe\n",
        "X = df6_standard.values\n",
        "\n",
        "# Normalisation des données\n",
        "scaler = StandardScaler()\n",
        "X = scaler.fit_transform(X)\n",
        "\n",
        "# Liste des valeurs de K à tester\n",
        "K = range(1, 10)\n",
        "\n",
        "# Liste des valeurs des variances intra-cluster pour chaque K\n",
        "inertias = []\n",
        "\n",
        "for k in K:\n",
        "    # Créer un modèle de KMeans pour chaque K\n",
        "    model = KMeans(n_clusters=k)\n",
        "\n",
        "    # Ajuster le modèle aux données\n",
        "    model.fit(X)\n",
        "\n",
        "    # Ajouter l'inertie (variance intra-cluster) à la liste\n",
        "    inertias.append(model.inertia_)\n",
        "\n",
        "# Tracer le graphique de la méthode du coude\n",
        "plt.plot(K, inertias, 'bx-')\n",
        "plt.xlabel('Nombre de clusters (K)')\n",
        "plt.ylabel('Variance intra-cluster')\n",
        "plt.title(\"Méthode du coude pour déterminer le nombre optimal de clusters\")\n",
        "plt.show()"
      ],
      "metadata": {
        "id": "bR7O5eUvo5FO"
      },
      "execution_count": null,
      "outputs": []
    },
    {
      "cell_type": "markdown",
      "source": [
        "Clustering : Workout"
      ],
      "metadata": {
        "id": "abWdwnkUo5NF"
      }
    },
    {
      "cell_type": "code",
      "source": [
        "# Choisir le nombre de clusters (k)\n",
        "k = 4\n",
        "\n",
        "# Sélectionner les colonnes sur lesquelles faire le clustering\n",
        "cols = [df6_standard.columns[0],df6_standard.columns[1]]\n",
        "\n",
        "# Sélectionner les données pour le clustering\n",
        "data = df6_standard[cols]\n",
        "\n",
        "# Initialiser le modèle de clustering\n",
        "kmeans = KMeans(n_clusters=k, random_state=0)\n",
        "\n",
        "# Effectuer le clustering\n",
        "kmeans.fit(data)\n",
        "\n",
        "# Ajouter une colonne \"cluster\" à votre tableau de données\n",
        "df6_standard[\"workout_cluster\"] = kmeans.labels_\n",
        "df6bis[\"workout_cluster\"] = kmeans.labels_\n",
        "\n",
        "# Afficher le tableau de données avec la colonne \"cluster\"\n",
        "#df6_standard.head()\n",
        "stats = df6_standard.groupby('workout_cluster').agg(['mean', 'median', 'var', 'std'])\n",
        "stats\n",
        "comptage = df6_standard['workout_cluster'].value_counts()\n",
        "comptage"
      ],
      "metadata": {
        "id": "KqJR_MCko5UM"
      },
      "execution_count": null,
      "outputs": []
    },
    {
      "cell_type": "markdown",
      "source": [
        "Export de tous les tableaux en CSV"
      ],
      "metadata": {
        "id": "NGFACDEx7B82"
      }
    },
    {
      "cell_type": "code",
      "source": [
        "#df1_standard.to_csv('data_running_cluster.csv', index=True)\n",
        "#df2_standard.to_csv('data_cycling_cluster.csv', index=True)\n",
        "#f3_standard.to_csv('data_swimming_cluster.csv', index=True)\n",
        "#df4_standard.to_csv('data_walking_cluster.csv', index=True)\n",
        "#df5_standard.to_csv('data_yoga_cluster.csv', index=True)\n",
        "#df6_standard.to_csv('data_workout_cluster.csv', index=True)\n",
        "df1bis.to_csv('running_cluster.csv', index=True)\n",
        "df2bis.to_csv('cycling_cluster.csv', index=True)\n",
        "df3bis.to_csv('swimming_cluster.csv', index=True)\n",
        "df4bis.to_csv('walking_cluster.csv', index=True)\n",
        "df5bis.to_csv('yoga_cluster.csv', index=True)\n",
        "df6bis.to_csv('workout_cluster.csv', index=True)\n",
        "files.download('running_cluster.csv')\n",
        "files.download('cycling_cluster.csv')\n",
        "files.download('swimming_cluster.csv')\n",
        "files.download('walking_cluster.csv')\n",
        "files.download('yoga_cluster.csv')\n",
        "files.download('workout_cluster.csv')"
      ],
      "metadata": {
        "colab": {
          "base_uri": "https://localhost:8080/",
          "height": 17
        },
        "id": "u0ENa1Z37CIb",
        "outputId": "34e0291f-baa2-4d0e-e187-ce44c8d7f7d5"
      },
      "execution_count": null,
      "outputs": [
        {
          "output_type": "display_data",
          "data": {
            "text/plain": [
              "<IPython.core.display.Javascript object>"
            ],
            "application/javascript": [
              "\n",
              "    async function download(id, filename, size) {\n",
              "      if (!google.colab.kernel.accessAllowed) {\n",
              "        return;\n",
              "      }\n",
              "      const div = document.createElement('div');\n",
              "      const label = document.createElement('label');\n",
              "      label.textContent = `Downloading \"${filename}\": `;\n",
              "      div.appendChild(label);\n",
              "      const progress = document.createElement('progress');\n",
              "      progress.max = size;\n",
              "      div.appendChild(progress);\n",
              "      document.body.appendChild(div);\n",
              "\n",
              "      const buffers = [];\n",
              "      let downloaded = 0;\n",
              "\n",
              "      const channel = await google.colab.kernel.comms.open(id);\n",
              "      // Send a message to notify the kernel that we're ready.\n",
              "      channel.send({})\n",
              "\n",
              "      for await (const message of channel.messages) {\n",
              "        // Send a message to notify the kernel that we're ready.\n",
              "        channel.send({})\n",
              "        if (message.buffers) {\n",
              "          for (const buffer of message.buffers) {\n",
              "            buffers.push(buffer);\n",
              "            downloaded += buffer.byteLength;\n",
              "            progress.value = downloaded;\n",
              "          }\n",
              "        }\n",
              "      }\n",
              "      const blob = new Blob(buffers, {type: 'application/binary'});\n",
              "      const a = document.createElement('a');\n",
              "      a.href = window.URL.createObjectURL(blob);\n",
              "      a.download = filename;\n",
              "      div.appendChild(a);\n",
              "      a.click();\n",
              "      div.remove();\n",
              "    }\n",
              "  "
            ]
          },
          "metadata": {}
        },
        {
          "output_type": "display_data",
          "data": {
            "text/plain": [
              "<IPython.core.display.Javascript object>"
            ],
            "application/javascript": [
              "download(\"download_3e0de7e0-2cd8-4801-8e8e-6fe744684adf\", \"running_cluster.csv\", 815814)"
            ]
          },
          "metadata": {}
        },
        {
          "output_type": "display_data",
          "data": {
            "text/plain": [
              "<IPython.core.display.Javascript object>"
            ],
            "application/javascript": [
              "\n",
              "    async function download(id, filename, size) {\n",
              "      if (!google.colab.kernel.accessAllowed) {\n",
              "        return;\n",
              "      }\n",
              "      const div = document.createElement('div');\n",
              "      const label = document.createElement('label');\n",
              "      label.textContent = `Downloading \"${filename}\": `;\n",
              "      div.appendChild(label);\n",
              "      const progress = document.createElement('progress');\n",
              "      progress.max = size;\n",
              "      div.appendChild(progress);\n",
              "      document.body.appendChild(div);\n",
              "\n",
              "      const buffers = [];\n",
              "      let downloaded = 0;\n",
              "\n",
              "      const channel = await google.colab.kernel.comms.open(id);\n",
              "      // Send a message to notify the kernel that we're ready.\n",
              "      channel.send({})\n",
              "\n",
              "      for await (const message of channel.messages) {\n",
              "        // Send a message to notify the kernel that we're ready.\n",
              "        channel.send({})\n",
              "        if (message.buffers) {\n",
              "          for (const buffer of message.buffers) {\n",
              "            buffers.push(buffer);\n",
              "            downloaded += buffer.byteLength;\n",
              "            progress.value = downloaded;\n",
              "          }\n",
              "        }\n",
              "      }\n",
              "      const blob = new Blob(buffers, {type: 'application/binary'});\n",
              "      const a = document.createElement('a');\n",
              "      a.href = window.URL.createObjectURL(blob);\n",
              "      a.download = filename;\n",
              "      div.appendChild(a);\n",
              "      a.click();\n",
              "      div.remove();\n",
              "    }\n",
              "  "
            ]
          },
          "metadata": {}
        },
        {
          "output_type": "display_data",
          "data": {
            "text/plain": [
              "<IPython.core.display.Javascript object>"
            ],
            "application/javascript": [
              "download(\"download_afaee987-eda0-48ad-83c3-6644656b95bc\", \"cycling_cluster.csv\", 392546)"
            ]
          },
          "metadata": {}
        },
        {
          "output_type": "display_data",
          "data": {
            "text/plain": [
              "<IPython.core.display.Javascript object>"
            ],
            "application/javascript": [
              "\n",
              "    async function download(id, filename, size) {\n",
              "      if (!google.colab.kernel.accessAllowed) {\n",
              "        return;\n",
              "      }\n",
              "      const div = document.createElement('div');\n",
              "      const label = document.createElement('label');\n",
              "      label.textContent = `Downloading \"${filename}\": `;\n",
              "      div.appendChild(label);\n",
              "      const progress = document.createElement('progress');\n",
              "      progress.max = size;\n",
              "      div.appendChild(progress);\n",
              "      document.body.appendChild(div);\n",
              "\n",
              "      const buffers = [];\n",
              "      let downloaded = 0;\n",
              "\n",
              "      const channel = await google.colab.kernel.comms.open(id);\n",
              "      // Send a message to notify the kernel that we're ready.\n",
              "      channel.send({})\n",
              "\n",
              "      for await (const message of channel.messages) {\n",
              "        // Send a message to notify the kernel that we're ready.\n",
              "        channel.send({})\n",
              "        if (message.buffers) {\n",
              "          for (const buffer of message.buffers) {\n",
              "            buffers.push(buffer);\n",
              "            downloaded += buffer.byteLength;\n",
              "            progress.value = downloaded;\n",
              "          }\n",
              "        }\n",
              "      }\n",
              "      const blob = new Blob(buffers, {type: 'application/binary'});\n",
              "      const a = document.createElement('a');\n",
              "      a.href = window.URL.createObjectURL(blob);\n",
              "      a.download = filename;\n",
              "      div.appendChild(a);\n",
              "      a.click();\n",
              "      div.remove();\n",
              "    }\n",
              "  "
            ]
          },
          "metadata": {}
        },
        {
          "output_type": "display_data",
          "data": {
            "text/plain": [
              "<IPython.core.display.Javascript object>"
            ],
            "application/javascript": [
              "download(\"download_2edbb71f-b6bc-42ba-b350-603dfd2f3575\", \"swimming_cluster.csv\", 202958)"
            ]
          },
          "metadata": {}
        },
        {
          "output_type": "display_data",
          "data": {
            "text/plain": [
              "<IPython.core.display.Javascript object>"
            ],
            "application/javascript": [
              "\n",
              "    async function download(id, filename, size) {\n",
              "      if (!google.colab.kernel.accessAllowed) {\n",
              "        return;\n",
              "      }\n",
              "      const div = document.createElement('div');\n",
              "      const label = document.createElement('label');\n",
              "      label.textContent = `Downloading \"${filename}\": `;\n",
              "      div.appendChild(label);\n",
              "      const progress = document.createElement('progress');\n",
              "      progress.max = size;\n",
              "      div.appendChild(progress);\n",
              "      document.body.appendChild(div);\n",
              "\n",
              "      const buffers = [];\n",
              "      let downloaded = 0;\n",
              "\n",
              "      const channel = await google.colab.kernel.comms.open(id);\n",
              "      // Send a message to notify the kernel that we're ready.\n",
              "      channel.send({})\n",
              "\n",
              "      for await (const message of channel.messages) {\n",
              "        // Send a message to notify the kernel that we're ready.\n",
              "        channel.send({})\n",
              "        if (message.buffers) {\n",
              "          for (const buffer of message.buffers) {\n",
              "            buffers.push(buffer);\n",
              "            downloaded += buffer.byteLength;\n",
              "            progress.value = downloaded;\n",
              "          }\n",
              "        }\n",
              "      }\n",
              "      const blob = new Blob(buffers, {type: 'application/binary'});\n",
              "      const a = document.createElement('a');\n",
              "      a.href = window.URL.createObjectURL(blob);\n",
              "      a.download = filename;\n",
              "      div.appendChild(a);\n",
              "      a.click();\n",
              "      div.remove();\n",
              "    }\n",
              "  "
            ]
          },
          "metadata": {}
        },
        {
          "output_type": "display_data",
          "data": {
            "text/plain": [
              "<IPython.core.display.Javascript object>"
            ],
            "application/javascript": [
              "download(\"download_d1ace59d-7cc2-4446-9dd4-de1904697158\", \"walking_cluster.csv\", 1474972)"
            ]
          },
          "metadata": {}
        },
        {
          "output_type": "display_data",
          "data": {
            "text/plain": [
              "<IPython.core.display.Javascript object>"
            ],
            "application/javascript": [
              "\n",
              "    async function download(id, filename, size) {\n",
              "      if (!google.colab.kernel.accessAllowed) {\n",
              "        return;\n",
              "      }\n",
              "      const div = document.createElement('div');\n",
              "      const label = document.createElement('label');\n",
              "      label.textContent = `Downloading \"${filename}\": `;\n",
              "      div.appendChild(label);\n",
              "      const progress = document.createElement('progress');\n",
              "      progress.max = size;\n",
              "      div.appendChild(progress);\n",
              "      document.body.appendChild(div);\n",
              "\n",
              "      const buffers = [];\n",
              "      let downloaded = 0;\n",
              "\n",
              "      const channel = await google.colab.kernel.comms.open(id);\n",
              "      // Send a message to notify the kernel that we're ready.\n",
              "      channel.send({})\n",
              "\n",
              "      for await (const message of channel.messages) {\n",
              "        // Send a message to notify the kernel that we're ready.\n",
              "        channel.send({})\n",
              "        if (message.buffers) {\n",
              "          for (const buffer of message.buffers) {\n",
              "            buffers.push(buffer);\n",
              "            downloaded += buffer.byteLength;\n",
              "            progress.value = downloaded;\n",
              "          }\n",
              "        }\n",
              "      }\n",
              "      const blob = new Blob(buffers, {type: 'application/binary'});\n",
              "      const a = document.createElement('a');\n",
              "      a.href = window.URL.createObjectURL(blob);\n",
              "      a.download = filename;\n",
              "      div.appendChild(a);\n",
              "      a.click();\n",
              "      div.remove();\n",
              "    }\n",
              "  "
            ]
          },
          "metadata": {}
        },
        {
          "output_type": "display_data",
          "data": {
            "text/plain": [
              "<IPython.core.display.Javascript object>"
            ],
            "application/javascript": [
              "download(\"download_5a98ab06-bfdb-47a6-b8e0-6020225afd92\", \"yoga_cluster.csv\", 459038)"
            ]
          },
          "metadata": {}
        },
        {
          "output_type": "display_data",
          "data": {
            "text/plain": [
              "<IPython.core.display.Javascript object>"
            ],
            "application/javascript": [
              "\n",
              "    async function download(id, filename, size) {\n",
              "      if (!google.colab.kernel.accessAllowed) {\n",
              "        return;\n",
              "      }\n",
              "      const div = document.createElement('div');\n",
              "      const label = document.createElement('label');\n",
              "      label.textContent = `Downloading \"${filename}\": `;\n",
              "      div.appendChild(label);\n",
              "      const progress = document.createElement('progress');\n",
              "      progress.max = size;\n",
              "      div.appendChild(progress);\n",
              "      document.body.appendChild(div);\n",
              "\n",
              "      const buffers = [];\n",
              "      let downloaded = 0;\n",
              "\n",
              "      const channel = await google.colab.kernel.comms.open(id);\n",
              "      // Send a message to notify the kernel that we're ready.\n",
              "      channel.send({})\n",
              "\n",
              "      for await (const message of channel.messages) {\n",
              "        // Send a message to notify the kernel that we're ready.\n",
              "        channel.send({})\n",
              "        if (message.buffers) {\n",
              "          for (const buffer of message.buffers) {\n",
              "            buffers.push(buffer);\n",
              "            downloaded += buffer.byteLength;\n",
              "            progress.value = downloaded;\n",
              "          }\n",
              "        }\n",
              "      }\n",
              "      const blob = new Blob(buffers, {type: 'application/binary'});\n",
              "      const a = document.createElement('a');\n",
              "      a.href = window.URL.createObjectURL(blob);\n",
              "      a.download = filename;\n",
              "      div.appendChild(a);\n",
              "      a.click();\n",
              "      div.remove();\n",
              "    }\n",
              "  "
            ]
          },
          "metadata": {}
        },
        {
          "output_type": "display_data",
          "data": {
            "text/plain": [
              "<IPython.core.display.Javascript object>"
            ],
            "application/javascript": [
              "download(\"download_d383fef0-0e1a-4e98-a07b-fab80c3d9f6b\", \"workout_cluster.csv\", 644531)"
            ]
          },
          "metadata": {}
        }
      ]
    },
    {
      "cell_type": "markdown",
      "source": [
        "Import du fichier avec les clusters pour chaque sport\n"
      ],
      "metadata": {
        "id": "YQQXnPJjhOEh"
      }
    },
    {
      "cell_type": "code",
      "source": [
        "dftot = pd.read_csv(\"/content/cluster_chaque_sport sans sorties par mois - data totale.csv\")\n",
        "dftot.set_index(\"utilisateur\", inplace = True)\n",
        "dftotbis = dftot.copy()\n",
        "scaler = StandardScaler()\n",
        "dftot_standard = scaler.fit_transform(dftotbis)\n",
        "dftot_standard = pd.DataFrame(dftot_standard, index= dftotbis.index, columns=dftotbis.columns)"
      ],
      "metadata": {
        "id": "iedLmZtqhORY"
      },
      "execution_count": null,
      "outputs": []
    },
    {
      "cell_type": "markdown",
      "source": [
        "Methode du coude pour le tableau avec les clusters pour chaque sport"
      ],
      "metadata": {
        "id": "2PjxMFNKhHft"
      }
    },
    {
      "cell_type": "code",
      "source": [
        "# Extraction des données de la dataframe\n",
        "X = dftot_standard.values\n",
        "\n",
        "# Normalisation des données\n",
        "scaler = StandardScaler()\n",
        "X = scaler.fit_transform(X)\n",
        "\n",
        "# Liste des valeurs de K à tester\n",
        "K = range(1, 10)\n",
        "\n",
        "# Liste des valeurs des variances intra-cluster pour chaque K\n",
        "inertias = []\n",
        "\n",
        "for k in K:\n",
        "    # Créer un modèle de KMeans pour chaque K\n",
        "    model = KMeans(n_clusters=k)\n",
        "\n",
        "    # Ajuster le modèle aux données\n",
        "    model.fit(X)\n",
        "\n",
        "    # Ajouter l'inertie (variance intra-cluster) à la liste\n",
        "    inertias.append(model.inertia_)\n",
        "\n",
        "# Tracer le graphique de la méthode du coude\n",
        "plt.plot(K, inertias, 'bx-')\n",
        "plt.xlabel('Nombre de clusters (K)')\n",
        "plt.ylabel('Variance intra-cluster')\n",
        "plt.title(\"Méthode du coude pour déterminer le nombre optimal de clusters\")\n",
        "plt.show()"
      ],
      "metadata": {
        "id": "bo8kVPmihH-I"
      },
      "execution_count": null,
      "outputs": []
    },
    {
      "cell_type": "markdown",
      "source": [
        "Clustering du tableau avec les clusters pour chaque sport\n",
        "\n"
      ],
      "metadata": {
        "id": "BYg6TVHjhIPI"
      }
    },
    {
      "cell_type": "code",
      "source": [
        "# Choisir le nombre de clusters (k)\n",
        "k = 5\n",
        "\n",
        "# Sélectionner les colonnes sur lesquelles faire le clustering\n",
        "cols = [dftot_standard.columns[0],dftot_standard.columns[1]]\n",
        "\n",
        "# Sélectionner les données pour le clustering\n",
        "data = dftot_standard[cols]\n",
        "\n",
        "# Initialiser le modèle de clustering\n",
        "kmeans = KMeans(n_clusters=k, random_state=0)\n",
        "\n",
        "# Effectuer le clustering\n",
        "kmeans.fit(data)\n",
        "\n",
        "# Ajouter une colonne \"cluster\" à votre tableau de données\n",
        "dftot_standard[\"total_cluster\"] = kmeans.labels_\n",
        "dftotbis[\"total_cluster\"] = kmeans.labels_\n",
        "\n",
        "# Afficher le tableau de données avec la colonne \"cluster\"\n",
        "#df6_standard.head()\n",
        "stats = dftotbis.groupby('total_cluster').agg(['mean', 'median', 'var', 'std'])\n",
        "#stats\n",
        "comptage = dftotbis['total_cluster'].value_counts()\n",
        "comptage"
      ],
      "metadata": {
        "id": "tRW49xm4hIZX"
      },
      "execution_count": null,
      "outputs": []
    },
    {
      "cell_type": "markdown",
      "source": [
        "Export du fichier avec les clusters pour chaque sport"
      ],
      "metadata": {
        "id": "iz05NYwahZ0-"
      }
    },
    {
      "cell_type": "code",
      "source": [
        "dftotbis.to_csv('total_cluster_sans_sorties_mois.csv', index=True)\n",
        "files.download('total_cluster_sans_sorties_mois.csv')"
      ],
      "metadata": {
        "colab": {
          "base_uri": "https://localhost:8080/",
          "height": 17
        },
        "id": "akO1JQrOhaEE",
        "outputId": "cf00e445-adff-4910-d6b3-b558a2f4c8a0"
      },
      "execution_count": null,
      "outputs": [
        {
          "output_type": "display_data",
          "data": {
            "text/plain": [
              "<IPython.core.display.Javascript object>"
            ],
            "application/javascript": [
              "\n",
              "    async function download(id, filename, size) {\n",
              "      if (!google.colab.kernel.accessAllowed) {\n",
              "        return;\n",
              "      }\n",
              "      const div = document.createElement('div');\n",
              "      const label = document.createElement('label');\n",
              "      label.textContent = `Downloading \"${filename}\": `;\n",
              "      div.appendChild(label);\n",
              "      const progress = document.createElement('progress');\n",
              "      progress.max = size;\n",
              "      div.appendChild(progress);\n",
              "      document.body.appendChild(div);\n",
              "\n",
              "      const buffers = [];\n",
              "      let downloaded = 0;\n",
              "\n",
              "      const channel = await google.colab.kernel.comms.open(id);\n",
              "      // Send a message to notify the kernel that we're ready.\n",
              "      channel.send({})\n",
              "\n",
              "      for await (const message of channel.messages) {\n",
              "        // Send a message to notify the kernel that we're ready.\n",
              "        channel.send({})\n",
              "        if (message.buffers) {\n",
              "          for (const buffer of message.buffers) {\n",
              "            buffers.push(buffer);\n",
              "            downloaded += buffer.byteLength;\n",
              "            progress.value = downloaded;\n",
              "          }\n",
              "        }\n",
              "      }\n",
              "      const blob = new Blob(buffers, {type: 'application/binary'});\n",
              "      const a = document.createElement('a');\n",
              "      a.href = window.URL.createObjectURL(blob);\n",
              "      a.download = filename;\n",
              "      div.appendChild(a);\n",
              "      a.click();\n",
              "      div.remove();\n",
              "    }\n",
              "  "
            ]
          },
          "metadata": {}
        },
        {
          "output_type": "display_data",
          "data": {
            "text/plain": [
              "<IPython.core.display.Javascript object>"
            ],
            "application/javascript": [
              "download(\"download_3d3ef47a-c0c4-417a-bd10-cb1028fd400d\", \"total_cluster_sans_sorties_mois.csv\", 1874079)"
            ]
          },
          "metadata": {}
        }
      ]
    }
  ]
}