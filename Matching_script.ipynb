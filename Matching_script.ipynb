{
  "nbformat": 4,
  "nbformat_minor": 0,
  "metadata": {
    "colab": {
      "provenance": [],
      "collapsed_sections": [
        "1eJIPL6fD4Dw",
        "oh8rhjKPD8qn",
        "4br0NqpqFMX2",
        "eTlYbybWo8cV",
        "zTyYDaBnwE40",
        "KKKYwFsM4vTJ",
        "h179q7tPEKCP",
        "NZr2Vp175k1U",
        "PbTIzEqGq9eC",
        "Vo6qz14wyAQu",
        "j5CJKVnpET35",
        "8AyKAuNHwlWh"
      ]
    },
    "kernelspec": {
      "name": "python3",
      "display_name": "Python 3"
    },
    "language_info": {
      "name": "python"
    }
  },
  "cells": [
    {
      "cell_type": "markdown",
      "source": [
        "## Import des bibliothèques utiles"
      ],
      "metadata": {
        "id": "1eJIPL6fD4Dw"
      }
    },
    {
      "cell_type": "code",
      "execution_count": null,
      "metadata": {
        "id": "r7MvZfwPDi2C"
      },
      "outputs": [],
      "source": [
        "import pandas as pd\n",
        "from sklearn.cluster import KMeans\n",
        "import matplotlib.pyplot as plt\n",
        "from sklearn.preprocessing import StandardScaler\n",
        "from google.colab import files\n",
        "from sklearn.linear_model import LogisticRegression\n",
        "from sklearn.metrics import classification_report, confusion_matrix, accuracy_score\n",
        "from sklearn.decomposition import PCA\n",
        "from sklearn.feature_selection import SelectKBest, f_classif\n",
        "from sklearn.ensemble import RandomForestRegressor\n",
        "from sklearn.linear_model import LinearRegression\n",
        "from sklearn.model_selection import train_test_split\n",
        "from sklearn.metrics import mean_squared_error\n",
        "import numpy as np\n",
        "import seaborn as sns\n",
        "from datetime import datetime, timedelta\n",
        "from dateutil.relativedelta import relativedelta\n",
        "from scipy.stats import linregress"
      ]
    },
    {
      "cell_type": "markdown",
      "source": [
        "## Import des datasets"
      ],
      "metadata": {
        "id": "oh8rhjKPD8qn"
      }
    },
    {
      "cell_type": "code",
      "source": [
        "# All interactions\n",
        "df_all_interactions = pd.read_csv(\"/content/Copy of MessageAnalysis - Dataset compilation - All interactions.csv\")\n",
        "df_all_interactions_bis = df_all_interactions.copy()\n",
        "# Users\n",
        "df_users = pd.read_csv(\"/content/Copy of MessageAnalysis - Dataset compilation - Users bis.csv\")\n",
        "df_users_bis = df_users.copy()\n",
        "# Users per group\n",
        "df_users_per_group = pd.read_csv(\"/content/Copy of MessageAnalysis - Dataset compilation - users per groups.csv\")\n",
        "df_users_per_group_bis = df_users_per_group.copy()\n",
        "# Users per tribe\n",
        "df_users_per_tribe = pd.read_csv(\"/content/Copy of MessageAnalysis - Dataset compilation - users per tribe.csv\")\n",
        "df_users_per_tribe_bis = df_users_per_tribe.copy()\n",
        "# Companies\n",
        "df_companies = pd.read_csv(\"/content/Copy of MessageAnalysis - Dataset compilation - companies data.csv\")\n",
        "df_companies_bis = df_companies.copy()"
      ],
      "metadata": {
        "id": "njGy4Ve7D8yv",
        "colab": {
          "base_uri": "https://localhost:8080/",
          "height": 258
        },
        "outputId": "631b47f6-bfca-4553-d109-d135fe2bb093"
      },
      "execution_count": null,
      "outputs": [
        {
          "output_type": "error",
          "ename": "NameError",
          "evalue": "ignored",
          "traceback": [
            "\u001b[0;31m---------------------------------------------------------------------------\u001b[0m",
            "\u001b[0;31mNameError\u001b[0m                                 Traceback (most recent call last)",
            "\u001b[0;32m<ipython-input-1-decdeb55a432>\u001b[0m in \u001b[0;36m<cell line: 2>\u001b[0;34m()\u001b[0m\n\u001b[1;32m      1\u001b[0m \u001b[0;31m# All interactions\u001b[0m\u001b[0;34m\u001b[0m\u001b[0;34m\u001b[0m\u001b[0m\n\u001b[0;32m----> 2\u001b[0;31m \u001b[0mdf_all_interactions\u001b[0m \u001b[0;34m=\u001b[0m \u001b[0mpd\u001b[0m\u001b[0;34m.\u001b[0m\u001b[0mread_csv\u001b[0m\u001b[0;34m(\u001b[0m\u001b[0;34m\"/content/Copy of MessageAnalysis - Dataset compilation - All interactions.csv\"\u001b[0m\u001b[0;34m)\u001b[0m\u001b[0;34m\u001b[0m\u001b[0;34m\u001b[0m\u001b[0m\n\u001b[0m\u001b[1;32m      3\u001b[0m \u001b[0mdf_all_interactions_bis\u001b[0m \u001b[0;34m=\u001b[0m \u001b[0mdf_all_interactions\u001b[0m\u001b[0;34m.\u001b[0m\u001b[0mcopy\u001b[0m\u001b[0;34m(\u001b[0m\u001b[0;34m)\u001b[0m\u001b[0;34m\u001b[0m\u001b[0;34m\u001b[0m\u001b[0m\n\u001b[1;32m      4\u001b[0m \u001b[0;31m# Users\u001b[0m\u001b[0;34m\u001b[0m\u001b[0;34m\u001b[0m\u001b[0m\n\u001b[1;32m      5\u001b[0m \u001b[0mdf_users\u001b[0m \u001b[0;34m=\u001b[0m \u001b[0mpd\u001b[0m\u001b[0;34m.\u001b[0m\u001b[0mread_csv\u001b[0m\u001b[0;34m(\u001b[0m\u001b[0;34m\"/content/Copy of MessageAnalysis - Dataset compilation - Users bis.csv\"\u001b[0m\u001b[0;34m)\u001b[0m\u001b[0;34m\u001b[0m\u001b[0;34m\u001b[0m\u001b[0m\n",
            "\u001b[0;31mNameError\u001b[0m: name 'pd' is not defined"
          ]
        }
      ]
    },
    {
      "cell_type": "markdown",
      "source": [
        "## Visualisation des datasets"
      ],
      "metadata": {
        "id": "4br0NqpqFMX2"
      }
    },
    {
      "cell_type": "markdown",
      "source": [
        "*5 premières lignes*"
      ],
      "metadata": {
        "id": "D3lYiC_iGq78"
      }
    },
    {
      "cell_type": "code",
      "source": [
        "df_users_per_group_test.head()"
      ],
      "metadata": {
        "colab": {
          "base_uri": "https://localhost:8080/",
          "height": 421
        },
        "id": "8oPACg_BFMiz",
        "outputId": "deb6f726-824a-4049-e583-9d5d0e8b36e3"
      },
      "execution_count": null,
      "outputs": [
        {
          "output_type": "execute_result",
          "data": {
            "text/plain": [
              "            lowest_level_id                level_0_id  \\\n",
              "0  58aea22cbf4d1db14a862976  58aea22cbf4d1db14a862976   \n",
              "1  58aea22cbf4d1db14a862976  58aea22cbf4d1db14a862976   \n",
              "2  58aea22cbf4d1db14a862976  58aea22cbf4d1db14a862976   \n",
              "3  58aea22cbf4d1db14a862976  58aea22cbf4d1db14a862976   \n",
              "4  58aea22cbf4d1db14a862976  58aea22cbf4d1db14a862976   \n",
              "\n",
              "                 level_1_id  quarter    month year_month  month_rank  \\\n",
              "0  58aea22cbf4d1db14a862976  2022-Q1  2022-01 2022-01-01           1   \n",
              "1  58aea22cbf4d1db14a862976  2022-Q1  2022-02 2022-02-01           1   \n",
              "2  58aea22cbf4d1db14a862976  2022-Q1  2022-03 2022-03-01           1   \n",
              "3  58aea22cbf4d1db14a862976  2022-Q2  2022-04 2022-04-01           1   \n",
              "4  58aea22cbf4d1db14a862976  2022-Q2  2022-05 2022-05-01           1   \n",
              "\n",
              "   registered     Name Total Employees  ... Company_Language  \\\n",
              "0          12  No_data         No_data  ...          No_data   \n",
              "1          12  No_data         No_data  ...          No_data   \n",
              "2          12  No_data         No_data  ...          No_data   \n",
              "3          12  No_data         No_data  ...          No_data   \n",
              "4          12  No_data         No_data  ...          No_data   \n",
              "\n",
              "  Max Potential Users interactions_per_month posts_per_month  \\\n",
              "0             No_data                    0.0             0.0   \n",
              "1             No_data                    0.0             0.0   \n",
              "2             No_data                    0.0             0.0   \n",
              "3             No_data                    0.0             0.0   \n",
              "4             No_data                    0.0             0.0   \n",
              "\n",
              "   comments_per_month  reactions_per_month  distinct_users_per_month  \\\n",
              "0                 0.0                  0.0                       0.0   \n",
              "1                 0.0                  0.0                       0.0   \n",
              "2                 0.0                  0.0                       0.0   \n",
              "3                 0.0                  0.0                       0.0   \n",
              "4                 0.0                  0.0                       0.0   \n",
              "\n",
              "   users+2_interactions  is_active  consecutive_active_months  \n",
              "0                   0.0          0                          0  \n",
              "1                   0.0          0                          0  \n",
              "2                   0.0          0                          0  \n",
              "3                   0.0          0                          0  \n",
              "4                   0.0          0                          0  \n",
              "\n",
              "[5 rows x 22 columns]"
            ],
            "text/html": [
              "\n",
              "  <div id=\"df-d7d0c158-91c6-42a2-8ad3-b75cf689ee6d\">\n",
              "    <div class=\"colab-df-container\">\n",
              "      <div>\n",
              "<style scoped>\n",
              "    .dataframe tbody tr th:only-of-type {\n",
              "        vertical-align: middle;\n",
              "    }\n",
              "\n",
              "    .dataframe tbody tr th {\n",
              "        vertical-align: top;\n",
              "    }\n",
              "\n",
              "    .dataframe thead th {\n",
              "        text-align: right;\n",
              "    }\n",
              "</style>\n",
              "<table border=\"1\" class=\"dataframe\">\n",
              "  <thead>\n",
              "    <tr style=\"text-align: right;\">\n",
              "      <th></th>\n",
              "      <th>lowest_level_id</th>\n",
              "      <th>level_0_id</th>\n",
              "      <th>level_1_id</th>\n",
              "      <th>quarter</th>\n",
              "      <th>month</th>\n",
              "      <th>year_month</th>\n",
              "      <th>month_rank</th>\n",
              "      <th>registered</th>\n",
              "      <th>Name</th>\n",
              "      <th>Total Employees</th>\n",
              "      <th>...</th>\n",
              "      <th>Company_Language</th>\n",
              "      <th>Max Potential Users</th>\n",
              "      <th>interactions_per_month</th>\n",
              "      <th>posts_per_month</th>\n",
              "      <th>comments_per_month</th>\n",
              "      <th>reactions_per_month</th>\n",
              "      <th>distinct_users_per_month</th>\n",
              "      <th>users+2_interactions</th>\n",
              "      <th>is_active</th>\n",
              "      <th>consecutive_active_months</th>\n",
              "    </tr>\n",
              "  </thead>\n",
              "  <tbody>\n",
              "    <tr>\n",
              "      <th>0</th>\n",
              "      <td>58aea22cbf4d1db14a862976</td>\n",
              "      <td>58aea22cbf4d1db14a862976</td>\n",
              "      <td>58aea22cbf4d1db14a862976</td>\n",
              "      <td>2022-Q1</td>\n",
              "      <td>2022-01</td>\n",
              "      <td>2022-01-01</td>\n",
              "      <td>1</td>\n",
              "      <td>12</td>\n",
              "      <td>No_data</td>\n",
              "      <td>No_data</td>\n",
              "      <td>...</td>\n",
              "      <td>No_data</td>\n",
              "      <td>No_data</td>\n",
              "      <td>0.0</td>\n",
              "      <td>0.0</td>\n",
              "      <td>0.0</td>\n",
              "      <td>0.0</td>\n",
              "      <td>0.0</td>\n",
              "      <td>0.0</td>\n",
              "      <td>0</td>\n",
              "      <td>0</td>\n",
              "    </tr>\n",
              "    <tr>\n",
              "      <th>1</th>\n",
              "      <td>58aea22cbf4d1db14a862976</td>\n",
              "      <td>58aea22cbf4d1db14a862976</td>\n",
              "      <td>58aea22cbf4d1db14a862976</td>\n",
              "      <td>2022-Q1</td>\n",
              "      <td>2022-02</td>\n",
              "      <td>2022-02-01</td>\n",
              "      <td>1</td>\n",
              "      <td>12</td>\n",
              "      <td>No_data</td>\n",
              "      <td>No_data</td>\n",
              "      <td>...</td>\n",
              "      <td>No_data</td>\n",
              "      <td>No_data</td>\n",
              "      <td>0.0</td>\n",
              "      <td>0.0</td>\n",
              "      <td>0.0</td>\n",
              "      <td>0.0</td>\n",
              "      <td>0.0</td>\n",
              "      <td>0.0</td>\n",
              "      <td>0</td>\n",
              "      <td>0</td>\n",
              "    </tr>\n",
              "    <tr>\n",
              "      <th>2</th>\n",
              "      <td>58aea22cbf4d1db14a862976</td>\n",
              "      <td>58aea22cbf4d1db14a862976</td>\n",
              "      <td>58aea22cbf4d1db14a862976</td>\n",
              "      <td>2022-Q1</td>\n",
              "      <td>2022-03</td>\n",
              "      <td>2022-03-01</td>\n",
              "      <td>1</td>\n",
              "      <td>12</td>\n",
              "      <td>No_data</td>\n",
              "      <td>No_data</td>\n",
              "      <td>...</td>\n",
              "      <td>No_data</td>\n",
              "      <td>No_data</td>\n",
              "      <td>0.0</td>\n",
              "      <td>0.0</td>\n",
              "      <td>0.0</td>\n",
              "      <td>0.0</td>\n",
              "      <td>0.0</td>\n",
              "      <td>0.0</td>\n",
              "      <td>0</td>\n",
              "      <td>0</td>\n",
              "    </tr>\n",
              "    <tr>\n",
              "      <th>3</th>\n",
              "      <td>58aea22cbf4d1db14a862976</td>\n",
              "      <td>58aea22cbf4d1db14a862976</td>\n",
              "      <td>58aea22cbf4d1db14a862976</td>\n",
              "      <td>2022-Q2</td>\n",
              "      <td>2022-04</td>\n",
              "      <td>2022-04-01</td>\n",
              "      <td>1</td>\n",
              "      <td>12</td>\n",
              "      <td>No_data</td>\n",
              "      <td>No_data</td>\n",
              "      <td>...</td>\n",
              "      <td>No_data</td>\n",
              "      <td>No_data</td>\n",
              "      <td>0.0</td>\n",
              "      <td>0.0</td>\n",
              "      <td>0.0</td>\n",
              "      <td>0.0</td>\n",
              "      <td>0.0</td>\n",
              "      <td>0.0</td>\n",
              "      <td>0</td>\n",
              "      <td>0</td>\n",
              "    </tr>\n",
              "    <tr>\n",
              "      <th>4</th>\n",
              "      <td>58aea22cbf4d1db14a862976</td>\n",
              "      <td>58aea22cbf4d1db14a862976</td>\n",
              "      <td>58aea22cbf4d1db14a862976</td>\n",
              "      <td>2022-Q2</td>\n",
              "      <td>2022-05</td>\n",
              "      <td>2022-05-01</td>\n",
              "      <td>1</td>\n",
              "      <td>12</td>\n",
              "      <td>No_data</td>\n",
              "      <td>No_data</td>\n",
              "      <td>...</td>\n",
              "      <td>No_data</td>\n",
              "      <td>No_data</td>\n",
              "      <td>0.0</td>\n",
              "      <td>0.0</td>\n",
              "      <td>0.0</td>\n",
              "      <td>0.0</td>\n",
              "      <td>0.0</td>\n",
              "      <td>0.0</td>\n",
              "      <td>0</td>\n",
              "      <td>0</td>\n",
              "    </tr>\n",
              "  </tbody>\n",
              "</table>\n",
              "<p>5 rows × 22 columns</p>\n",
              "</div>\n",
              "      <button class=\"colab-df-convert\" onclick=\"convertToInteractive('df-d7d0c158-91c6-42a2-8ad3-b75cf689ee6d')\"\n",
              "              title=\"Convert this dataframe to an interactive table.\"\n",
              "              style=\"display:none;\">\n",
              "        \n",
              "  <svg xmlns=\"http://www.w3.org/2000/svg\" height=\"24px\"viewBox=\"0 0 24 24\"\n",
              "       width=\"24px\">\n",
              "    <path d=\"M0 0h24v24H0V0z\" fill=\"none\"/>\n",
              "    <path d=\"M18.56 5.44l.94 2.06.94-2.06 2.06-.94-2.06-.94-.94-2.06-.94 2.06-2.06.94zm-11 1L8.5 8.5l.94-2.06 2.06-.94-2.06-.94L8.5 2.5l-.94 2.06-2.06.94zm10 10l.94 2.06.94-2.06 2.06-.94-2.06-.94-.94-2.06-.94 2.06-2.06.94z\"/><path d=\"M17.41 7.96l-1.37-1.37c-.4-.4-.92-.59-1.43-.59-.52 0-1.04.2-1.43.59L10.3 9.45l-7.72 7.72c-.78.78-.78 2.05 0 2.83L4 21.41c.39.39.9.59 1.41.59.51 0 1.02-.2 1.41-.59l7.78-7.78 2.81-2.81c.8-.78.8-2.07 0-2.86zM5.41 20L4 18.59l7.72-7.72 1.47 1.35L5.41 20z\"/>\n",
              "  </svg>\n",
              "      </button>\n",
              "      \n",
              "  <style>\n",
              "    .colab-df-container {\n",
              "      display:flex;\n",
              "      flex-wrap:wrap;\n",
              "      gap: 12px;\n",
              "    }\n",
              "\n",
              "    .colab-df-convert {\n",
              "      background-color: #E8F0FE;\n",
              "      border: none;\n",
              "      border-radius: 50%;\n",
              "      cursor: pointer;\n",
              "      display: none;\n",
              "      fill: #1967D2;\n",
              "      height: 32px;\n",
              "      padding: 0 0 0 0;\n",
              "      width: 32px;\n",
              "    }\n",
              "\n",
              "    .colab-df-convert:hover {\n",
              "      background-color: #E2EBFA;\n",
              "      box-shadow: 0px 1px 2px rgba(60, 64, 67, 0.3), 0px 1px 3px 1px rgba(60, 64, 67, 0.15);\n",
              "      fill: #174EA6;\n",
              "    }\n",
              "\n",
              "    [theme=dark] .colab-df-convert {\n",
              "      background-color: #3B4455;\n",
              "      fill: #D2E3FC;\n",
              "    }\n",
              "\n",
              "    [theme=dark] .colab-df-convert:hover {\n",
              "      background-color: #434B5C;\n",
              "      box-shadow: 0px 1px 3px 1px rgba(0, 0, 0, 0.15);\n",
              "      filter: drop-shadow(0px 1px 2px rgba(0, 0, 0, 0.3));\n",
              "      fill: #FFFFFF;\n",
              "    }\n",
              "  </style>\n",
              "\n",
              "      <script>\n",
              "        const buttonEl =\n",
              "          document.querySelector('#df-d7d0c158-91c6-42a2-8ad3-b75cf689ee6d button.colab-df-convert');\n",
              "        buttonEl.style.display =\n",
              "          google.colab.kernel.accessAllowed ? 'block' : 'none';\n",
              "\n",
              "        async function convertToInteractive(key) {\n",
              "          const element = document.querySelector('#df-d7d0c158-91c6-42a2-8ad3-b75cf689ee6d');\n",
              "          const dataTable =\n",
              "            await google.colab.kernel.invokeFunction('convertToInteractive',\n",
              "                                                     [key], {});\n",
              "          if (!dataTable) return;\n",
              "\n",
              "          const docLinkHtml = 'Like what you see? Visit the ' +\n",
              "            '<a target=\"_blank\" href=https://colab.research.google.com/notebooks/data_table.ipynb>data table notebook</a>'\n",
              "            + ' to learn more about interactive tables.';\n",
              "          element.innerHTML = '';\n",
              "          dataTable['output_type'] = 'display_data';\n",
              "          await google.colab.output.renderOutput(dataTable, element);\n",
              "          const docLink = document.createElement('div');\n",
              "          docLink.innerHTML = docLinkHtml;\n",
              "          element.appendChild(docLink);\n",
              "        }\n",
              "      </script>\n",
              "    </div>\n",
              "  </div>\n",
              "  "
            ]
          },
          "metadata": {},
          "execution_count": 53
        }
      ]
    },
    {
      "cell_type": "markdown",
      "source": [
        "*Tout le dataset*"
      ],
      "metadata": {
        "id": "AFK8oqgXGySD"
      }
    },
    {
      "cell_type": "code",
      "source": [
        "print(df_users_per_group_test)"
      ],
      "metadata": {
        "id": "Hr9TYMb4FTU-"
      },
      "execution_count": null,
      "outputs": []
    },
    {
      "cell_type": "markdown",
      "source": [
        "*Affiche des informations sur les données d'un dataframe, telles que le nombre de valeurs non nulles, le type de données de chaque colonne, etc.*"
      ],
      "metadata": {
        "id": "zKXg0RttG7B8"
      }
    },
    {
      "cell_type": "code",
      "source": [
        "df_users_per_group_test.info()"
      ],
      "metadata": {
        "id": "e0f26S5XFyvw",
        "colab": {
          "base_uri": "https://localhost:8080/"
        },
        "outputId": "0b347b6d-ff26-408c-fa4d-f7a15cfad023"
      },
      "execution_count": null,
      "outputs": [
        {
          "output_type": "stream",
          "name": "stdout",
          "text": [
            "<class 'pandas.core.frame.DataFrame'>\n",
            "Int64Index: 121263 entries, 0 to 121262\n",
            "Data columns (total 22 columns):\n",
            " #   Column                     Non-Null Count   Dtype  \n",
            "---  ------                     --------------   -----  \n",
            " 0   lowest_level_id            121263 non-null  object \n",
            " 1   level_0_id                 121263 non-null  object \n",
            " 2   level_1_id                 121263 non-null  object \n",
            " 3   quarter                    121263 non-null  object \n",
            " 4   month                      121263 non-null  object \n",
            " 5   year_month                 121263 non-null  object \n",
            " 6   month_rank                 121263 non-null  int64  \n",
            " 7   registered                 121263 non-null  int64  \n",
            " 8   Name                       121263 non-null  object \n",
            " 9   Total Employees            121263 non-null  object \n",
            " 10  Account Category           121263 non-null  object \n",
            " 11  Total registered users     121263 non-null  object \n",
            " 12  Company_Language           121263 non-null  object \n",
            " 13  Max Potential Users        121263 non-null  object \n",
            " 14  interactions_per_month     121263 non-null  float64\n",
            " 15  posts_per_month            121263 non-null  float64\n",
            " 16  comments_per_month         121263 non-null  float64\n",
            " 17  reactions_per_month        121263 non-null  float64\n",
            " 18  distinct_users_per_month   121263 non-null  float64\n",
            " 19  users+2_interactions       121263 non-null  float64\n",
            " 20  is_active                  121263 non-null  int64  \n",
            " 21  consecutive_active_months  121263 non-null  int64  \n",
            "dtypes: float64(6), int64(4), object(12)\n",
            "memory usage: 25.3+ MB\n"
          ]
        }
      ]
    },
    {
      "cell_type": "markdown",
      "source": [
        "*fournit des statistiques descriptives sur les colonnes numériques d'un dataframe, telles que la moyenne, l'écart-type, les quartiles, etc.*"
      ],
      "metadata": {
        "id": "Xg05T74FHBB1"
      }
    },
    {
      "cell_type": "code",
      "source": [
        "df_users_per_group_test.describe()"
      ],
      "metadata": {
        "id": "E_qhoQ-JF6Zi"
      },
      "execution_count": null,
      "outputs": []
    },
    {
      "cell_type": "markdown",
      "source": [
        "*Dimensions du dataset*"
      ],
      "metadata": {
        "id": "VsDlvbxjHIT6"
      }
    },
    {
      "cell_type": "code",
      "source": [
        "df_users_per_group_test.shape"
      ],
      "metadata": {
        "id": "4pE3DG-fF8pA",
        "colab": {
          "base_uri": "https://localhost:8080/"
        },
        "outputId": "f8af26d3-7eb4-421d-d778-09b13059c15e"
      },
      "execution_count": null,
      "outputs": [
        {
          "output_type": "execute_result",
          "data": {
            "text/plain": [
              "(121263, 22)"
            ]
          },
          "metadata": {},
          "execution_count": 59
        }
      ]
    },
    {
      "cell_type": "markdown",
      "source": [
        "*Colonnes du dataset*"
      ],
      "metadata": {
        "id": "VLxvZM-qHL5s"
      }
    },
    {
      "cell_type": "code",
      "source": [
        "df_users_per_group_test.columns"
      ],
      "metadata": {
        "id": "vi53pjvdGc7G"
      },
      "execution_count": null,
      "outputs": []
    },
    {
      "cell_type": "markdown",
      "source": [
        "*Nombre de fois qu'une valeur apparaît dans une colonne*"
      ],
      "metadata": {
        "id": "aFSGKho0pKkw"
      }
    },
    {
      "cell_type": "code",
      "source": [
        "df_users_per_group_test[\"Name\"].value_counts()[\"No_data\"]/df_users_per_group_test.shape[0]"
      ],
      "metadata": {
        "colab": {
          "base_uri": "https://localhost:8080/"
        },
        "id": "Pw-0v1k4pJxA",
        "outputId": "edd23ac3-4dcd-480b-b2f4-804bb8da4f6b"
      },
      "execution_count": null,
      "outputs": [
        {
          "output_type": "execute_result",
          "data": {
            "text/plain": [
              "0.08714117249284613"
            ]
          },
          "metadata": {},
          "execution_count": 60
        }
      ]
    },
    {
      "cell_type": "markdown",
      "source": [
        "*Nombre de valeurs nulles par colonne*"
      ],
      "metadata": {
        "id": "x1kI1_EGHPqL"
      }
    },
    {
      "cell_type": "code",
      "source": [
        "#df_users_per_tribe_test.isnull().sum()\n",
        "df_users_per_tribe_test.shape\n",
        "#df_users_per_tribe_test['level_0_id'].value_counts()['no_level_0_found']"
      ],
      "metadata": {
        "id": "rSCbySkHGf-_",
        "colab": {
          "base_uri": "https://localhost:8080/"
        },
        "outputId": "5fdeaa1d-be2c-418b-e032-4efe0ba95e8a"
      },
      "execution_count": null,
      "outputs": [
        {
          "output_type": "execute_result",
          "data": {
            "text/plain": [
              "(11378, 13)"
            ]
          },
          "metadata": {},
          "execution_count": 70
        }
      ]
    },
    {
      "cell_type": "markdown",
      "source": [
        "*Visualisation d'une ligne en particulier*"
      ],
      "metadata": {
        "id": "1tZ5nbywOHM6"
      }
    },
    {
      "cell_type": "code",
      "source": [
        "df_users_per_group_test.iloc[85]"
      ],
      "metadata": {
        "colab": {
          "base_uri": "https://localhost:8080/"
        },
        "id": "r8O918b4OHTi",
        "outputId": "048efc08-a1bc-45e1-dabf-8977499e6797"
      },
      "execution_count": null,
      "outputs": [
        {
          "output_type": "execute_result",
          "data": {
            "text/plain": [
              "lowest_level_id              59ca44b40da688f1ac5caae8\n",
              "level_0_id                   586a5fc47842e79091a53bb5\n",
              "level_1_id                   5e14a5f9ce521d9833c5dbff\n",
              "quarter                                       2023-Q1\n",
              "month                                         2023-01\n",
              "year_month                        2023-01-01 00:00:00\n",
              "month_rank                                          1\n",
              "registered                                          8\n",
              "Name                                     Sport Heroes\n",
              "Total Employees                                    90\n",
              "Account Category                                  SMB\n",
              "Total registered users                            143\n",
              "Company_Language                                   FR\n",
              "Max Potential Users                               250\n",
              "interactions_per_month                            4.0\n",
              "posts_per_month                                   2.0\n",
              "comments_per_month                                2.0\n",
              "reactions_per_month                               0.0\n",
              "distinct_users_per_month                         37.5\n",
              "users+2_interactions                              1.0\n",
              "is_active                                           0\n",
              "consecutive_active_months                           0\n",
              "Name: 85, dtype: object"
            ]
          },
          "metadata": {},
          "execution_count": 125
        }
      ]
    },
    {
      "cell_type": "markdown",
      "source": [
        "## Formatage des datasets (type, colonnes etc)"
      ],
      "metadata": {
        "id": "eTlYbybWo8cV"
      }
    },
    {
      "cell_type": "code",
      "source": [
        "# All interactions\n",
        "df_all_interactions_bis = df_all_interactions_bis.assign(group_id=pd.Series([None]*len(df_all_interactions_bis)), level_0_id=pd.Series([None]*len(df_all_interactions_bis)))\n",
        "df_all_interactions_bis['Date'] = pd.to_datetime(df_all_interactions_bis['Date'])\n",
        "df_all_interactions_bis['year_month'] = pd.to_datetime(df_all_interactions_bis['year_month'])\n",
        "# Users\n",
        "df_users_bis['deleted_at'] = df_users_bis['deleted_at'].fillna('2100-01-01')\n",
        "df_users_bis['deleted_at'] = pd.to_datetime(df_users_bis['deleted_at'])\n",
        "df_users_bis['created_at'] = pd.to_datetime(df_users_bis['created_at'])\n",
        "# Users per group\n",
        "df_users_per_group_bis['year_month'] = pd.to_datetime(df_users_per_group_bis['year_month'])\n",
        "# Users per tribe\n",
        "df_users_per_tribe_bis['year_month'] = pd.to_datetime(df_users_per_tribe_bis['year_month'])"
      ],
      "metadata": {
        "id": "2XAjOtDxo84O"
      },
      "execution_count": null,
      "outputs": []
    },
    {
      "cell_type": "markdown",
      "source": [
        "## Attribution d'un group_id et d'un level_0_id à chaque interaction"
      ],
      "metadata": {
        "id": "zTyYDaBnwE40"
      }
    },
    {
      "cell_type": "code",
      "source": [
        "# Recherche du group_id correspondant à chaque interaction\n",
        "def get_group_id(user_id, date):\n",
        "    user_rows = df_users_bis[df_users_bis[\"user_id\"] == user_id]\n",
        "    if len(user_rows) == 0:\n",
        "        return \"no_group_found\"\n",
        "    elif len(user_rows) == 1:\n",
        "        row = user_rows.iloc[0]\n",
        "        if row[\"created_at\"] <= date and row[\"deleted_at\"] >= date:\n",
        "            return row[\"lowest_level_id\"]\n",
        "        else:\n",
        "            return \"no_group_found\"\n",
        "    else:\n",
        "        valid_rows = user_rows[(user_rows[\"created_at\"] <= date) & ((user_rows[\"deleted_at\"] >= date) | (user_rows[\"deleted_at\"] == \"2100-01-01\"))]\n",
        "        if len(valid_rows) == 0:\n",
        "            return \"no_group_found\"\n",
        "        else:\n",
        "            durations = pd.to_datetime(valid_rows[\"deleted_at\"]) - pd.to_datetime(valid_rows[\"created_at\"])\n",
        "            idx = np.argmax(durations)\n",
        "            return valid_rows.iloc[idx][\"lowest_level_id\"]\n",
        "\n",
        "# Application de la fonction à chaque interaction\n",
        "df_all_interactions_bis[\"group_id\"] = df_all_interactions_bis.apply(lambda x: get_group_id(x[\"Distinct ID\"], x[\"Date\"]), axis=1)"
      ],
      "metadata": {
        "id": "PtuZ9InnwEAJ"
      },
      "execution_count": null,
      "outputs": []
    },
    {
      "cell_type": "code",
      "source": [
        "# Recherche du level_0_id correspondant à chaque interaction\n",
        "def get_level_0_id(group_id):\n",
        "    if group_id == 'no_group_found':\n",
        "        return \"no_level_0_found\"\n",
        "    else :\n",
        "      group_rows = df_users_per_group_bis[df_users_per_group_bis[\"lowest_level_id\"] == group_id]\n",
        "      if len(group_rows) == 0 :\n",
        "        return \"no_level_0_found\"\n",
        "      else :\n",
        "        row = group_rows.iloc[0]\n",
        "        return row[\"level_0_id\"]\n",
        "\n",
        "    #else :\n",
        "    #  group_rows = df_users_per_group_bis[df_users_per_group_bis[\"lowest_level_id\"] == level_0_id]\n",
        "    #  if len(group_rows) == 0:\n",
        "    #      return \"no_level_0_found\"\n",
        "    #  else:\n",
        "    #      row = group_rows.iloc[0]\n",
        "    #      return row[\"level_0_id\"]\n",
        "\n",
        "# Application de la fonction à chaque interaction\n",
        "df_all_interactions_bis[\"level_0_id\"] = df_all_interactions_bis.apply(lambda x: get_level_0_id(x[\"group_id\"]), axis=1)"
      ],
      "metadata": {
        "id": "M8cT0h-Ovg6f"
      },
      "execution_count": null,
      "outputs": []
    },
    {
      "cell_type": "code",
      "source": [
        "#Recherche du level_0_id correspondant à chaque tribe\n",
        "def level_0_tribe(tribe_id) :\n",
        "  tribe_rows = df_all_interactions_bis[df_all_interactions_bis[\"tribeId\"] == tribe_id]\n",
        "  if len(tribe_rows) == 0 :\n",
        "    return \"no_level_0_found\"\n",
        "  else :\n",
        "    for i in range (tribe_rows.shape[0]):\n",
        "      if tribe_rows.iloc[i,8] == \"no_level_0_found\" :\n",
        "        i=i+1\n",
        "      else :\n",
        "        return tribe_rows.iloc[i,8]\n",
        "    return \"no_level_0_found\"\n",
        "df_users_per_tribe_bis[\"level_0_id\"] = df_users_per_tribe_bis.apply(lambda x : level_0_tribe(x[\"tribeId\"]), axis=1)"
      ],
      "metadata": {
        "id": "D2IQmgYUq0PX"
      },
      "execution_count": null,
      "outputs": []
    },
    {
      "cell_type": "markdown",
      "source": [
        "## Copie des dataframes afin d'éviter des temps d'exécution trop longs"
      ],
      "metadata": {
        "id": "KKKYwFsM4vTJ"
      }
    },
    {
      "cell_type": "code",
      "source": [
        "\"\"\"# On télécharge carrément les résultats ici, ainsi plus besoin d'exécuter la 1ère partie du code, à moins que l'on change le dataset\n",
        "df_all_interactions_bis.to_csv('to_analyse_interactions.csv', index=False)\n",
        "df_users_per_group_bis.to_csv('to_analyse_groups.csv', index=False)\n",
        "df_users_per_tribe_bis.to_csv('to_analyse_tribes.csv', index=False)\n",
        "df_companies_bis.to_csv('to_analyse_companies.csv', index=False)\n",
        "files.download('to_analyse_interactions.csv')\n",
        "files.download('to_analyse_groups.csv')\n",
        "files.download('to_analyse_tribes.csv')\n",
        "files.download('to_analyse_companies.csv')\"\"\""
      ],
      "metadata": {
        "colab": {
          "base_uri": "https://localhost:8080/"
        },
        "id": "_kQiRf87ryNB",
        "outputId": "f41c2a81-3b1b-4f23-e47e-02640ed437d6"
      },
      "execution_count": null,
      "outputs": [
        {
          "output_type": "execute_result",
          "data": {
            "text/plain": [
              "\"# On télécharge carrément les résultats ici, ainsi plus besoin d'exécuter la 1ère partie du code, à moins que l'on change le dataset\\ndf_all_interactions_bis.to_csv('to_analyse_interactions.csv', index=False)\\ndf_users_per_group_bis.to_csv('to_analyse_groups.csv', index=False)\\ndf_users_per_tribe_bis.to_csv('to_analyse_tribes.csv', index=False)\\ndf_companies_bis.to_csv('to_analyse_companies.csv', index=False)\\nfiles.download('to_analyse_interactions.csv')\\nfiles.download('to_analyse_groups.csv')\\nfiles.download('to_analyse_tribes.csv')\\nfiles.download('to_analyse_companies.csv')\""
            ],
            "application/vnd.google.colaboratory.intrinsic+json": {
              "type": "string"
            }
          },
          "metadata": {},
          "execution_count": 2
        }
      ]
    },
    {
      "cell_type": "code",
      "source": [
        "# On ouvre les csv (qui sont donc à ajouter à l'environnement de travail au préalable)\n",
        "df_all_interactions_test = pd.read_csv(\"/content/to_analyse_interactions.csv\")\n",
        "df_users_per_group_test = pd.read_csv(\"/content/to_analyse_groups.csv\")\n",
        "df_users_per_tribe_test = pd.read_csv(\"/content/to_analyse_tribes.csv\")\n",
        "df_companies_test = pd.read_csv(\"/content/to_analyse_companies.csv\")"
      ],
      "metadata": {
        "id": "qKymV4js4vly"
      },
      "execution_count": null,
      "outputs": []
    },
    {
      "cell_type": "code",
      "source": [
        "# On ajoute les informations de l'entreprise pour chaque groupe\n",
        "df_merged = pd.merge(df_users_per_group_test, df_companies_test, how='left', left_on='level_0_id', right_on='Id')\n",
        "# On remplace les valeurs manquantes par \"No_data\"\n",
        "df_merged.fillna(\"No_data\", inplace=True)\n",
        "# On supprime la colonne en double\n",
        "df_merged.drop(['Id'], axis=1, inplace=True)\n",
        "df_users_per_group_test = df_merged.copy()\n",
        "\n",
        "# Pareil pour les clubs\n",
        "df_merged = pd.merge(df_users_per_tribe_test, df_companies_test, how='left', left_on='level_0_id', right_on='Id')\n",
        "# On remplace les valeurs manquantes par \"No_data\"\n",
        "df_merged.fillna(\"No_data\", inplace=True)\n",
        "# On supprime la colonne en double\n",
        "df_merged.drop(['Id'], axis=1, inplace=True)\n",
        "df_users_per_tribe_test = df_merged.copy()"
      ],
      "metadata": {
        "id": "vo-16qDSmPOW"
      },
      "execution_count": null,
      "outputs": []
    },
    {
      "cell_type": "markdown",
      "source": [
        "## Comptage du nombre d'interactions, pour chaque groupe et pour chaque mois"
      ],
      "metadata": {
        "id": "h179q7tPEKCP"
      }
    },
    {
      "cell_type": "markdown",
      "source": [
        "*Ajout de toutes les interactions*"
      ],
      "metadata": {
        "id": "Hr0nEVg6vx83"
      }
    },
    {
      "cell_type": "code",
      "source": [
        "# Filtrer les interactions pour lesquelles 'feedType' est 'group'\n",
        "df_all_interactions_group = df_all_interactions_test.query(\"feedType == 'group'\")\n",
        "\n",
        "# Regrouper les interactions par groupe et mois, et compter le nombre d'interactions pour chaque groupe et mois\n",
        "interactions_per_group_month = df_all_interactions_group.groupby(['group_id', 'year_month']).size().reset_index(name='interactions_per_month')\n",
        "\n",
        "# Fusionner les données des interactions par groupe et mois dans le dataframe des utilisateurs par groupe et mois\n",
        "df_users_per_group_test = pd.merge(df_users_per_group_test, interactions_per_group_month, how='left', left_on=['lowest_level_id', 'year_month'], right_on=['group_id', 'year_month'])\n",
        "\n",
        "# Remplacer les valeurs manquantes par 0\n",
        "df_users_per_group_test['interactions_per_month'] = df_users_per_group_test['interactions_per_month'].fillna(0)\n",
        "\n",
        "# Supprimer la colonne 'group_id'\n",
        "df_users_per_group_test = df_users_per_group_test.drop('group_id', axis=1)"
      ],
      "metadata": {
        "id": "JijSNbIREKSI"
      },
      "execution_count": null,
      "outputs": []
    },
    {
      "cell_type": "markdown",
      "source": [
        "*Ajout des posts*"
      ],
      "metadata": {
        "id": "iwWLjRXWwBTa"
      }
    },
    {
      "cell_type": "code",
      "source": [
        "# Filtrer les interactions pour lesquelles 'feedType' est 'group' & 'interactionType est 'post'\n",
        "df_all_posts_group = df_all_interactions_test.query(\"feedType == 'group' & interactionType == 'post'\")\n",
        "\n",
        "# Regrouper les posts par groupe et mois, et compter le nombre de posts pour chaque groupe et mois\n",
        "posts_per_group_month = df_all_posts_group.groupby(['group_id', 'year_month']).size().reset_index(name='posts_per_month')\n",
        "\n",
        "# Fusionner les données des posts par groupe et mois dans le dataframe des utilisateurs par groupe et mois\n",
        "df_users_per_group_test = pd.merge(df_users_per_group_test, posts_per_group_month, how='left', left_on=['lowest_level_id', 'year_month'], right_on=['group_id', 'year_month'])\n",
        "\n",
        "# Remplacer les valeurs manquantes par 0\n",
        "df_users_per_group_test['posts_per_month'] = df_users_per_group_test['posts_per_month'].fillna(0)\n",
        "\n",
        "# Supprimer la colonne 'group_id'\n",
        "df_users_per_group_test = df_users_per_group_test.drop('group_id', axis=1)"
      ],
      "metadata": {
        "id": "0mapbsctQpgO"
      },
      "execution_count": null,
      "outputs": []
    },
    {
      "cell_type": "markdown",
      "source": [
        "*Ajout des commentaires*"
      ],
      "metadata": {
        "id": "4ZDKtJx-wFOT"
      }
    },
    {
      "cell_type": "code",
      "source": [
        "# Filtrer les interactions pour lesquelles 'feedType' est 'group' & 'interactionType est 'comment'\n",
        "df_all_comments_group = df_all_interactions_test.query(\"feedType == 'group' & interactionType == 'comment'\")\n",
        "\n",
        "# Regrouper les comments par groupe et mois, et compter le nombre de comments pour chaque groupe et mois\n",
        "comments_per_group_month = df_all_comments_group.groupby(['group_id', 'year_month']).size().reset_index(name='comments_per_month')\n",
        "\n",
        "# Fusionner les données des comments par groupe et mois dans le dataframe des utilisateurs par groupe et mois\n",
        "df_users_per_group_test = pd.merge(df_users_per_group_test, comments_per_group_month, how='left', left_on=['lowest_level_id', 'year_month'], right_on=['group_id', 'year_month'])\n",
        "\n",
        "# Remplacer les valeurs manquantes par 0\n",
        "df_users_per_group_test['comments_per_month'] = df_users_per_group_test['comments_per_month'].fillna(0)\n",
        "\n",
        "# Supprimer la colonne 'group_id'\n",
        "df_users_per_group_test = df_users_per_group_test.drop('group_id', axis=1)"
      ],
      "metadata": {
        "id": "LAdm_FpYtSTF"
      },
      "execution_count": null,
      "outputs": []
    },
    {
      "cell_type": "markdown",
      "source": [
        "*Ajout des réactions*"
      ],
      "metadata": {
        "id": "9wL_BZ6LwHD9"
      }
    },
    {
      "cell_type": "code",
      "source": [
        "# Filtrer les interactions pour lesquelles 'feedType' est 'group' & 'interactionType est 'reaction'\n",
        "df_all_reactions_group = df_all_interactions_test.query(\"feedType == 'group' & interactionType == 'reaction'\")\n",
        "\n",
        "# Regrouper les reactions par groupe et mois, et compter le nombre de reactions pour chaque groupe et mois\n",
        "reactions_per_group_month = df_all_reactions_group.groupby(['group_id', 'year_month']).size().reset_index(name='reactions_per_month')\n",
        "\n",
        "# Fusionner les données des reactions par groupe et mois dans le dataframe des utilisateurs par groupe et mois\n",
        "df_users_per_group_test = pd.merge(df_users_per_group_test, reactions_per_group_month, how='left', left_on=['lowest_level_id', 'year_month'], right_on=['group_id', 'year_month'])\n",
        "\n",
        "# Remplacer les valeurs manquantes par 0\n",
        "df_users_per_group_test['reactions_per_month'] = df_users_per_group_test['reactions_per_month'].fillna(0)\n",
        "\n",
        "# Supprimer la colonne 'group_id'\n",
        "df_users_per_group_test = df_users_per_group_test.drop('group_id', axis=1)"
      ],
      "metadata": {
        "id": "Bpt91kDfu_F1"
      },
      "execution_count": null,
      "outputs": []
    },
    {
      "cell_type": "markdown",
      "source": [
        "*Ajout du pourcentage de membres interagissant*"
      ],
      "metadata": {
        "id": "WAjphYUD-HLv"
      }
    },
    {
      "cell_type": "code",
      "source": [
        "# Filtrer les interactions pour lesquelles 'feedType' est 'group'\n",
        "df_all_interactions_group = df_all_interactions_test.query(\"feedType == 'group'\")\n",
        "\n",
        "# Regrouper les interagisseurs par groupe et mois, et compter leur nombre pour chaque groupe et mois\n",
        "interactors_per_group_month = df_all_interactions_group.groupby(['group_id', 'year_month'])['Distinct ID'].nunique().reset_index(name='distinct_users_per_month')\n",
        "\n",
        "# Fusionner les données des interagisseurs par groupe et mois dans le dataframe des utilisateurs par groupe et mois\n",
        "df_users_per_group_test = pd.merge(df_users_per_group_test, interactors_per_group_month, how='left', left_on=['lowest_level_id', 'year_month'], right_on=['group_id', 'year_month'])\n",
        "\n",
        "# Remplacer les valeurs manquantes par 0\n",
        "df_users_per_group_test['distinct_users_per_month'] = df_users_per_group_test['distinct_users_per_month'].fillna(0)\n",
        "\n",
        "# Supprimer la colonne 'group_id'\n",
        "df_users_per_group_test = df_users_per_group_test.drop('group_id', axis=1)\n",
        "\n",
        "# Créer une fonction qui calcule le pourcentage de distinct_users_per_month par rapport à registered, arrondi à 1 chiffre après la virgule\n",
        "def calculate_percentage(row):\n",
        "    if row['registered'] == 0:\n",
        "        return 0.0\n",
        "    else:\n",
        "        return round(row['distinct_users_per_month'] / row['registered'] * 100, 1)\n",
        "\n",
        "# Appliquer la fonction à chaque ligne du dataframe\n",
        "df_users_per_group_test['distinct_users_per_month'] = df_users_per_group_test.apply(calculate_percentage, axis=1)"
      ],
      "metadata": {
        "id": "h0srJfZo-HVC"
      },
      "execution_count": null,
      "outputs": []
    },
    {
      "cell_type": "markdown",
      "source": [
        "*Ajout du nombre d'utilisateurs ayant interagi au moins 2 fois*"
      ],
      "metadata": {
        "id": "a7lu1qzzO0Ra"
      }
    },
    {
      "cell_type": "code",
      "source": [
        "df_all_interactions_group = df_all_interactions_test[df_all_interactions_test['feedType'] == 'group']\n",
        "users_plus2_interactions_per_group_month = df_all_interactions_group.groupby(['group_id', 'year_month'])['Distinct ID'].apply(lambda x: x[x.duplicated()].unique().size).reset_index(name='users+2_interactions')\n",
        "df_users_per_group_test = pd.merge(df_users_per_group_test, users_plus2_interactions_per_group_month, how='left', left_on=['lowest_level_id', 'year_month'], right_on=['group_id', 'year_month'])\n",
        "df_users_per_group_test['users+2_interactions'] = df_users_per_group_test['users+2_interactions'].fillna(0)\n",
        "df_users_per_group_test = df_users_per_group_test.drop('group_id', axis=1)"
      ],
      "metadata": {
        "id": "F0IF8jvh4VZU"
      },
      "execution_count": null,
      "outputs": []
    },
    {
      "cell_type": "markdown",
      "source": [
        "*Ajout de l'information permettant de juger si le groupe a été actif pour le mois considéré. La première approche a été la suivante :*\n",
        "\n",
        "*Actif si >=20% utilisateurs interagissant & >=2 utilisateurs interagissant au moins 2 fois.*\n",
        "\n",
        "*La deuxième approche est:*\n",
        "\n",
        "*Actif si >=10% utilisateurs interagissant. C'est avec cette approche que nous allons continuer.*\n"
      ],
      "metadata": {
        "id": "wATubijIx8ut"
      }
    },
    {
      "cell_type": "code",
      "source": [
        "#df_users_per_group_test['is_active'] = ((df_users_per_group_test['distinct_users_per_month'] >= 20) & (df_users_per_group_test['users+2_interactions'] >= 2)).astype(int)\n",
        "df_users_per_group_test['is_active'] = (df_users_per_group_test['distinct_users_per_month'] >= 10).astype(int)"
      ],
      "metadata": {
        "id": "UvBzVyaw0N4X"
      },
      "execution_count": null,
      "outputs": []
    },
    {
      "cell_type": "markdown",
      "source": [
        "*Visualisation d'une ligne dont on connaît les valeurs*"
      ],
      "metadata": {
        "id": "rIFRz-0TwJf7"
      }
    },
    {
      "cell_type": "code",
      "source": [
        "print(df_users_per_group_test.iloc[73])"
      ],
      "metadata": {
        "colab": {
          "base_uri": "https://localhost:8080/"
        },
        "id": "6OiAWAY69Nyn",
        "outputId": "4a56bbeb-7759-45c7-8777-541ba9da7ecf"
      },
      "execution_count": null,
      "outputs": [
        {
          "output_type": "stream",
          "name": "stdout",
          "text": [
            "lowest_level_id             59ca44b40da688f1ac5caae8\n",
            "level_0_id                  586a5fc47842e79091a53bb5\n",
            "level_1_id                  5e14a5f9ce521d9833c5dbff\n",
            "quarter                                      2022-Q1\n",
            "month                                        2022-01\n",
            "year_month                                2022-01-01\n",
            "month_rank                                         1\n",
            "registered                                         4\n",
            "Name                                    Sport Heroes\n",
            "Total Employees                                   90\n",
            "Account Category                                 SMB\n",
            "Total registered users                           143\n",
            "Company_Language                                  FR\n",
            "Max Potential Users                              250\n",
            "interactions_per_month                           0.0\n",
            "posts_per_month                                  0.0\n",
            "comments_per_month                               0.0\n",
            "reactions_per_month                              0.0\n",
            "distinct_users_per_month                         0.0\n",
            "users+2_interactions                             0.0\n",
            "is_active                                          0\n",
            "Name: 73, dtype: object\n"
          ]
        }
      ]
    },
    {
      "cell_type": "markdown",
      "source": [
        "## Comptage du nombre d'interactions, pour chaque tribe et pour chaque mois"
      ],
      "metadata": {
        "id": "NZr2Vp175k1U"
      }
    },
    {
      "cell_type": "markdown",
      "source": [
        "*Ajout de toutes les interactions*"
      ],
      "metadata": {
        "id": "sqZUKkFO5k1a"
      }
    },
    {
      "cell_type": "code",
      "source": [
        "# Filtrer les interactions pour lesquelles 'feedType' est 'tribe'\n",
        "df_all_interactions_tribe = df_all_interactions_test.query(\"feedType == 'tribe'\")\n",
        "\n",
        "# Regrouper les interactions par tribe et mois, et compter le nombre d'interactions pour chaque tribe et mois\n",
        "interactions_per_tribe_month = df_all_interactions_tribe.groupby(['tribeId', 'year_month']).size().reset_index(name='interactions_per_month')\n",
        "\n",
        "# Fusionner les données des interactions par tribe et mois dans le dataframe des utilisateurs par tribe et mois\n",
        "df_users_per_tribe_test = pd.merge(df_users_per_tribe_test, interactions_per_tribe_month, how='left', left_on=['tribeId', 'year_month'], right_on=['tribeId', 'year_month'])\n",
        "\n",
        "# Remplacer les valeurs manquantes par 0\n",
        "df_users_per_tribe_test['interactions_per_month'] = df_users_per_tribe_test['interactions_per_month'].fillna(0)"
      ],
      "metadata": {
        "id": "wIQexT805k1a"
      },
      "execution_count": null,
      "outputs": []
    },
    {
      "cell_type": "markdown",
      "source": [
        "*Ajout des posts*"
      ],
      "metadata": {
        "id": "4N8Dq4e95k1b"
      }
    },
    {
      "cell_type": "code",
      "source": [
        "# Filtrer les interactions pour lesquelles 'feedType' est 'tribe' & 'interactionType est 'post'\n",
        "df_all_posts_tribe = df_all_interactions_test.query(\"feedType == 'tribe' & interactionType == 'post'\")\n",
        "\n",
        "# Regrouper les posts par tribe et mois, et compter le nombre de posts pour chaque tribe et mois\n",
        "posts_per_tribe_month = df_all_posts_tribe.groupby(['tribeId', 'year_month']).size().reset_index(name='posts_per_month')\n",
        "\n",
        "# Fusionner les données des posts par tribe et mois dans le dataframe des utilisateurs par tribe et mois\n",
        "df_users_per_tribe_test = pd.merge(df_users_per_tribe_test, posts_per_tribe_month, how='left', left_on=['tribeId', 'year_month'], right_on=['tribeId', 'year_month'])\n",
        "\n",
        "# Remplacer les valeurs manquantes par 0\n",
        "df_users_per_tribe_test['posts_per_month'] = df_users_per_tribe_test['posts_per_month'].fillna(0)"
      ],
      "metadata": {
        "id": "QaRPYK2b5k1b"
      },
      "execution_count": null,
      "outputs": []
    },
    {
      "cell_type": "markdown",
      "source": [
        "*Ajout des commentaires*"
      ],
      "metadata": {
        "id": "KgC0kJ985k1b"
      }
    },
    {
      "cell_type": "code",
      "source": [
        "# Filtrer les interactions pour lesquelles 'feedType' est 'tribe' & 'interactionType est 'comment'\n",
        "df_all_comments_tribe = df_all_interactions_test.query(\"feedType == 'tribe' & interactionType == 'comment'\")\n",
        "\n",
        "# Regrouper les comments par tribe et mois, et compter le nombre de comments pour chaque tribe et mois\n",
        "comments_per_tribe_month = df_all_comments_tribe.groupby(['tribeId', 'year_month']).size().reset_index(name='comments_per_month')\n",
        "\n",
        "# Fusionner les données des comments par tribe et mois dans le dataframe des utilisateurs par tribe et mois\n",
        "df_users_per_tribe_test = pd.merge(df_users_per_tribe_test, comments_per_tribe_month, how='left', left_on=['tribeId', 'year_month'], right_on=['tribeId', 'year_month'])\n",
        "\n",
        "# Remplacer les valeurs manquantes par 0\n",
        "df_users_per_tribe_test['comments_per_month'] = df_users_per_tribe_test['comments_per_month'].fillna(0)"
      ],
      "metadata": {
        "id": "1fmmUqZH5k1b"
      },
      "execution_count": null,
      "outputs": []
    },
    {
      "cell_type": "markdown",
      "source": [
        "*Ajout des réactions*"
      ],
      "metadata": {
        "id": "_0n3QWF85k1b"
      }
    },
    {
      "cell_type": "code",
      "source": [
        "# Filtrer les interactions pour lesquelles 'feedType' est 'tribe' & 'interactionType est 'reaction'\n",
        "df_all_reactions_tribe = df_all_interactions_test.query(\"feedType == 'tribe' & interactionType == 'reaction'\")\n",
        "\n",
        "# Regrouper les reactions par tribe et mois, et compter le nombre de reactions pour chaque tribe et mois\n",
        "reactions_per_tribe_month = df_all_reactions_tribe.groupby(['tribeId', 'year_month']).size().reset_index(name='reactions_per_month')\n",
        "\n",
        "# Fusionner les données des reactions par tribe et mois dans le dataframe des utilisateurs par tribe et mois\n",
        "df_users_per_tribe_test = pd.merge(df_users_per_tribe_test, reactions_per_tribe_month, how='left', left_on=['tribeId', 'year_month'], right_on=['tribeId', 'year_month'])\n",
        "\n",
        "# Remplacer les valeurs manquantes par 0\n",
        "df_users_per_tribe_test['reactions_per_month'] = df_users_per_tribe_test['reactions_per_month'].fillna(0)"
      ],
      "metadata": {
        "id": "vq8a18mN5k1b"
      },
      "execution_count": null,
      "outputs": []
    },
    {
      "cell_type": "markdown",
      "source": [
        "*Ajout du pourcentage de membres interagissant*"
      ],
      "metadata": {
        "id": "hKQnaIbG5k1b"
      }
    },
    {
      "cell_type": "code",
      "source": [
        "# Filtrer les interactions pour lesquelles 'feedType' est 'tribe'\n",
        "df_all_interactions_tribe = df_all_interactions_test.query(\"feedType == 'tribe'\")\n",
        "\n",
        "# Regrouper les interagisseurs par tribe et mois, et compter leur nombre pour chaque tribe et mois\n",
        "interactors_per_tribe_month = df_all_interactions_tribe.groupby(['tribeId', 'year_month'])['Distinct ID'].nunique().reset_index(name='distinct_users_per_month')\n",
        "\n",
        "# Fusionner les données des interagisseurs par tribe et mois dans le dataframe des utilisateurs par tribe et mois\n",
        "df_users_per_tribe_test = pd.merge(df_users_per_tribe_test, interactors_per_tribe_month, how='left', left_on=['tribeId', 'year_month'], right_on=['tribeId', 'year_month'])\n",
        "\n",
        "# Remplacer les valeurs manquantes par 0\n",
        "df_users_per_tribe_test['distinct_users_per_month'] = df_users_per_tribe_test['distinct_users_per_month'].fillna(0)\n",
        "\n",
        "# Créer une fonction qui calcule le pourcentage de distinct_users_per_month par rapport à 'Monthly population for each tribe', arrondi à 1 chiffre après la virgule\n",
        "def calculate_percentage(row):\n",
        "    if row['Monthly population for each tribe'] == 0:\n",
        "        return 0.0\n",
        "    else:\n",
        "        return round(row['distinct_users_per_month'] / row['Monthly population for each tribe'] * 100, 1)\n",
        "\n",
        "# Appliquer la fonction à chaque ligne du dataframe\n",
        "df_users_per_tribe_test['distinct_users_per_month'] = df_users_per_tribe_test.apply(calculate_percentage, axis=1)"
      ],
      "metadata": {
        "id": "k2JjH0Qr5k1b"
      },
      "execution_count": null,
      "outputs": []
    },
    {
      "cell_type": "markdown",
      "source": [
        "*Ajout du nombre d'utilisateurs ayant interagi au moins 2 fois*"
      ],
      "metadata": {
        "id": "Y_UEYVEe5k1b"
      }
    },
    {
      "cell_type": "code",
      "source": [
        "df_all_interactions_tribe = df_all_interactions_test[df_all_interactions_test['feedType'] == 'tribe']\n",
        "users_plus2_interactions_per_tribe_month = df_all_interactions_tribe.groupby(['tribeId', 'year_month'])['Distinct ID'].apply(lambda x: x[x.duplicated()].unique().size).reset_index(name='users+2_interactions')\n",
        "df_users_per_tribe_test = pd.merge(df_users_per_tribe_test, users_plus2_interactions_per_tribe_month, how='left', left_on=['tribeId', 'year_month'], right_on=['tribeId', 'year_month'])\n",
        "df_users_per_tribe_test['users+2_interactions'] = df_users_per_tribe_test['users+2_interactions'].fillna(0)\n",
        "#df_users_per_tribe_test = df_users_per_group_test.drop('group_id', axis=1)"
      ],
      "metadata": {
        "id": "0169DY6B5k1b"
      },
      "execution_count": null,
      "outputs": []
    },
    {
      "cell_type": "markdown",
      "source": [
        "*Ajout de l'information permettant de juger si le groupe a été actif pour le mois considéré. La première approche a été la suivante :*\n",
        "\n",
        "*Actif si >=20% utilisateurs interagissant & >=2 utilisateurs interagissant au moins 2 fois.*\n",
        "\n",
        "*La deuxième approche est:*\n",
        "\n",
        "*Actif si >=10% utilisateurs interagissant. C'est avec cette approche que nous allons continuer.*"
      ],
      "metadata": {
        "id": "fQ8CRhWF5k1b"
      }
    },
    {
      "cell_type": "code",
      "source": [
        "#df_users_per_tribe_test['is_active'] = ((df_users_per_tribe_test['distinct_users_per_month'] >= 20) & (df_users_per_tribe_test['users+2_interactions'] >= 2)).astype(int)\n",
        "df_users_per_tribe_test['is_active'] = (df_users_per_tribe_test['distinct_users_per_month'] >= 10).astype(int)"
      ],
      "metadata": {
        "id": "ur6fGXVO5k1b"
      },
      "execution_count": null,
      "outputs": []
    },
    {
      "cell_type": "markdown",
      "source": [
        "*Visualisation d'une ligne dont on connaît les valeurs*"
      ],
      "metadata": {
        "id": "Sgl1xBFW5k1c"
      }
    },
    {
      "cell_type": "code",
      "source": [
        "print(df_users_per_tribe_test.iloc[138])"
      ],
      "metadata": {
        "colab": {
          "base_uri": "https://localhost:8080/"
        },
        "outputId": "b5f7216a-ade3-47a6-f367-324481642a2e",
        "id": "1C_fsLvB5k1c"
      },
      "execution_count": null,
      "outputs": [
        {
          "output_type": "stream",
          "name": "stdout",
          "text": [
            "tribeId                              6245c59275e0751793b18f78\n",
            "Date                                                 May 2022\n",
            "year_month                                         2022-05-01\n",
            "Monthly balance for each tribe                             15\n",
            "Monthly population for each tribe                          53\n",
            "level_0_id                           586a5fc47842e79091a53bb5\n",
            "Name                                             Sport Heroes\n",
            "Total Employees                                            90\n",
            "Account Category                                          SMB\n",
            "Total registered users                                    143\n",
            "Company_Language                                           FR\n",
            "Max Potential Users                                       250\n",
            "interactions_per_month                                   22.0\n",
            "posts_per_month                                           7.0\n",
            "comments_per_month                                       15.0\n",
            "reactions_per_month                                       0.0\n",
            "distinct_users_per_month                                 20.8\n",
            "users+2_interactions                                      3.0\n",
            "is_active                                                   1\n",
            "Name: 138, dtype: object\n"
          ]
        }
      ]
    },
    {
      "cell_type": "markdown",
      "source": [
        "## Evaluation de la continuité de l'activité des conversations"
      ],
      "metadata": {
        "id": "PbTIzEqGq9eC"
      }
    },
    {
      "cell_type": "code",
      "source": [
        "\"\"\"# On trie dans l'ordre croissant les mois afin que le mois engendrant de la continuité\n",
        "# soit celui avec le nombre le plus petit. Par exemple si groupe actif en janvier 2022 et les\n",
        "# 5 mois suivants : la valeur pour janvier sera = 1 et celle pour juin sera = 6\n",
        "\n",
        "## PAS LA TECHNIQUE PRIVILÉGIÉE\n",
        "\n",
        "# 1. Trier le dataframe par 'lowest_level_id' et 'year_month'\n",
        "df_users_per_group_test = df_users_per_group_test.sort_values(['lowest_level_id', 'year_month'])\n",
        "\n",
        "# 2. Ajouter une colonne 'previous_is_active'\n",
        "df_users_per_group_test['previous_is_active'] = df_users_per_group_test.groupby('lowest_level_id')['is_active'].shift(1)\n",
        "\n",
        "# 3. Ajouter une colonne 'consecutive_active_months'\n",
        "df_users_per_group_test['consecutive_active_months'] = 0\n",
        "\n",
        "# 4. Itérer sur chaque ligne du dataframe pour calculer les mois consécutifs actifs\n",
        "for group_id, group_df in df_users_per_group_test.groupby('lowest_level_id'):\n",
        "    consecutive_active_months = 0\n",
        "    for index, row in group_df.iterrows():\n",
        "        if row['is_active'] == 1:\n",
        "            consecutive_active_months += 1\n",
        "        else:\n",
        "            consecutive_active_months = 0\n",
        "            if row['previous_is_active'] == 0:\n",
        "                consecutive_active_months = 0\n",
        "        df_users_per_group_test.at[index, 'consecutive_active_months'] = consecutive_active_months\n",
        "df_users_per_group_test = df_users_per_group_test.drop('previous_is_active', axis=1)\"\"\""
      ],
      "metadata": {
        "id": "uMJ73O5nq-Pb",
        "colab": {
          "base_uri": "https://localhost:8080/"
        },
        "outputId": "78dcb525-a1dd-41e8-a603-5d70914a86df"
      },
      "execution_count": null,
      "outputs": [
        {
          "output_type": "execute_result",
          "data": {
            "text/plain": [
              "\"# On trie dans l'ordre croissant les mois afin que le mois engendrant de la continuité \\n# soit celui avec le nombre le plus petit. Par exemple si groupe actif en janvier 2022 et les\\n# 5 mois suivants : la valeur pour janvier sera = 1 et celle pour juin sera = 6\\n\\n## PAS LA TECHNIQUE PRIVILÉGIÉE\\n\\n# 1. Trier le dataframe par 'lowest_level_id' et 'year_month'\\ndf_users_per_group_test = df_users_per_group_test.sort_values(['lowest_level_id', 'year_month'])\\n\\n# 2. Ajouter une colonne 'previous_is_active'\\ndf_users_per_group_test['previous_is_active'] = df_users_per_group_test.groupby('lowest_level_id')['is_active'].shift(1)\\n\\n# 3. Ajouter une colonne 'consecutive_active_months'\\ndf_users_per_group_test['consecutive_active_months'] = 0\\n\\n# 4. Itérer sur chaque ligne du dataframe pour calculer les mois consécutifs actifs\\nfor group_id, group_df in df_users_per_group_test.groupby('lowest_level_id'):\\n    consecutive_active_months = 0\\n    for index, row in group_df.iterrows():\\n        if row['is_active'] == 1:\\n            consecutive_active_months += 1\\n        else:\\n            consecutive_active_months = 0\\n            if row['previous_is_active'] == 0:\\n                consecutive_active_months = 0\\n        df_users_per_group_test.at[index, 'consecutive_active_months'] = consecutive_active_months\\ndf_users_per_group_test = df_users_per_group_test.drop('previous_is_active', axis=1)\""
            ],
            "application/vnd.google.colaboratory.intrinsic+json": {
              "type": "string"
            }
          },
          "metadata": {},
          "execution_count": 21
        }
      ]
    },
    {
      "cell_type": "code",
      "source": [
        "# On trie dans l'ordre décroissant les mois afin que le mois engendrant de la continuité\n",
        "# soit celui avec le nombre le plus grand. Par exemple si groupe actif en janvier 2022 et les\n",
        "# 5 mois suivants : la valeur pour janvier sera = 6 et celle pour juin sera = 1\n",
        "\n",
        "## TECHNIQUE PRIVILÉGIÉE\n",
        "\n",
        "# 1. Trier le dataframe par 'lowest_level_id' et 'year_month'\n",
        "df_users_per_group_test = df_users_per_group_test.sort_values(['lowest_level_id', 'year_month'],ascending=[True,False])\n",
        "\n",
        "# 2. Ajouter une colonne 'previous_is_active'\n",
        "df_users_per_group_test['previous_is_active'] = df_users_per_group_test.groupby('lowest_level_id')['is_active'].shift(1)\n",
        "\n",
        "# 3. Ajouter une colonne 'consecutive_active_months'\n",
        "df_users_per_group_test['consecutive_active_months'] = 0\n",
        "\n",
        "# 4. Itérer sur chaque ligne du dataframe pour calculer les mois consécutifs actifs\n",
        "for group_id, group_df in df_users_per_group_test.groupby('lowest_level_id'):\n",
        "    consecutive_active_months = 0\n",
        "    for index, row in group_df.iterrows():\n",
        "        if row['is_active'] == 1:\n",
        "            consecutive_active_months += 1\n",
        "        else:\n",
        "            consecutive_active_months = 0\n",
        "            if row['previous_is_active'] == 0:\n",
        "                consecutive_active_months = 0\n",
        "        df_users_per_group_test.at[index, 'consecutive_active_months'] = consecutive_active_months\n",
        "df_users_per_group_test = df_users_per_group_test.drop('previous_is_active', axis=1)\n",
        "\n",
        "# On retrie dans l'ordre croissant pour que ça soit plus joli et logique\n",
        "df_users_per_group_test = df_users_per_group_test.sort_values(['lowest_level_id', 'year_month'],ascending=[True,True])"
      ],
      "metadata": {
        "id": "C3DLZSEWLdNp"
      },
      "execution_count": null,
      "outputs": []
    },
    {
      "cell_type": "code",
      "source": [
        "\"\"\"# On trie dans l'ordre croissant les mois afin que le mois engendrant de la continuité\n",
        "# soit celui avec le nombre le plus petit. Par exemple si club actif en janvier 2022 et les\n",
        "# 5 mois suivants : la valeur pour janvier sera = 1 et celle pour juin sera = 6\n",
        "\n",
        "## PAS LA TECHNIQUE PRIVILÉGIÉE\n",
        "\n",
        "# 1. Trier le dataframe par 'tribeId' et 'year_month'\n",
        "df_users_per_tribe_test = df_users_per_tribe_test.sort_values(['tribeId', 'year_month'])\n",
        "\n",
        "# 2. Ajouter une colonne 'previous_is_active'\n",
        "df_users_per_tribe_test['previous_is_active'] = df_users_per_tribe_test.groupby('tribeId')['is_active'].shift(1)\n",
        "\n",
        "# 3. Ajouter une colonne 'consecutive_active_months'\n",
        "df_users_per_tribe_test['consecutive_active_months'] = 0\n",
        "\n",
        "# 4. Itérer sur chaque ligne du dataframe pour calculer les mois consécutifs actifs\n",
        "for tribe_id, tribe_df in df_users_per_tribe_test.groupby('tribeId'):\n",
        "    consecutive_active_months = 0\n",
        "    for index, row in tribe_df.iterrows():\n",
        "        if row['is_active'] == 1:\n",
        "            consecutive_active_months += 1\n",
        "        else:\n",
        "            consecutive_active_months = 0\n",
        "            if row['previous_is_active'] == 0:\n",
        "                consecutive_active_months = 0\n",
        "        df_users_per_tribe_test.at[index, 'consecutive_active_months'] = consecutive_active_months\n",
        "df_users_per_tribe_test = df_users_per_tribe_test.drop('previous_is_active', axis=1)\"\"\""
      ],
      "metadata": {
        "id": "Y4Nq5LlYCGW-",
        "colab": {
          "base_uri": "https://localhost:8080/"
        },
        "outputId": "0f78b043-0fb9-4f12-c320-e8b18d712b3c"
      },
      "execution_count": null,
      "outputs": [
        {
          "output_type": "execute_result",
          "data": {
            "text/plain": [
              "\"# On trie dans l'ordre croissant les mois afin que le mois engendrant de la continuité \\n# soit celui avec le nombre le plus petit. Par exemple si club actif en janvier 2022 et les\\n# 5 mois suivants : la valeur pour janvier sera = 1 et celle pour juin sera = 6\\n\\n## PAS LA TECHNIQUE PRIVILÉGIÉE\\n\\n# 1. Trier le dataframe par 'tribeId' et 'year_month'\\ndf_users_per_tribe_test = df_users_per_tribe_test.sort_values(['tribeId', 'year_month'])\\n\\n# 2. Ajouter une colonne 'previous_is_active'\\ndf_users_per_tribe_test['previous_is_active'] = df_users_per_tribe_test.groupby('tribeId')['is_active'].shift(1)\\n\\n# 3. Ajouter une colonne 'consecutive_active_months'\\ndf_users_per_tribe_test['consecutive_active_months'] = 0\\n\\n# 4. Itérer sur chaque ligne du dataframe pour calculer les mois consécutifs actifs\\nfor tribe_id, tribe_df in df_users_per_tribe_test.groupby('tribeId'):\\n    consecutive_active_months = 0\\n    for index, row in tribe_df.iterrows():\\n        if row['is_active'] == 1:\\n            consecutive_active_months += 1\\n        else:\\n            consecutive_active_months = 0\\n            if row['previous_is_active'] == 0:\\n                consecutive_active_months = 0\\n        df_users_per_tribe_test.at[index, 'consecutive_active_months'] = consecutive_active_months\\ndf_users_per_tribe_test = df_users_per_tribe_test.drop('previous_is_active', axis=1)\""
            ],
            "application/vnd.google.colaboratory.intrinsic+json": {
              "type": "string"
            }
          },
          "metadata": {},
          "execution_count": 23
        }
      ]
    },
    {
      "cell_type": "code",
      "source": [
        "# On trie dans l'ordre décroissant les mois afin que le mois engendrant de la continuité\n",
        "# soit celui avec le nombre le plus grand. Par exemple si club actif en janvier 2022 et les\n",
        "# 5 mois suivants : la valeur pour janvier sera = 6 et celle pour juin sera = 1\n",
        "\n",
        "## TECHNIQUE PRIVILÉGIÉE\n",
        "\n",
        "# 1. Trier le dataframe par 'tribeId' et 'year_month'\n",
        "df_users_per_tribe_test = df_users_per_tribe_test.sort_values(['tribeId', 'year_month'],ascending=[True,False])\n",
        "\n",
        "# 2. Ajouter une colonne 'previous_is_active'\n",
        "df_users_per_tribe_test['previous_is_active'] = df_users_per_tribe_test.groupby('tribeId')['is_active'].shift(1)\n",
        "\n",
        "# 3. Ajouter une colonne 'consecutive_active_months'\n",
        "df_users_per_tribe_test['consecutive_active_months'] = 0\n",
        "\n",
        "# 4. Itérer sur chaque ligne du dataframe pour calculer les mois consécutifs actifs\n",
        "for tribe_id, tribe_df in df_users_per_tribe_test.groupby('tribeId'):\n",
        "    consecutive_active_months = 0\n",
        "    for index, row in tribe_df.iterrows():\n",
        "        if row['is_active'] == 1:\n",
        "            consecutive_active_months += 1\n",
        "        else:\n",
        "            consecutive_active_months = 0\n",
        "            if row['previous_is_active'] == 0:\n",
        "                consecutive_active_months = 0\n",
        "        df_users_per_tribe_test.at[index, 'consecutive_active_months'] = consecutive_active_months\n",
        "df_users_per_tribe_test = df_users_per_tribe_test.drop('previous_is_active', axis=1)\n",
        "\n",
        "# On retrie dans l'ordre croissant pour que ça soit plus joli et logique\n",
        "df_users_per_tribe_test = df_users_per_tribe_test.sort_values(['tribeId', 'year_month'],ascending=[True,True])"
      ],
      "metadata": {
        "id": "eaRfflPUNUnx"
      },
      "execution_count": null,
      "outputs": []
    },
    {
      "cell_type": "markdown",
      "source": [
        "## Visualisation de certaines lignes afin de confirmer nos résultats"
      ],
      "metadata": {
        "id": "Vo6qz14wyAQu"
      }
    },
    {
      "cell_type": "code",
      "source": [
        "# trouver l'index de la ligne avec la valeur maximale de la colonne 'consecutive_active_months'\n",
        "idxmax = df_users_per_group_test['consecutive_active_months'].idxmax()\n",
        "\n",
        "# sélectionner la première ligne correspondante en cas de plusieurs maximums\n",
        "max_row = df_users_per_group_test.loc[[idxmax]].iloc[0]\n",
        "\n",
        "# afficher la ligne correspondante\n",
        "print(max_row)\n",
        "#print(df_users_per_group_test.iloc[74])"
      ],
      "metadata": {
        "id": "FrveJPWwx_jv"
      },
      "execution_count": null,
      "outputs": []
    },
    {
      "cell_type": "code",
      "source": [
        "active_groups = df_users_per_group_test[(df_users_per_group_test['is_active']== 1) & (df_users_per_group_test['Account Category'] == 'Strategic')]\n",
        "type_groups = df_users_per_group_test[df_users_per_group_test['Account Category']== 'Strategic']\n",
        "unique_active_groups = active_groups['lowest_level_id'].nunique()\n",
        "print(unique_active_groups/type_groups['lowest_level_id'].nunique())"
      ],
      "metadata": {
        "colab": {
          "base_uri": "https://localhost:8080/"
        },
        "id": "kU5seOfbqwYk",
        "outputId": "ceeadd0f-209a-41d1-b4a2-bd1e8ef949c6"
      },
      "execution_count": null,
      "outputs": [
        {
          "output_type": "stream",
          "name": "stdout",
          "text": [
            "0.18537466145049655\n"
          ]
        }
      ]
    },
    {
      "cell_type": "code",
      "source": [
        "df_users_per_group_test['Distinct ID'].nunique()"
      ],
      "metadata": {
        "colab": {
          "base_uri": "https://localhost:8080/"
        },
        "id": "2BXIcR8W6x00",
        "outputId": "1f9e24d9-2372-41e0-920a-7ceb435cdab6"
      },
      "execution_count": null,
      "outputs": [
        {
          "output_type": "execute_result",
          "data": {
            "text/plain": [
              "12897"
            ]
          },
          "metadata": {},
          "execution_count": 45
        }
      ]
    },
    {
      "cell_type": "code",
      "source": [
        "df_users_per_group_test[df_users_per_group_test['Account Category']=='Strategic']['lowest_level_id'].nunique()/df_users_per_group_test[df_users_per_group_test['Account Category']!='No_data']['lowest_level_id'].nunique()"
      ],
      "metadata": {
        "colab": {
          "base_uri": "https://localhost:8080/"
        },
        "id": "44YbMdKR5AW4",
        "outputId": "038ab8aa-8191-4b05-f4bd-5e778dc9d46c"
      },
      "execution_count": null,
      "outputs": [
        {
          "output_type": "execute_result",
          "data": {
            "text/plain": [
              "0.6033042846768337"
            ]
          },
          "metadata": {},
          "execution_count": 58
        }
      ]
    },
    {
      "cell_type": "markdown",
      "source": [
        "## Premières analyses"
      ],
      "metadata": {
        "id": "j5CJKVnpET35"
      }
    },
    {
      "cell_type": "code",
      "source": [
        "# Suppression des valeurs aberrantes\n",
        "\n",
        "df_users_per_group_test = df_users_per_group_test.loc[df_users_per_group_test['distinct_users_per_month'] <= 100]\n",
        "df_users_per_tribe_test = df_users_per_tribe_test.loc[df_users_per_tribe_test['distinct_users_per_month'] <= 100]"
      ],
      "metadata": {
        "id": "gxp5CugDZFw-"
      },
      "execution_count": null,
      "outputs": []
    },
    {
      "cell_type": "code",
      "source": [
        "# Nombre d'interactions moyen pour chaque palier de continuité d'activité\n",
        "\n",
        "for i in range(1, max(df_users_per_group_test[\"consecutive_active_months\"])+1):\n",
        "  selected_rows = df_users_per_group_test[df_users_per_group_test['consecutive_active_months'] == i]\n",
        "\n",
        "  # Si on cherche juste le nombre d'interactions\n",
        "  moy = round(selected_rows['interactions_per_month'].mean(),1)\n",
        "\n",
        "  # Si on cherche le nombre d'interactions divisé par le nombre d'inscrits\n",
        "  selected_rows['interactions_per_registered'] = selected_rows['interactions_per_month'] / selected_rows['registered']\n",
        "  moybis = round(selected_rows['interactions_per_registered'].mean(),1)\n",
        "\n",
        "  print(\"Les conversations perdurant exactement \"+str(i)+\" mois comportent en moyenne \"+str(moy)+\" interactions de tous types.\")"
      ],
      "metadata": {
        "id": "E3olDgvQEX75",
        "colab": {
          "base_uri": "https://localhost:8080/"
        },
        "outputId": "0e56bc75-598a-4951-eea8-16848e7ab57e"
      },
      "execution_count": null,
      "outputs": [
        {
          "output_type": "stream",
          "name": "stdout",
          "text": [
            "Les conversations perdurant exactement 1 mois comportent en moyenne 7.5 interactions de tous types.\n",
            "Les conversations perdurant exactement 2 mois comportent en moyenne 9.8 interactions de tous types.\n",
            "Les conversations perdurant exactement 3 mois comportent en moyenne 13.9 interactions de tous types.\n",
            "Les conversations perdurant exactement 4 mois comportent en moyenne 13.3 interactions de tous types.\n",
            "Les conversations perdurant exactement 5 mois comportent en moyenne 19.3 interactions de tous types.\n",
            "Les conversations perdurant exactement 6 mois comportent en moyenne 15.5 interactions de tous types.\n",
            "Les conversations perdurant exactement 7 mois comportent en moyenne 16.6 interactions de tous types.\n",
            "Les conversations perdurant exactement 8 mois comportent en moyenne 16.9 interactions de tous types.\n",
            "Les conversations perdurant exactement 9 mois comportent en moyenne 14.2 interactions de tous types.\n",
            "Les conversations perdurant exactement 10 mois comportent en moyenne 23.2 interactions de tous types.\n",
            "Les conversations perdurant exactement 11 mois comportent en moyenne 15.0 interactions de tous types.\n",
            "Les conversations perdurant exactement 12 mois comportent en moyenne 1.0 interactions de tous types.\n"
          ]
        },
        {
          "output_type": "stream",
          "name": "stderr",
          "text": [
            "<ipython-input-43-9827cd2ada74>:10: SettingWithCopyWarning: \n",
            "A value is trying to be set on a copy of a slice from a DataFrame.\n",
            "Try using .loc[row_indexer,col_indexer] = value instead\n",
            "\n",
            "See the caveats in the documentation: https://pandas.pydata.org/pandas-docs/stable/user_guide/indexing.html#returning-a-view-versus-a-copy\n",
            "  selected_rows['interactions_per_registered'] = selected_rows['interactions_per_month'] / selected_rows['registered']\n",
            "<ipython-input-43-9827cd2ada74>:10: SettingWithCopyWarning: \n",
            "A value is trying to be set on a copy of a slice from a DataFrame.\n",
            "Try using .loc[row_indexer,col_indexer] = value instead\n",
            "\n",
            "See the caveats in the documentation: https://pandas.pydata.org/pandas-docs/stable/user_guide/indexing.html#returning-a-view-versus-a-copy\n",
            "  selected_rows['interactions_per_registered'] = selected_rows['interactions_per_month'] / selected_rows['registered']\n",
            "<ipython-input-43-9827cd2ada74>:10: SettingWithCopyWarning: \n",
            "A value is trying to be set on a copy of a slice from a DataFrame.\n",
            "Try using .loc[row_indexer,col_indexer] = value instead\n",
            "\n",
            "See the caveats in the documentation: https://pandas.pydata.org/pandas-docs/stable/user_guide/indexing.html#returning-a-view-versus-a-copy\n",
            "  selected_rows['interactions_per_registered'] = selected_rows['interactions_per_month'] / selected_rows['registered']\n",
            "<ipython-input-43-9827cd2ada74>:10: SettingWithCopyWarning: \n",
            "A value is trying to be set on a copy of a slice from a DataFrame.\n",
            "Try using .loc[row_indexer,col_indexer] = value instead\n",
            "\n",
            "See the caveats in the documentation: https://pandas.pydata.org/pandas-docs/stable/user_guide/indexing.html#returning-a-view-versus-a-copy\n",
            "  selected_rows['interactions_per_registered'] = selected_rows['interactions_per_month'] / selected_rows['registered']\n",
            "<ipython-input-43-9827cd2ada74>:10: SettingWithCopyWarning: \n",
            "A value is trying to be set on a copy of a slice from a DataFrame.\n",
            "Try using .loc[row_indexer,col_indexer] = value instead\n",
            "\n",
            "See the caveats in the documentation: https://pandas.pydata.org/pandas-docs/stable/user_guide/indexing.html#returning-a-view-versus-a-copy\n",
            "  selected_rows['interactions_per_registered'] = selected_rows['interactions_per_month'] / selected_rows['registered']\n",
            "<ipython-input-43-9827cd2ada74>:10: SettingWithCopyWarning: \n",
            "A value is trying to be set on a copy of a slice from a DataFrame.\n",
            "Try using .loc[row_indexer,col_indexer] = value instead\n",
            "\n",
            "See the caveats in the documentation: https://pandas.pydata.org/pandas-docs/stable/user_guide/indexing.html#returning-a-view-versus-a-copy\n",
            "  selected_rows['interactions_per_registered'] = selected_rows['interactions_per_month'] / selected_rows['registered']\n",
            "<ipython-input-43-9827cd2ada74>:10: SettingWithCopyWarning: \n",
            "A value is trying to be set on a copy of a slice from a DataFrame.\n",
            "Try using .loc[row_indexer,col_indexer] = value instead\n",
            "\n",
            "See the caveats in the documentation: https://pandas.pydata.org/pandas-docs/stable/user_guide/indexing.html#returning-a-view-versus-a-copy\n",
            "  selected_rows['interactions_per_registered'] = selected_rows['interactions_per_month'] / selected_rows['registered']\n",
            "<ipython-input-43-9827cd2ada74>:10: SettingWithCopyWarning: \n",
            "A value is trying to be set on a copy of a slice from a DataFrame.\n",
            "Try using .loc[row_indexer,col_indexer] = value instead\n",
            "\n",
            "See the caveats in the documentation: https://pandas.pydata.org/pandas-docs/stable/user_guide/indexing.html#returning-a-view-versus-a-copy\n",
            "  selected_rows['interactions_per_registered'] = selected_rows['interactions_per_month'] / selected_rows['registered']\n",
            "<ipython-input-43-9827cd2ada74>:10: SettingWithCopyWarning: \n",
            "A value is trying to be set on a copy of a slice from a DataFrame.\n",
            "Try using .loc[row_indexer,col_indexer] = value instead\n",
            "\n",
            "See the caveats in the documentation: https://pandas.pydata.org/pandas-docs/stable/user_guide/indexing.html#returning-a-view-versus-a-copy\n",
            "  selected_rows['interactions_per_registered'] = selected_rows['interactions_per_month'] / selected_rows['registered']\n",
            "<ipython-input-43-9827cd2ada74>:10: SettingWithCopyWarning: \n",
            "A value is trying to be set on a copy of a slice from a DataFrame.\n",
            "Try using .loc[row_indexer,col_indexer] = value instead\n",
            "\n",
            "See the caveats in the documentation: https://pandas.pydata.org/pandas-docs/stable/user_guide/indexing.html#returning-a-view-versus-a-copy\n",
            "  selected_rows['interactions_per_registered'] = selected_rows['interactions_per_month'] / selected_rows['registered']\n",
            "<ipython-input-43-9827cd2ada74>:10: SettingWithCopyWarning: \n",
            "A value is trying to be set on a copy of a slice from a DataFrame.\n",
            "Try using .loc[row_indexer,col_indexer] = value instead\n",
            "\n",
            "See the caveats in the documentation: https://pandas.pydata.org/pandas-docs/stable/user_guide/indexing.html#returning-a-view-versus-a-copy\n",
            "  selected_rows['interactions_per_registered'] = selected_rows['interactions_per_month'] / selected_rows['registered']\n",
            "<ipython-input-43-9827cd2ada74>:10: SettingWithCopyWarning: \n",
            "A value is trying to be set on a copy of a slice from a DataFrame.\n",
            "Try using .loc[row_indexer,col_indexer] = value instead\n",
            "\n",
            "See the caveats in the documentation: https://pandas.pydata.org/pandas-docs/stable/user_guide/indexing.html#returning-a-view-versus-a-copy\n",
            "  selected_rows['interactions_per_registered'] = selected_rows['interactions_per_month'] / selected_rows['registered']\n"
          ]
        }
      ]
    },
    {
      "cell_type": "code",
      "source": [
        "# Nombre de conversations ayant perduré X mois\n",
        "for i in range(0, max(df_users_per_group_test[\"consecutive_active_months\"])+1):\n",
        "  selected_rows = df_users_per_group_test[df_users_per_group_test['consecutive_active_months'] == i]\n",
        "  print(\"On compte \"+str(len(selected_rows))+\" groupes ayant perduré \"+str(i)+\" mois.\")\n",
        "\n",
        "print(\" \")\n",
        "\n",
        "for i in range(0, max(df_users_per_tribe_test[\"consecutive_active_months\"])+1):\n",
        "  selected_rows = df_users_per_tribe_test[df_users_per_tribe_test['consecutive_active_months'] == i]\n",
        "  print(\"On compte \"+str(len(selected_rows))+\" clubs ayant perduré \"+str(i)+\" mois.\")"
      ],
      "metadata": {
        "colab": {
          "base_uri": "https://localhost:8080/"
        },
        "id": "6oLs0cbdQNh7",
        "outputId": "131e19b0-d69b-4329-af00-38d96f46a11f"
      },
      "execution_count": null,
      "outputs": [
        {
          "output_type": "stream",
          "name": "stdout",
          "text": [
            "On compte 116842 groupes ayant perduré 0 mois.\n",
            "On compte 3266 groupes ayant perduré 1 mois.\n",
            "On compte 767 groupes ayant perduré 2 mois.\n",
            "On compte 194 groupes ayant perduré 3 mois.\n",
            "On compte 75 groupes ayant perduré 4 mois.\n",
            "On compte 41 groupes ayant perduré 5 mois.\n",
            "On compte 24 groupes ayant perduré 6 mois.\n",
            "On compte 15 groupes ayant perduré 7 mois.\n",
            "On compte 9 groupes ayant perduré 8 mois.\n",
            "On compte 4 groupes ayant perduré 9 mois.\n",
            "On compte 4 groupes ayant perduré 10 mois.\n",
            "On compte 3 groupes ayant perduré 11 mois.\n",
            "On compte 1 groupes ayant perduré 12 mois.\n",
            " \n",
            "On compte 11157 clubs ayant perduré 0 mois.\n",
            "On compte 166 clubs ayant perduré 1 mois.\n",
            "On compte 38 clubs ayant perduré 2 mois.\n",
            "On compte 12 clubs ayant perduré 3 mois.\n",
            "On compte 4 clubs ayant perduré 4 mois.\n"
          ]
        }
      ]
    },
    {
      "cell_type": "code",
      "source": [
        "# % de conversations ayant perduré X mois\n",
        "for i in range(0, max(df_users_per_group_test[\"consecutive_active_months\"])+1):\n",
        "  selected_rows = df_users_per_group_test[df_users_per_group_test['consecutive_active_months'] == i]\n",
        "  print(\"On compte \"+str(round(len(selected_rows)/len(df_users_per_group_test)*100,1))+\"% de groupes ayant perduré \"+str(i)+\" mois.\")\n",
        "\n",
        "print(\" \")\n",
        "\n",
        "for i in range(0, max(df_users_per_tribe_test[\"consecutive_active_months\"])+1):\n",
        "  selected_rows = df_users_per_tribe_test[df_users_per_tribe_test['consecutive_active_months'] == i]\n",
        "  print(\"On compte \"+str(round(len(selected_rows)/len(df_users_per_tribe_test)*100,1))+\"% de clubs ayant perduré \"+str(i)+\" mois.\")"
      ],
      "metadata": {
        "colab": {
          "base_uri": "https://localhost:8080/"
        },
        "id": "HmsodYhLRnFR",
        "outputId": "ccf15d35-e478-477a-def1-f0d4a7e18744"
      },
      "execution_count": null,
      "outputs": [
        {
          "output_type": "stream",
          "name": "stdout",
          "text": [
            "On compte 96.4% de groupes ayant perduré 0 mois.\n",
            "On compte 2.7% de groupes ayant perduré 1 mois.\n",
            "On compte 0.6% de groupes ayant perduré 2 mois.\n",
            "On compte 0.2% de groupes ayant perduré 3 mois.\n",
            "On compte 0.1% de groupes ayant perduré 4 mois.\n",
            "On compte 0.0% de groupes ayant perduré 5 mois.\n",
            "On compte 0.0% de groupes ayant perduré 6 mois.\n",
            "On compte 0.0% de groupes ayant perduré 7 mois.\n",
            "On compte 0.0% de groupes ayant perduré 8 mois.\n",
            "On compte 0.0% de groupes ayant perduré 9 mois.\n",
            "On compte 0.0% de groupes ayant perduré 10 mois.\n",
            "On compte 0.0% de groupes ayant perduré 11 mois.\n",
            "On compte 0.0% de groupes ayant perduré 12 mois.\n",
            " \n",
            "On compte 98.1% de clubs ayant perduré 0 mois.\n",
            "On compte 1.5% de clubs ayant perduré 1 mois.\n",
            "On compte 0.3% de clubs ayant perduré 2 mois.\n",
            "On compte 0.1% de clubs ayant perduré 3 mois.\n",
            "On compte 0.0% de clubs ayant perduré 4 mois.\n"
          ]
        }
      ]
    },
    {
      "cell_type": "code",
      "source": [
        "# Nombre d'interactions moyen pour chaque type de client, pour les groupes ayant perduré au moins 2 mois\n",
        "\n",
        "for i in [\"SMB\",\"Middle\",\"Strategic\"]:\n",
        "  selected_rows = df_users_per_group_test[(df_users_per_group_test['consecutive_active_months'] >= 2) & (df_users_per_group_test['Account Category'] == i)]\n",
        "  selected_rows['interactions_per_registered'] = selected_rows['interactions_per_month'] / selected_rows['registered']\n",
        "  moybis = round(selected_rows['interactions_per_registered'].mean(),1)\n",
        "\n",
        "  print(\"Les conversations dans les entreprises de type \"+str(i)+\" et perdurant au moins 2 mois comportent en moyenne \"+str(moybis)+\" interactions par utilisateur de tous types.\")"
      ],
      "metadata": {
        "id": "hyMmoba2OULS",
        "colab": {
          "base_uri": "https://localhost:8080/"
        },
        "outputId": "1dff89d8-9b03-4037-8d8b-914c8e395f30"
      },
      "execution_count": null,
      "outputs": [
        {
          "output_type": "stream",
          "name": "stdout",
          "text": [
            "Les conversations dans les entreprises de type SMB et perdurant au moins 2 mois comportent en moyenne 1.0 interactions par utilisateur de tous types.\n",
            "Les conversations dans les entreprises de type Middle et perdurant au moins 2 mois comportent en moyenne 0.9 interactions par utilisateur de tous types.\n",
            "Les conversations dans les entreprises de type Strategic et perdurant au moins 2 mois comportent en moyenne 1.0 interactions par utilisateur de tous types.\n"
          ]
        },
        {
          "output_type": "stream",
          "name": "stderr",
          "text": [
            "<ipython-input-46-b4ef236a919f>:5: SettingWithCopyWarning: \n",
            "A value is trying to be set on a copy of a slice from a DataFrame.\n",
            "Try using .loc[row_indexer,col_indexer] = value instead\n",
            "\n",
            "See the caveats in the documentation: https://pandas.pydata.org/pandas-docs/stable/user_guide/indexing.html#returning-a-view-versus-a-copy\n",
            "  selected_rows['interactions_per_registered'] = selected_rows['interactions_per_month'] / selected_rows['registered']\n",
            "<ipython-input-46-b4ef236a919f>:5: SettingWithCopyWarning: \n",
            "A value is trying to be set on a copy of a slice from a DataFrame.\n",
            "Try using .loc[row_indexer,col_indexer] = value instead\n",
            "\n",
            "See the caveats in the documentation: https://pandas.pydata.org/pandas-docs/stable/user_guide/indexing.html#returning-a-view-versus-a-copy\n",
            "  selected_rows['interactions_per_registered'] = selected_rows['interactions_per_month'] / selected_rows['registered']\n",
            "<ipython-input-46-b4ef236a919f>:5: SettingWithCopyWarning: \n",
            "A value is trying to be set on a copy of a slice from a DataFrame.\n",
            "Try using .loc[row_indexer,col_indexer] = value instead\n",
            "\n",
            "See the caveats in the documentation: https://pandas.pydata.org/pandas-docs/stable/user_guide/indexing.html#returning-a-view-versus-a-copy\n",
            "  selected_rows['interactions_per_registered'] = selected_rows['interactions_per_month'] / selected_rows['registered']\n"
          ]
        }
      ]
    },
    {
      "cell_type": "code",
      "source": [
        "# Pourcentage de groupes, par catégorie, qui perdurent plus de 2 mois\n",
        "for i in [\"SMB\",\"Middle\",\"Strategic\"]:\n",
        "  selected_rows = df_users_per_group_test[(df_users_per_group_test['consecutive_active_months'] >=2) & (df_users_per_group_test['Account Category'] == i)]\n",
        "  print(\"On compte \"+str(round(len(selected_rows)/len(df_users_per_group_test[df_users_per_group_test['Account Category'] == i])*100,1))+\"% de groupes de clients \"+str(i)+\" ayant perduré au moins 2 mois.\")\n",
        "\n",
        "print(\" \")\n",
        "\n",
        "for i in [\"SMB\",\"Middle\",\"Strategic\"]:\n",
        "  selected_rows = df_users_per_tribe_test[(df_users_per_tribe_test['consecutive_active_months'] >=2) & (df_users_per_tribe_test['Account Category'] == i)]\n",
        "  print(\"On compte \"+str(round(len(selected_rows)/len(df_users_per_tribe_test[df_users_per_tribe_test['Account Category'] == i])*100,1))+\"% de clubs de clients \"+str(i)+\" ayant perduré au moins 2 mois.\")"
      ],
      "metadata": {
        "colab": {
          "base_uri": "https://localhost:8080/"
        },
        "id": "nTBJzxU4PxMC",
        "outputId": "54d26ff2-9aa8-483e-f8a8-94a3ad9b9688"
      },
      "execution_count": null,
      "outputs": [
        {
          "output_type": "stream",
          "name": "stdout",
          "text": [
            "On compte 2.2% de groupes de clients SMB ayant perduré au moins 2 mois.\n",
            "On compte 1.4% de groupes de clients Middle ayant perduré au moins 2 mois.\n",
            "On compte 0.6% de groupes de clients Strategic ayant perduré au moins 2 mois.\n",
            " \n",
            "On compte 11.5% de clubs de clients SMB ayant perduré au moins 2 mois.\n",
            "On compte 1.2% de clubs de clients Middle ayant perduré au moins 2 mois.\n",
            "On compte 0.1% de clubs de clients Strategic ayant perduré au moins 2 mois.\n"
          ]
        }
      ]
    },
    {
      "cell_type": "code",
      "source": [
        "X = df_users_per_group_test.copy()\n",
        "X = X.drop(X.loc[(X == 'No_data').any(axis=1)].index)\n",
        "y = X['consecutive_active_months']\n",
        "X = X.drop(['consecutive_active_months','lowest_level_id','Company_Language','level_0_id','level_1_id','quarter','month','year_month','month_rank','Name','Account Category','Total Employees','Max Potential Users'], axis=1)\n",
        "k_best = SelectKBest(f_classif, k = 'all')\n",
        "k_best.fit(X, y)\n",
        "scores1 = pd.DataFrame({'Variable': X.columns, 'Score': k_best.scores_})\n",
        "scores1 = scores1.sort_values('Score', ascending=False)\n",
        "print(scores1)"
      ],
      "metadata": {
        "colab": {
          "base_uri": "https://localhost:8080/"
        },
        "id": "NobFXvL20oZG",
        "outputId": "6f552989-24eb-4f78-8ecc-b15c89aa64f5"
      },
      "execution_count": null,
      "outputs": [
        {
          "output_type": "stream",
          "name": "stdout",
          "text": [
            "                   Variable         Score\n",
            "8                 is_active           inf\n",
            "6  distinct_users_per_month  1.769458e+04\n",
            "7      users+2_interactions  1.576436e+03\n",
            "2    interactions_per_month  1.032353e+03\n",
            "4        comments_per_month  9.490872e+02\n",
            "3           posts_per_month  7.576852e+02\n",
            "5       reactions_per_month  6.990862e+01\n",
            "1    Total registered users  2.972682e+01\n",
            "0                registered  3.840001e+00\n"
          ]
        },
        {
          "output_type": "stream",
          "name": "stderr",
          "text": [
            "/usr/local/lib/python3.10/dist-packages/sklearn/feature_selection/_univariate_selection.py:113: RuntimeWarning: divide by zero encountered in true_divide\n",
            "  f = msb / msw\n"
          ]
        }
      ]
    },
    {
      "cell_type": "code",
      "source": [
        "# On crée 2 nouveaux dataframes pour analyser seulement les conversations ayant été actives\n",
        "\n",
        "df_groups_actives = df_users_per_group_test[df_users_per_group_test['consecutive_active_months'] >=1]\n",
        "df_tribes_actives = df_users_per_tribe_test[df_users_per_tribe_test['consecutive_active_months'] >=1]\n",
        "\n",
        "df_groups_actives = df_groups_actives.drop(df_groups_actives.loc[(df_groups_actives == 'No_data').any(axis=1)].index)\n",
        "df_tribes_actives = df_tribes_actives.drop(df_tribes_actives.loc[(df_tribes_actives == 'No_data').any(axis=1)].index)\n",
        "\n",
        "\n",
        "\"\"\"for i, j in zip([\"ES\",\"FR\",\"EN\"], [0,1,2]):\n",
        "  df_groups_actives.loc[df_groups_actives['Company_Language'] == i, 'Company_Language'] = int(j)\n",
        "df_groups_actives['Company_Language'] = df_groups_actives['Company_Language'].astype('int64')\n",
        "\n",
        "for i, j in zip([\"SMB\",\"Middle\",\"Strategic\"], [0,1,2]):\n",
        "  df_groups_actives.loc[df_groups_actives['Account Category'] == i, 'Account Category'] = int(j)\n",
        "df_groups_actives['Account Category'] = df_groups_actives['Account Category'].astype('int64')\n",
        "\n",
        "for i, j in zip([\"ES\",\"FR\",\"EN\"], [0,1,2]):\n",
        "  df_tribes_actives.loc[df_tribes_actives['Company_Language'] == i, 'Company_Language'] = int(j)\n",
        "df_tribes_actives['Company_Language'] = df_tribes_actives['Company_Language'].astype('int64')\n",
        "\n",
        "for i, j in zip([\"SMB\",\"Middle\",\"Strategic\"], [0,1,2]):\n",
        "  df_tribes_actives.loc[df_tribes_actives['Account Category'] == i, 'Account Category'] = int(j)\n",
        "df_tribes_actives['Account Category'] = df_tribes_actives['Account Category'].astype('int64')\n",
        "\n",
        "df_groups_actives.describe()\"\"\"\n",
        "\n",
        "groups_encoded = pd.get_dummies(df_groups_actives, columns=['Account Category','Company_Language'])\n",
        "tribes_encoded = pd.get_dummies(df_tribes_actives, columns=['Account Category','Company_Language'])\n",
        "groups_encoded['Total Employees'] = groups_encoded['Total Employees'].astype('int64')\n",
        "groups_encoded['Total registered users'] = groups_encoded['Total registered users'].astype('int64')\n",
        "groups_encoded['Max Potential Users'] = groups_encoded['Max Potential Users'].astype('int64')\n",
        "tribes_encoded['Total Employees'] = tribes_encoded['Total Employees'].astype('int64')\n",
        "tribes_encoded['Total registered users'] = tribes_encoded['Total registered users'].astype('int64')\n",
        "tribes_encoded['Max Potential Users'] = tribes_encoded['Max Potential Users'].astype('int64')\n",
        "groups_encoded.head()"
      ],
      "metadata": {
        "colab": {
          "base_uri": "https://localhost:8080/",
          "height": 404
        },
        "id": "esaBc2KBGG1e",
        "outputId": "5fdf0463-045a-479c-84a7-ac62b3aee9ad"
      },
      "execution_count": null,
      "outputs": [
        {
          "output_type": "execute_result",
          "data": {
            "text/plain": [
              "             lowest_level_id                level_0_id  \\\n",
              "14  59ca43a60da688f1ac5c035a  586a5fc47842e79091a53bb5   \n",
              "15  59ca43a60da688f1ac5c035a  586a5fc47842e79091a53bb5   \n",
              "16  59ca43a60da688f1ac5c035a  586a5fc47842e79091a53bb5   \n",
              "26  59ca43a60da688f1ac5c035a  586a5fc47842e79091a53bb5   \n",
              "30  59ca44840da688f1ac5c956f  586a5fc47842e79091a53bb5   \n",
              "\n",
              "                  level_1_id  quarter    month  year_month  month_rank  \\\n",
              "14  5e14a4b8ce521d9833c5dbfc  2022-Q1  2022-03  2022-03-01           1   \n",
              "15  5e14a4b8ce521d9833c5dbfc  2022-Q2  2022-04  2022-04-01           1   \n",
              "16  5e14a4b8ce521d9833c5dbfc  2022-Q2  2022-05  2022-05-01           1   \n",
              "26  5e14a4b8ce521d9833c5dbfc  2023-Q1  2023-03  2023-03-01           1   \n",
              "30  60b607fa0d7bb30006d5dc2a  2022-Q1  2022-03  2022-03-01           1   \n",
              "\n",
              "    registered          Name  Total Employees  ...  distinct_users_per_month  \\\n",
              "14          30  Sport Heroes               90  ...                      16.7   \n",
              "15          28  Sport Heroes               90  ...                      25.0   \n",
              "16          31  Sport Heroes               90  ...                      16.1   \n",
              "26          20  Sport Heroes               90  ...                      20.0   \n",
              "30          14  Sport Heroes               90  ...                      28.6   \n",
              "\n",
              "    users+2_interactions  is_active  consecutive_active_months  \\\n",
              "14                   4.0          1                          3   \n",
              "15                   5.0          1                          2   \n",
              "16                   1.0          1                          1   \n",
              "26                   4.0          1                          1   \n",
              "30                   2.0          1                          1   \n",
              "\n",
              "    Account Category_Middle  Account Category_SMB  Account Category_Strategic  \\\n",
              "14                        0                     1                           0   \n",
              "15                        0                     1                           0   \n",
              "16                        0                     1                           0   \n",
              "26                        0                     1                           0   \n",
              "30                        0                     1                           0   \n",
              "\n",
              "    Company_Language_EN  Company_Language_ES  Company_Language_FR  \n",
              "14                    0                    0                    1  \n",
              "15                    0                    0                    1  \n",
              "16                    0                    0                    1  \n",
              "26                    0                    0                    1  \n",
              "30                    0                    0                    1  \n",
              "\n",
              "[5 rows x 26 columns]"
            ],
            "text/html": [
              "\n",
              "  <div id=\"df-675c9b2a-9f10-41ef-a067-808c413ef72b\">\n",
              "    <div class=\"colab-df-container\">\n",
              "      <div>\n",
              "<style scoped>\n",
              "    .dataframe tbody tr th:only-of-type {\n",
              "        vertical-align: middle;\n",
              "    }\n",
              "\n",
              "    .dataframe tbody tr th {\n",
              "        vertical-align: top;\n",
              "    }\n",
              "\n",
              "    .dataframe thead th {\n",
              "        text-align: right;\n",
              "    }\n",
              "</style>\n",
              "<table border=\"1\" class=\"dataframe\">\n",
              "  <thead>\n",
              "    <tr style=\"text-align: right;\">\n",
              "      <th></th>\n",
              "      <th>lowest_level_id</th>\n",
              "      <th>level_0_id</th>\n",
              "      <th>level_1_id</th>\n",
              "      <th>quarter</th>\n",
              "      <th>month</th>\n",
              "      <th>year_month</th>\n",
              "      <th>month_rank</th>\n",
              "      <th>registered</th>\n",
              "      <th>Name</th>\n",
              "      <th>Total Employees</th>\n",
              "      <th>...</th>\n",
              "      <th>distinct_users_per_month</th>\n",
              "      <th>users+2_interactions</th>\n",
              "      <th>is_active</th>\n",
              "      <th>consecutive_active_months</th>\n",
              "      <th>Account Category_Middle</th>\n",
              "      <th>Account Category_SMB</th>\n",
              "      <th>Account Category_Strategic</th>\n",
              "      <th>Company_Language_EN</th>\n",
              "      <th>Company_Language_ES</th>\n",
              "      <th>Company_Language_FR</th>\n",
              "    </tr>\n",
              "  </thead>\n",
              "  <tbody>\n",
              "    <tr>\n",
              "      <th>14</th>\n",
              "      <td>59ca43a60da688f1ac5c035a</td>\n",
              "      <td>586a5fc47842e79091a53bb5</td>\n",
              "      <td>5e14a4b8ce521d9833c5dbfc</td>\n",
              "      <td>2022-Q1</td>\n",
              "      <td>2022-03</td>\n",
              "      <td>2022-03-01</td>\n",
              "      <td>1</td>\n",
              "      <td>30</td>\n",
              "      <td>Sport Heroes</td>\n",
              "      <td>90</td>\n",
              "      <td>...</td>\n",
              "      <td>16.7</td>\n",
              "      <td>4.0</td>\n",
              "      <td>1</td>\n",
              "      <td>3</td>\n",
              "      <td>0</td>\n",
              "      <td>1</td>\n",
              "      <td>0</td>\n",
              "      <td>0</td>\n",
              "      <td>0</td>\n",
              "      <td>1</td>\n",
              "    </tr>\n",
              "    <tr>\n",
              "      <th>15</th>\n",
              "      <td>59ca43a60da688f1ac5c035a</td>\n",
              "      <td>586a5fc47842e79091a53bb5</td>\n",
              "      <td>5e14a4b8ce521d9833c5dbfc</td>\n",
              "      <td>2022-Q2</td>\n",
              "      <td>2022-04</td>\n",
              "      <td>2022-04-01</td>\n",
              "      <td>1</td>\n",
              "      <td>28</td>\n",
              "      <td>Sport Heroes</td>\n",
              "      <td>90</td>\n",
              "      <td>...</td>\n",
              "      <td>25.0</td>\n",
              "      <td>5.0</td>\n",
              "      <td>1</td>\n",
              "      <td>2</td>\n",
              "      <td>0</td>\n",
              "      <td>1</td>\n",
              "      <td>0</td>\n",
              "      <td>0</td>\n",
              "      <td>0</td>\n",
              "      <td>1</td>\n",
              "    </tr>\n",
              "    <tr>\n",
              "      <th>16</th>\n",
              "      <td>59ca43a60da688f1ac5c035a</td>\n",
              "      <td>586a5fc47842e79091a53bb5</td>\n",
              "      <td>5e14a4b8ce521d9833c5dbfc</td>\n",
              "      <td>2022-Q2</td>\n",
              "      <td>2022-05</td>\n",
              "      <td>2022-05-01</td>\n",
              "      <td>1</td>\n",
              "      <td>31</td>\n",
              "      <td>Sport Heroes</td>\n",
              "      <td>90</td>\n",
              "      <td>...</td>\n",
              "      <td>16.1</td>\n",
              "      <td>1.0</td>\n",
              "      <td>1</td>\n",
              "      <td>1</td>\n",
              "      <td>0</td>\n",
              "      <td>1</td>\n",
              "      <td>0</td>\n",
              "      <td>0</td>\n",
              "      <td>0</td>\n",
              "      <td>1</td>\n",
              "    </tr>\n",
              "    <tr>\n",
              "      <th>26</th>\n",
              "      <td>59ca43a60da688f1ac5c035a</td>\n",
              "      <td>586a5fc47842e79091a53bb5</td>\n",
              "      <td>5e14a4b8ce521d9833c5dbfc</td>\n",
              "      <td>2023-Q1</td>\n",
              "      <td>2023-03</td>\n",
              "      <td>2023-03-01</td>\n",
              "      <td>1</td>\n",
              "      <td>20</td>\n",
              "      <td>Sport Heroes</td>\n",
              "      <td>90</td>\n",
              "      <td>...</td>\n",
              "      <td>20.0</td>\n",
              "      <td>4.0</td>\n",
              "      <td>1</td>\n",
              "      <td>1</td>\n",
              "      <td>0</td>\n",
              "      <td>1</td>\n",
              "      <td>0</td>\n",
              "      <td>0</td>\n",
              "      <td>0</td>\n",
              "      <td>1</td>\n",
              "    </tr>\n",
              "    <tr>\n",
              "      <th>30</th>\n",
              "      <td>59ca44840da688f1ac5c956f</td>\n",
              "      <td>586a5fc47842e79091a53bb5</td>\n",
              "      <td>60b607fa0d7bb30006d5dc2a</td>\n",
              "      <td>2022-Q1</td>\n",
              "      <td>2022-03</td>\n",
              "      <td>2022-03-01</td>\n",
              "      <td>1</td>\n",
              "      <td>14</td>\n",
              "      <td>Sport Heroes</td>\n",
              "      <td>90</td>\n",
              "      <td>...</td>\n",
              "      <td>28.6</td>\n",
              "      <td>2.0</td>\n",
              "      <td>1</td>\n",
              "      <td>1</td>\n",
              "      <td>0</td>\n",
              "      <td>1</td>\n",
              "      <td>0</td>\n",
              "      <td>0</td>\n",
              "      <td>0</td>\n",
              "      <td>1</td>\n",
              "    </tr>\n",
              "  </tbody>\n",
              "</table>\n",
              "<p>5 rows × 26 columns</p>\n",
              "</div>\n",
              "      <button class=\"colab-df-convert\" onclick=\"convertToInteractive('df-675c9b2a-9f10-41ef-a067-808c413ef72b')\"\n",
              "              title=\"Convert this dataframe to an interactive table.\"\n",
              "              style=\"display:none;\">\n",
              "        \n",
              "  <svg xmlns=\"http://www.w3.org/2000/svg\" height=\"24px\"viewBox=\"0 0 24 24\"\n",
              "       width=\"24px\">\n",
              "    <path d=\"M0 0h24v24H0V0z\" fill=\"none\"/>\n",
              "    <path d=\"M18.56 5.44l.94 2.06.94-2.06 2.06-.94-2.06-.94-.94-2.06-.94 2.06-2.06.94zm-11 1L8.5 8.5l.94-2.06 2.06-.94-2.06-.94L8.5 2.5l-.94 2.06-2.06.94zm10 10l.94 2.06.94-2.06 2.06-.94-2.06-.94-.94-2.06-.94 2.06-2.06.94z\"/><path d=\"M17.41 7.96l-1.37-1.37c-.4-.4-.92-.59-1.43-.59-.52 0-1.04.2-1.43.59L10.3 9.45l-7.72 7.72c-.78.78-.78 2.05 0 2.83L4 21.41c.39.39.9.59 1.41.59.51 0 1.02-.2 1.41-.59l7.78-7.78 2.81-2.81c.8-.78.8-2.07 0-2.86zM5.41 20L4 18.59l7.72-7.72 1.47 1.35L5.41 20z\"/>\n",
              "  </svg>\n",
              "      </button>\n",
              "      \n",
              "  <style>\n",
              "    .colab-df-container {\n",
              "      display:flex;\n",
              "      flex-wrap:wrap;\n",
              "      gap: 12px;\n",
              "    }\n",
              "\n",
              "    .colab-df-convert {\n",
              "      background-color: #E8F0FE;\n",
              "      border: none;\n",
              "      border-radius: 50%;\n",
              "      cursor: pointer;\n",
              "      display: none;\n",
              "      fill: #1967D2;\n",
              "      height: 32px;\n",
              "      padding: 0 0 0 0;\n",
              "      width: 32px;\n",
              "    }\n",
              "\n",
              "    .colab-df-convert:hover {\n",
              "      background-color: #E2EBFA;\n",
              "      box-shadow: 0px 1px 2px rgba(60, 64, 67, 0.3), 0px 1px 3px 1px rgba(60, 64, 67, 0.15);\n",
              "      fill: #174EA6;\n",
              "    }\n",
              "\n",
              "    [theme=dark] .colab-df-convert {\n",
              "      background-color: #3B4455;\n",
              "      fill: #D2E3FC;\n",
              "    }\n",
              "\n",
              "    [theme=dark] .colab-df-convert:hover {\n",
              "      background-color: #434B5C;\n",
              "      box-shadow: 0px 1px 3px 1px rgba(0, 0, 0, 0.15);\n",
              "      filter: drop-shadow(0px 1px 2px rgba(0, 0, 0, 0.3));\n",
              "      fill: #FFFFFF;\n",
              "    }\n",
              "  </style>\n",
              "\n",
              "      <script>\n",
              "        const buttonEl =\n",
              "          document.querySelector('#df-675c9b2a-9f10-41ef-a067-808c413ef72b button.colab-df-convert');\n",
              "        buttonEl.style.display =\n",
              "          google.colab.kernel.accessAllowed ? 'block' : 'none';\n",
              "\n",
              "        async function convertToInteractive(key) {\n",
              "          const element = document.querySelector('#df-675c9b2a-9f10-41ef-a067-808c413ef72b');\n",
              "          const dataTable =\n",
              "            await google.colab.kernel.invokeFunction('convertToInteractive',\n",
              "                                                     [key], {});\n",
              "          if (!dataTable) return;\n",
              "\n",
              "          const docLinkHtml = 'Like what you see? Visit the ' +\n",
              "            '<a target=\"_blank\" href=https://colab.research.google.com/notebooks/data_table.ipynb>data table notebook</a>'\n",
              "            + ' to learn more about interactive tables.';\n",
              "          element.innerHTML = '';\n",
              "          dataTable['output_type'] = 'display_data';\n",
              "          await google.colab.output.renderOutput(dataTable, element);\n",
              "          const docLink = document.createElement('div');\n",
              "          docLink.innerHTML = docLinkHtml;\n",
              "          element.appendChild(docLink);\n",
              "        }\n",
              "      </script>\n",
              "    </div>\n",
              "  </div>\n",
              "  "
            ]
          },
          "metadata": {},
          "execution_count": 49
        }
      ]
    },
    {
      "cell_type": "code",
      "source": [
        "print(df_groups_actives['Max Potential Users'].value_counts())"
      ],
      "metadata": {
        "colab": {
          "base_uri": "https://localhost:8080/"
        },
        "id": "h4XChXjcqxzR",
        "outputId": "5b0dd46d-c696-4e14-f911-94332a42601e"
      },
      "execution_count": null,
      "outputs": [
        {
          "output_type": "stream",
          "name": "stdout",
          "text": [
            "8500      244\n",
            "250       222\n",
            "2000      205\n",
            "300       191\n",
            "2500      185\n",
            "         ... \n",
            "225         1\n",
            "90          1\n",
            "349         1\n",
            "1900        1\n",
            "100000      1\n",
            "Name: Max Potential Users, Length: 81, dtype: int64\n"
          ]
        }
      ]
    },
    {
      "cell_type": "code",
      "source": [
        "print(groups_encoded.info())"
      ],
      "metadata": {
        "colab": {
          "base_uri": "https://localhost:8080/"
        },
        "id": "HHlUqU7Gwdz0",
        "outputId": "e0df8f12-94a5-4200-ed8a-9bca216a899e"
      },
      "execution_count": null,
      "outputs": [
        {
          "output_type": "stream",
          "name": "stdout",
          "text": [
            "<class 'pandas.core.frame.DataFrame'>\n",
            "Int64Index: 3785 entries, 14 to 121187\n",
            "Data columns (total 26 columns):\n",
            " #   Column                      Non-Null Count  Dtype  \n",
            "---  ------                      --------------  -----  \n",
            " 0   lowest_level_id             3785 non-null   object \n",
            " 1   level_0_id                  3785 non-null   object \n",
            " 2   level_1_id                  3785 non-null   object \n",
            " 3   quarter                     3785 non-null   object \n",
            " 4   month                       3785 non-null   object \n",
            " 5   year_month                  3785 non-null   object \n",
            " 6   month_rank                  3785 non-null   int64  \n",
            " 7   registered                  3785 non-null   int64  \n",
            " 8   Name                        3785 non-null   object \n",
            " 9   Total Employees             3785 non-null   int64  \n",
            " 10  Total registered users      3785 non-null   int64  \n",
            " 11  Max Potential Users         3785 non-null   int64  \n",
            " 12  interactions_per_month      3785 non-null   float64\n",
            " 13  posts_per_month             3785 non-null   float64\n",
            " 14  comments_per_month          3785 non-null   float64\n",
            " 15  reactions_per_month         3785 non-null   float64\n",
            " 16  distinct_users_per_month    3785 non-null   float64\n",
            " 17  users+2_interactions        3785 non-null   float64\n",
            " 18  is_active                   3785 non-null   int64  \n",
            " 19  consecutive_active_months   3785 non-null   int64  \n",
            " 20  Account Category_Middle     3785 non-null   uint8  \n",
            " 21  Account Category_SMB        3785 non-null   uint8  \n",
            " 22  Account Category_Strategic  3785 non-null   uint8  \n",
            " 23  Company_Language_EN         3785 non-null   uint8  \n",
            " 24  Company_Language_ES         3785 non-null   uint8  \n",
            " 25  Company_Language_FR         3785 non-null   uint8  \n",
            "dtypes: float64(6), int64(7), object(7), uint8(6)\n",
            "memory usage: 643.2+ KB\n",
            "None\n"
          ]
        }
      ]
    },
    {
      "cell_type": "code",
      "source": [
        "correlations_groups = groups_encoded.corr(method = 'pearson')['consecutive_active_months']\n",
        "#print(correlations_groups)\n",
        "correlations_tribes = tribes_encoded.corr(method = 'pearson')['consecutive_active_months']\n",
        "print(correlations_tribes)"
      ],
      "metadata": {
        "colab": {
          "base_uri": "https://localhost:8080/"
        },
        "id": "PQKZcAtrG6mu",
        "outputId": "1b895ae5-f573-4774-fd9d-77ab309b2c50"
      },
      "execution_count": null,
      "outputs": [
        {
          "output_type": "stream",
          "name": "stdout",
          "text": [
            "Monthly balance for each tribe      -0.069717\n",
            "Monthly population for each tribe   -0.069244\n",
            "Total Employees                     -0.128520\n",
            "Total registered users              -0.118786\n",
            "Max Potential Users                 -0.128180\n",
            "interactions_per_month              -0.044003\n",
            "posts_per_month                     -0.022828\n",
            "comments_per_month                  -0.048817\n",
            "reactions_per_month                 -0.071142\n",
            "distinct_users_per_month             0.104884\n",
            "users+2_interactions                -0.037135\n",
            "is_active                                 NaN\n",
            "consecutive_active_months            1.000000\n",
            "Account Category_Middle             -0.138476\n",
            "Account Category_SMB                 0.248283\n",
            "Account Category_Strategic          -0.174827\n",
            "Company_Language_EN                 -0.053451\n",
            "Company_Language_ES                 -0.091362\n",
            "Company_Language_FR                  0.105572\n",
            "Name: consecutive_active_months, dtype: float64\n"
          ]
        },
        {
          "output_type": "stream",
          "name": "stderr",
          "text": [
            "<ipython-input-52-e3745abb6b26>:1: FutureWarning: The default value of numeric_only in DataFrame.corr is deprecated. In a future version, it will default to False. Select only valid columns or specify the value of numeric_only to silence this warning.\n",
            "  correlations_groups = groups_encoded.corr(method = 'pearson')['consecutive_active_months']\n",
            "<ipython-input-52-e3745abb6b26>:3: FutureWarning: The default value of numeric_only in DataFrame.corr is deprecated. In a future version, it will default to False. Select only valid columns or specify the value of numeric_only to silence this warning.\n",
            "  correlations_tribes = tribes_encoded.corr(method = 'pearson')['consecutive_active_months']\n"
          ]
        }
      ]
    },
    {
      "cell_type": "code",
      "source": [
        "# Graphique de dispersion\n",
        "\n",
        "plt.scatter(df_groups_actives['distinct_users_per_month'], df_groups_actives['consecutive_active_months'])\n",
        "plt.xlabel('distinct users per month - groups')\n",
        "plt.ylabel('Consecutive Active Months - groups')\n",
        "plt.show()\n",
        "\n",
        "plt.scatter(df_tribes_actives['distinct_users_per_month'], df_tribes_actives['consecutive_active_months'])\n",
        "plt.xlabel('distinct users per month - tribes')\n",
        "plt.ylabel('Consecutive Active Months - tribes')\n",
        "plt.show()"
      ],
      "metadata": {
        "colab": {
          "base_uri": "https://localhost:8080/",
          "height": 881
        },
        "id": "q_NF8qu8RQsm",
        "outputId": "815a6f7d-9651-4289-90cf-f40b3cc120c3"
      },
      "execution_count": null,
      "outputs": [
        {
          "output_type": "display_data",
          "data": {
            "text/plain": [
              "<Figure size 640x480 with 1 Axes>"
            ],
            "image/png": "[encoded data removed]"
          },
          "metadata": {}
        },
        {
          "output_type": "display_data",
          "data": {
            "text/plain": [
              "<Figure size 640x480 with 1 Axes>"
            ],
            "image/png": "[encoded data removed]"
          },
          "metadata": {}
        }
      ]
    },
    {
      "cell_type": "code",
      "source": [
        "sns.kdeplot(df_groups_actives['Account Category'], shade=True)\n",
        "plt.xlabel('Account Category - groups')\n",
        "plt.ylabel('Densité - groups')\n",
        "plt.show()\n",
        "\n",
        "sns.kdeplot(df_tribes_actives['Account Category'], shade=True)\n",
        "plt.xlabel('Account Category - tribes')\n",
        "plt.ylabel('Densité - tribes')\n",
        "plt.show()"
      ],
      "metadata": {
        "id": "tJi196xWX6VW",
        "colab": {
          "base_uri": "https://localhost:8080/",
          "height": 914
        },
        "outputId": "b3c60b8c-5ef6-4f76-cf08-f8837ac4be78"
      },
      "execution_count": null,
      "outputs": [
        {
          "output_type": "stream",
          "name": "stderr",
          "text": [
            "<ipython-input-54-753ae65da204>:1: FutureWarning: \n",
            "\n",
            "`shade` is now deprecated in favor of `fill`; setting `fill=True`.\n",
            "This will become an error in seaborn v0.14.0; please update your code.\n",
            "\n",
            "  sns.kdeplot(df_groups_actives['Account Category'], shade=True)\n"
          ]
        },
        {
          "output_type": "error",
          "ename": "TypeError",
          "evalue": "ignored",
          "traceback": [
            "\u001b[0;31m---------------------------------------------------------------------------\u001b[0m",
            "\u001b[0;31mTypeError\u001b[0m                                 Traceback (most recent call last)",
            "\u001b[0;32m<ipython-input-54-753ae65da204>\u001b[0m in \u001b[0;36m<cell line: 1>\u001b[0;34m()\u001b[0m\n\u001b[0;32m----> 1\u001b[0;31m \u001b[0msns\u001b[0m\u001b[0;34m.\u001b[0m\u001b[0mkdeplot\u001b[0m\u001b[0;34m(\u001b[0m\u001b[0mdf_groups_actives\u001b[0m\u001b[0;34m[\u001b[0m\u001b[0;34m'Account Category'\u001b[0m\u001b[0;34m]\u001b[0m\u001b[0;34m,\u001b[0m \u001b[0mshade\u001b[0m\u001b[0;34m=\u001b[0m\u001b[0;32mTrue\u001b[0m\u001b[0;34m)\u001b[0m\u001b[0;34m\u001b[0m\u001b[0;34m\u001b[0m\u001b[0m\n\u001b[0m\u001b[1;32m      2\u001b[0m \u001b[0mplt\u001b[0m\u001b[0;34m.\u001b[0m\u001b[0mxlabel\u001b[0m\u001b[0;34m(\u001b[0m\u001b[0;34m'Account Category - groups'\u001b[0m\u001b[0;34m)\u001b[0m\u001b[0;34m\u001b[0m\u001b[0;34m\u001b[0m\u001b[0m\n\u001b[1;32m      3\u001b[0m \u001b[0mplt\u001b[0m\u001b[0;34m.\u001b[0m\u001b[0mylabel\u001b[0m\u001b[0;34m(\u001b[0m\u001b[0;34m'Densité - groups'\u001b[0m\u001b[0;34m)\u001b[0m\u001b[0;34m\u001b[0m\u001b[0;34m\u001b[0m\u001b[0m\n\u001b[1;32m      4\u001b[0m \u001b[0mplt\u001b[0m\u001b[0;34m.\u001b[0m\u001b[0mshow\u001b[0m\u001b[0;34m(\u001b[0m\u001b[0;34m)\u001b[0m\u001b[0;34m\u001b[0m\u001b[0;34m\u001b[0m\u001b[0m\n\u001b[1;32m      5\u001b[0m \u001b[0;34m\u001b[0m\u001b[0m\n",
            "\u001b[0;32m/usr/local/lib/python3.10/dist-packages/seaborn/distributions.py\u001b[0m in \u001b[0;36mkdeplot\u001b[0;34m(data, x, y, hue, weights, palette, hue_order, hue_norm, color, fill, multiple, common_norm, common_grid, cumulative, bw_method, bw_adjust, warn_singular, log_scale, levels, thresh, gridsize, cut, clip, legend, cbar, cbar_ax, cbar_kws, ax, **kwargs)\u001b[0m\n\u001b[1;32m   1693\u001b[0m         \u001b[0max\u001b[0m \u001b[0;34m=\u001b[0m \u001b[0mplt\u001b[0m\u001b[0;34m.\u001b[0m\u001b[0mgca\u001b[0m\u001b[0;34m(\u001b[0m\u001b[0;34m)\u001b[0m\u001b[0;34m\u001b[0m\u001b[0;34m\u001b[0m\u001b[0m\n\u001b[1;32m   1694\u001b[0m \u001b[0;34m\u001b[0m\u001b[0m\n\u001b[0;32m-> 1695\u001b[0;31m     \u001b[0mp\u001b[0m\u001b[0;34m.\u001b[0m\u001b[0m_attach\u001b[0m\u001b[0;34m(\u001b[0m\u001b[0max\u001b[0m\u001b[0;34m,\u001b[0m \u001b[0mallowed_types\u001b[0m\u001b[0;34m=\u001b[0m\u001b[0;34m[\u001b[0m\u001b[0;34m\"numeric\"\u001b[0m\u001b[0;34m,\u001b[0m \u001b[0;34m\"datetime\"\u001b[0m\u001b[0;34m]\u001b[0m\u001b[0;34m,\u001b[0m \u001b[0mlog_scale\u001b[0m\u001b[0;34m=\u001b[0m\u001b[0mlog_scale\u001b[0m\u001b[0;34m)\u001b[0m\u001b[0;34m\u001b[0m\u001b[0;34m\u001b[0m\u001b[0m\n\u001b[0m\u001b[1;32m   1696\u001b[0m \u001b[0;34m\u001b[0m\u001b[0m\n\u001b[1;32m   1697\u001b[0m     \u001b[0mmethod\u001b[0m \u001b[0;34m=\u001b[0m \u001b[0max\u001b[0m\u001b[0;34m.\u001b[0m\u001b[0mfill_between\u001b[0m \u001b[0;32mif\u001b[0m \u001b[0mfill\u001b[0m \u001b[0;32melse\u001b[0m \u001b[0max\u001b[0m\u001b[0;34m.\u001b[0m\u001b[0mplot\u001b[0m\u001b[0;34m\u001b[0m\u001b[0;34m\u001b[0m\u001b[0m\n",
            "\u001b[0;32m/usr/local/lib/python3.10/dist-packages/seaborn/_oldcore.py\u001b[0m in \u001b[0;36m_attach\u001b[0;34m(self, obj, allowed_types, log_scale)\u001b[0m\n\u001b[1;32m   1209\u001b[0m                     \u001b[0;34mf\"{allowed_types} is required\"\u001b[0m\u001b[0;34m\u001b[0m\u001b[0;34m\u001b[0m\u001b[0m\n\u001b[1;32m   1210\u001b[0m                 )\n\u001b[0;32m-> 1211\u001b[0;31m                 \u001b[0;32mraise\u001b[0m \u001b[0mTypeError\u001b[0m\u001b[0;34m(\u001b[0m\u001b[0merr\u001b[0m\u001b[0;34m)\u001b[0m\u001b[0;34m\u001b[0m\u001b[0;34m\u001b[0m\u001b[0m\n\u001b[0m\u001b[1;32m   1212\u001b[0m \u001b[0;34m\u001b[0m\u001b[0m\n\u001b[1;32m   1213\u001b[0m         \u001b[0;31m# -- Get axis objects for each row in plot_data for type conversions and scaling\u001b[0m\u001b[0;34m\u001b[0m\u001b[0;34m\u001b[0m\u001b[0m\n",
            "\u001b[0;31mTypeError\u001b[0m: The x variable is categorical, but one of ['numeric', 'datetime'] is required"
          ]
        },
        {
          "output_type": "display_data",
          "data": {
            "text/plain": [
              "<Figure size 640x480 with 1 Axes>"
            ],
            "image/png": "[encoded data removed]"
          },
          "metadata": {}
        }
      ]
    },
    {
      "cell_type": "code",
      "source": [
        "print(groups_encoded['Total Employees'])"
      ],
      "metadata": {
        "id": "AT3jhUgAcDSY"
      },
      "execution_count": null,
      "outputs": []
    },
    {
      "cell_type": "code",
      "source": [
        "corrHeat = groups_encoded.loc[:,['registered', 'interactions_per_month', 'posts_per_month','comments_per_month','users+2_interactions','consecutive_active_months']].corr()\n",
        "sns.heatmap(corrHeat, xticklabels=corrHeat.columns, yticklabels=corrHeat.columns, annot=True)\n",
        "plt.show()\n",
        "\n",
        "corrHeat = groups_encoded.loc[:,['Max Potential Users', 'Account Category_Middle', 'Account Category_SMB', 'Account Category_Strategic','Company_Language_EN','Company_Language_ES','Company_Language_FR','consecutive_active_months']].corr()\n",
        "sns.heatmap(corrHeat, xticklabels=corrHeat.columns, yticklabels=corrHeat.columns, annot=True)\n",
        "plt.show()"
      ],
      "metadata": {
        "id": "5cgZymGJay_-"
      },
      "execution_count": null,
      "outputs": []
    },
    {
      "cell_type": "markdown",
      "source": [
        "## Courbe de corrélation entre % actifs à M0 et % actifs à M+3 - Pour la 1ère fois que les 10% sont atteints our chaque conversation - Pas pertinent, ne pas utiliser"
      ],
      "metadata": {
        "id": "jdN2kZUzwzQb"
      }
    },
    {
      "cell_type": "code",
      "source": [
        "# On crée un nouveau dataset avec seulement les infos qui nous intéressent\n",
        "\n",
        "actifs_groups = df_users_per_group_test.copy()\n",
        "actifs_groups = actifs_groups.loc[:, ['lowest_level_id','year_month','distinct_users_per_month','consecutive_active_months']]"
      ],
      "metadata": {
        "id": "r6MW_zG_w8hx"
      },
      "execution_count": null,
      "outputs": []
    },
    {
      "cell_type": "code",
      "source": [
        "# Création d'un DataFrame vide pour stocker les données finales\n",
        "actifs_groups_bis = pd.DataFrame(columns=actifs_groups.columns)\n",
        "actifs_groups_bis['year_month+3'] = \"\"\n",
        "actifs_groups_bis['distinct_users_per_month+3'] = \"\"\n",
        "\n",
        "# Pour chaque conversation\n",
        "for conv_id in actifs_groups['lowest_level_id'].unique():\n",
        "\n",
        "    # Sélectionner toutes les lignes correspondantes à la conversation\n",
        "    conv_data = actifs_groups[actifs_groups['lowest_level_id'] == conv_id]\n",
        "\n",
        "    # Trouver le mois où la conversation a atteint 10 distinct_users_per_month pour la première fois\n",
        "    conv_first_month = conv_data[conv_data['distinct_users_per_month'] >= 10]['year_month'].min()\n",
        "\n",
        "    # Si la conversation n'a jamais atteint 10 distinct_users_per_month, passer à la conversation suivante\n",
        "    if pd.isna(conv_first_month):\n",
        "        continue\n",
        "\n",
        "    # Ajouter cette ligne au DataFrame final\n",
        "    actifs_groups_bis = actifs_groups_bis.append(conv_data[conv_data['year_month'] == conv_first_month])\n",
        "\n",
        "    # Calculer le mois 3 mois plus tard\n",
        "    date_obj = datetime.strptime(conv_first_month, '%Y-%m-%d').date()\n",
        "    conv_next_month = date_obj + relativedelta(months=3)\n",
        "    conv_next_month = conv_next_month.strftime('%Y-%m-%d')\n",
        "\n",
        "    # Vérifier que le mois suivant existe dans les données\n",
        "    if conv_next_month not in conv_data['year_month'].values:\n",
        "        continue\n",
        "\n",
        "    # Ajouter la valeur de distinct_users_per_month pour le mois suivant\n",
        "    next_month_value = conv_data[conv_data['year_month'] == conv_next_month]['distinct_users_per_month'].iloc[0]\n",
        "\n",
        "    # Remplir la colonne year_month+3 pour la conversation sélectionnée\n",
        "    actifs_groups_bis.loc[actifs_groups_bis['lowest_level_id'] == conv_id, 'year_month+3'] = conv_next_month\n",
        "\n",
        "    # Remplir la colonne distinct_users_per_month+3 pour la conversation sélectionnée\n",
        "    actifs_groups_bis.loc[actifs_groups_bis['lowest_level_id'] == conv_id, 'distinct_users_per_month+3'] = next_month_value\n",
        "\n",
        "# Supprimer les lignes contenant des valeurs manquantes\n",
        "actifs_groups_bis.dropna(inplace=True)"
      ],
      "metadata": {
        "id": "XkbSUK6M8gc8",
        "colab": {
          "base_uri": "https://localhost:8080/",
          "height": 766
        },
        "outputId": "32041d2b-8d57-4015-ad82-3961cb4dbd6d"
      },
      "execution_count": null,
      "outputs": [
        {
          "output_type": "stream",
          "name": "stderr",
          "text": [
            "<ipython-input-26-fc88f390991d>:20: FutureWarning: The frame.append method is deprecated and will be removed from pandas in a future version. Use pandas.concat instead.\n",
            "  actifs_groups_bis = actifs_groups_bis.append(conv_data[conv_data['year_month'] == conv_first_month])\n",
            "<ipython-input-26-fc88f390991d>:20: FutureWarning: The frame.append method is deprecated and will be removed from pandas in a future version. Use pandas.concat instead.\n",
            "  actifs_groups_bis = actifs_groups_bis.append(conv_data[conv_data['year_month'] == conv_first_month])\n",
            "<ipython-input-26-fc88f390991d>:20: FutureWarning: The frame.append method is deprecated and will be removed from pandas in a future version. Use pandas.concat instead.\n",
            "  actifs_groups_bis = actifs_groups_bis.append(conv_data[conv_data['year_month'] == conv_first_month])\n",
            "<ipython-input-26-fc88f390991d>:20: FutureWarning: The frame.append method is deprecated and will be removed from pandas in a future version. Use pandas.concat instead.\n",
            "  actifs_groups_bis = actifs_groups_bis.append(conv_data[conv_data['year_month'] == conv_first_month])\n",
            "<ipython-input-26-fc88f390991d>:20: FutureWarning: The frame.append method is deprecated and will be removed from pandas in a future version. Use pandas.concat instead.\n",
            "  actifs_groups_bis = actifs_groups_bis.append(conv_data[conv_data['year_month'] == conv_first_month])\n",
            "<ipython-input-26-fc88f390991d>:20: FutureWarning: The frame.append method is deprecated and will be removed from pandas in a future version. Use pandas.concat instead.\n",
            "  actifs_groups_bis = actifs_groups_bis.append(conv_data[conv_data['year_month'] == conv_first_month])\n",
            "<ipython-input-26-fc88f390991d>:20: FutureWarning: The frame.append method is deprecated and will be removed from pandas in a future version. Use pandas.concat instead.\n",
            "  actifs_groups_bis = actifs_groups_bis.append(conv_data[conv_data['year_month'] == conv_first_month])\n",
            "<ipython-input-26-fc88f390991d>:20: FutureWarning: The frame.append method is deprecated and will be removed from pandas in a future version. Use pandas.concat instead.\n",
            "  actifs_groups_bis = actifs_groups_bis.append(conv_data[conv_data['year_month'] == conv_first_month])\n",
            "<ipython-input-26-fc88f390991d>:20: FutureWarning: The frame.append method is deprecated and will be removed from pandas in a future version. Use pandas.concat instead.\n",
            "  actifs_groups_bis = actifs_groups_bis.append(conv_data[conv_data['year_month'] == conv_first_month])\n",
            "<ipython-input-26-fc88f390991d>:20: FutureWarning: The frame.append method is deprecated and will be removed from pandas in a future version. Use pandas.concat instead.\n",
            "  actifs_groups_bis = actifs_groups_bis.append(conv_data[conv_data['year_month'] == conv_first_month])\n"
          ]
        },
        {
          "output_type": "error",
          "ename": "KeyboardInterrupt",
          "evalue": "ignored",
          "traceback": [
            "\u001b[0;31m---------------------------------------------------------------------------\u001b[0m",
            "\u001b[0;31mKeyboardInterrupt\u001b[0m                         Traceback (most recent call last)",
            "\u001b[0;32m<ipython-input-26-fc88f390991d>\u001b[0m in \u001b[0;36m<cell line: 7>\u001b[0;34m()\u001b[0m\n\u001b[1;32m      8\u001b[0m \u001b[0;34m\u001b[0m\u001b[0m\n\u001b[1;32m      9\u001b[0m     \u001b[0;31m# Sélectionner toutes les lignes correspondantes à la conversation\u001b[0m\u001b[0;34m\u001b[0m\u001b[0;34m\u001b[0m\u001b[0m\n\u001b[0;32m---> 10\u001b[0;31m     \u001b[0mconv_data\u001b[0m \u001b[0;34m=\u001b[0m \u001b[0mactifs_groups\u001b[0m\u001b[0;34m[\u001b[0m\u001b[0mactifs_groups\u001b[0m\u001b[0;34m[\u001b[0m\u001b[0;34m'lowest_level_id'\u001b[0m\u001b[0;34m]\u001b[0m \u001b[0;34m==\u001b[0m \u001b[0mconv_id\u001b[0m\u001b[0;34m]\u001b[0m\u001b[0;34m\u001b[0m\u001b[0;34m\u001b[0m\u001b[0m\n\u001b[0m\u001b[1;32m     11\u001b[0m \u001b[0;34m\u001b[0m\u001b[0m\n\u001b[1;32m     12\u001b[0m     \u001b[0;31m# Trouver le mois où la conversation a atteint 10 distinct_users_per_month pour la première fois\u001b[0m\u001b[0;34m\u001b[0m\u001b[0;34m\u001b[0m\u001b[0m\n",
            "\u001b[0;32m/usr/local/lib/python3.10/dist-packages/pandas/core/ops/common.py\u001b[0m in \u001b[0;36mnew_method\u001b[0;34m(self, other)\u001b[0m\n\u001b[1;32m     70\u001b[0m         \u001b[0mother\u001b[0m \u001b[0;34m=\u001b[0m \u001b[0mitem_from_zerodim\u001b[0m\u001b[0;34m(\u001b[0m\u001b[0mother\u001b[0m\u001b[0;34m)\u001b[0m\u001b[0;34m\u001b[0m\u001b[0;34m\u001b[0m\u001b[0m\n\u001b[1;32m     71\u001b[0m \u001b[0;34m\u001b[0m\u001b[0m\n\u001b[0;32m---> 72\u001b[0;31m         \u001b[0;32mreturn\u001b[0m \u001b[0mmethod\u001b[0m\u001b[0;34m(\u001b[0m\u001b[0mself\u001b[0m\u001b[0;34m,\u001b[0m \u001b[0mother\u001b[0m\u001b[0;34m)\u001b[0m\u001b[0;34m\u001b[0m\u001b[0;34m\u001b[0m\u001b[0m\n\u001b[0m\u001b[1;32m     73\u001b[0m \u001b[0;34m\u001b[0m\u001b[0m\n\u001b[1;32m     74\u001b[0m     \u001b[0;32mreturn\u001b[0m \u001b[0mnew_method\u001b[0m\u001b[0;34m\u001b[0m\u001b[0;34m\u001b[0m\u001b[0m\n",
            "\u001b[0;32m/usr/local/lib/python3.10/dist-packages/pandas/core/arraylike.py\u001b[0m in \u001b[0;36m__eq__\u001b[0;34m(self, other)\u001b[0m\n\u001b[1;32m     40\u001b[0m     \u001b[0;34m@\u001b[0m\u001b[0munpack_zerodim_and_defer\u001b[0m\u001b[0;34m(\u001b[0m\u001b[0;34m\"__eq__\"\u001b[0m\u001b[0;34m)\u001b[0m\u001b[0;34m\u001b[0m\u001b[0;34m\u001b[0m\u001b[0m\n\u001b[1;32m     41\u001b[0m     \u001b[0;32mdef\u001b[0m \u001b[0m__eq__\u001b[0m\u001b[0;34m(\u001b[0m\u001b[0mself\u001b[0m\u001b[0;34m,\u001b[0m \u001b[0mother\u001b[0m\u001b[0;34m)\u001b[0m\u001b[0;34m:\u001b[0m\u001b[0;34m\u001b[0m\u001b[0;34m\u001b[0m\u001b[0m\n\u001b[0;32m---> 42\u001b[0;31m         \u001b[0;32mreturn\u001b[0m \u001b[0mself\u001b[0m\u001b[0;34m.\u001b[0m\u001b[0m_cmp_method\u001b[0m\u001b[0;34m(\u001b[0m\u001b[0mother\u001b[0m\u001b[0;34m,\u001b[0m \u001b[0moperator\u001b[0m\u001b[0;34m.\u001b[0m\u001b[0meq\u001b[0m\u001b[0;34m)\u001b[0m\u001b[0;34m\u001b[0m\u001b[0;34m\u001b[0m\u001b[0m\n\u001b[0m\u001b[1;32m     43\u001b[0m \u001b[0;34m\u001b[0m\u001b[0m\n\u001b[1;32m     44\u001b[0m     \u001b[0;34m@\u001b[0m\u001b[0munpack_zerodim_and_defer\u001b[0m\u001b[0;34m(\u001b[0m\u001b[0;34m\"__ne__\"\u001b[0m\u001b[0;34m)\u001b[0m\u001b[0;34m\u001b[0m\u001b[0;34m\u001b[0m\u001b[0m\n",
            "\u001b[0;32m/usr/local/lib/python3.10/dist-packages/pandas/core/series.py\u001b[0m in \u001b[0;36m_cmp_method\u001b[0;34m(self, other, op)\u001b[0m\n\u001b[1;32m   6241\u001b[0m \u001b[0;34m\u001b[0m\u001b[0m\n\u001b[1;32m   6242\u001b[0m         \u001b[0;32mwith\u001b[0m \u001b[0mnp\u001b[0m\u001b[0;34m.\u001b[0m\u001b[0merrstate\u001b[0m\u001b[0;34m(\u001b[0m\u001b[0mall\u001b[0m\u001b[0;34m=\u001b[0m\u001b[0;34m\"ignore\"\u001b[0m\u001b[0;34m)\u001b[0m\u001b[0;34m:\u001b[0m\u001b[0;34m\u001b[0m\u001b[0;34m\u001b[0m\u001b[0m\n\u001b[0;32m-> 6243\u001b[0;31m             \u001b[0mres_values\u001b[0m \u001b[0;34m=\u001b[0m \u001b[0mops\u001b[0m\u001b[0;34m.\u001b[0m\u001b[0mcomparison_op\u001b[0m\u001b[0;34m(\u001b[0m\u001b[0mlvalues\u001b[0m\u001b[0;34m,\u001b[0m \u001b[0mrvalues\u001b[0m\u001b[0;34m,\u001b[0m \u001b[0mop\u001b[0m\u001b[0;34m)\u001b[0m\u001b[0;34m\u001b[0m\u001b[0;34m\u001b[0m\u001b[0m\n\u001b[0m\u001b[1;32m   6244\u001b[0m \u001b[0;34m\u001b[0m\u001b[0m\n\u001b[1;32m   6245\u001b[0m         \u001b[0;32mreturn\u001b[0m \u001b[0mself\u001b[0m\u001b[0;34m.\u001b[0m\u001b[0m_construct_result\u001b[0m\u001b[0;34m(\u001b[0m\u001b[0mres_values\u001b[0m\u001b[0;34m,\u001b[0m \u001b[0mname\u001b[0m\u001b[0;34m=\u001b[0m\u001b[0mres_name\u001b[0m\u001b[0;34m)\u001b[0m\u001b[0;34m\u001b[0m\u001b[0;34m\u001b[0m\u001b[0m\n",
            "\u001b[0;32m/usr/local/lib/python3.10/dist-packages/pandas/core/ops/array_ops.py\u001b[0m in \u001b[0;36mcomparison_op\u001b[0;34m(left, right, op)\u001b[0m\n\u001b[1;32m    285\u001b[0m \u001b[0;34m\u001b[0m\u001b[0m\n\u001b[1;32m    286\u001b[0m     \u001b[0;32melif\u001b[0m \u001b[0mis_object_dtype\u001b[0m\u001b[0;34m(\u001b[0m\u001b[0mlvalues\u001b[0m\u001b[0;34m.\u001b[0m\u001b[0mdtype\u001b[0m\u001b[0;34m)\u001b[0m \u001b[0;32mor\u001b[0m \u001b[0misinstance\u001b[0m\u001b[0;34m(\u001b[0m\u001b[0mrvalues\u001b[0m\u001b[0;34m,\u001b[0m \u001b[0mstr\u001b[0m\u001b[0;34m)\u001b[0m\u001b[0;34m:\u001b[0m\u001b[0;34m\u001b[0m\u001b[0;34m\u001b[0m\u001b[0m\n\u001b[0;32m--> 287\u001b[0;31m         \u001b[0mres_values\u001b[0m \u001b[0;34m=\u001b[0m \u001b[0mcomp_method_OBJECT_ARRAY\u001b[0m\u001b[0;34m(\u001b[0m\u001b[0mop\u001b[0m\u001b[0;34m,\u001b[0m \u001b[0mlvalues\u001b[0m\u001b[0;34m,\u001b[0m \u001b[0mrvalues\u001b[0m\u001b[0;34m)\u001b[0m\u001b[0;34m\u001b[0m\u001b[0;34m\u001b[0m\u001b[0m\n\u001b[0m\u001b[1;32m    288\u001b[0m \u001b[0;34m\u001b[0m\u001b[0m\n\u001b[1;32m    289\u001b[0m     \u001b[0;32melse\u001b[0m\u001b[0;34m:\u001b[0m\u001b[0;34m\u001b[0m\u001b[0;34m\u001b[0m\u001b[0m\n",
            "\u001b[0;32m/usr/local/lib/python3.10/dist-packages/pandas/core/ops/array_ops.py\u001b[0m in \u001b[0;36mcomp_method_OBJECT_ARRAY\u001b[0;34m(op, x, y)\u001b[0m\n\u001b[1;32m     73\u001b[0m         \u001b[0mresult\u001b[0m \u001b[0;34m=\u001b[0m \u001b[0mlibops\u001b[0m\u001b[0;34m.\u001b[0m\u001b[0mvec_compare\u001b[0m\u001b[0;34m(\u001b[0m\u001b[0mx\u001b[0m\u001b[0;34m.\u001b[0m\u001b[0mravel\u001b[0m\u001b[0;34m(\u001b[0m\u001b[0;34m)\u001b[0m\u001b[0;34m,\u001b[0m \u001b[0my\u001b[0m\u001b[0;34m.\u001b[0m\u001b[0mravel\u001b[0m\u001b[0;34m(\u001b[0m\u001b[0;34m)\u001b[0m\u001b[0;34m,\u001b[0m \u001b[0mop\u001b[0m\u001b[0;34m)\u001b[0m\u001b[0;34m\u001b[0m\u001b[0;34m\u001b[0m\u001b[0m\n\u001b[1;32m     74\u001b[0m     \u001b[0;32melse\u001b[0m\u001b[0;34m:\u001b[0m\u001b[0;34m\u001b[0m\u001b[0;34m\u001b[0m\u001b[0m\n\u001b[0;32m---> 75\u001b[0;31m         \u001b[0mresult\u001b[0m \u001b[0;34m=\u001b[0m \u001b[0mlibops\u001b[0m\u001b[0;34m.\u001b[0m\u001b[0mscalar_compare\u001b[0m\u001b[0;34m(\u001b[0m\u001b[0mx\u001b[0m\u001b[0;34m.\u001b[0m\u001b[0mravel\u001b[0m\u001b[0;34m(\u001b[0m\u001b[0;34m)\u001b[0m\u001b[0;34m,\u001b[0m \u001b[0my\u001b[0m\u001b[0;34m,\u001b[0m \u001b[0mop\u001b[0m\u001b[0;34m)\u001b[0m\u001b[0;34m\u001b[0m\u001b[0;34m\u001b[0m\u001b[0m\n\u001b[0m\u001b[1;32m     76\u001b[0m     \u001b[0;32mreturn\u001b[0m \u001b[0mresult\u001b[0m\u001b[0;34m.\u001b[0m\u001b[0mreshape\u001b[0m\u001b[0;34m(\u001b[0m\u001b[0mx\u001b[0m\u001b[0;34m.\u001b[0m\u001b[0mshape\u001b[0m\u001b[0;34m)\u001b[0m\u001b[0;34m\u001b[0m\u001b[0;34m\u001b[0m\u001b[0m\n\u001b[1;32m     77\u001b[0m \u001b[0;34m\u001b[0m\u001b[0m\n",
            "\u001b[0;31mKeyboardInterrupt\u001b[0m: "
          ]
        }
      ]
    },
    {
      "cell_type": "code",
      "source": [
        "# Création du nouveau df pour la visualisation des résultats\n",
        "\n",
        "actifs_groups_courbe = pd.DataFrame(columns=[\"tranches\", \"moyenne_3_mois\", \"mediane_non_nulle_3_mois\", \"moyenne_non_nulle_3_mois\"])\n",
        "\n",
        "# Remplissage de la colonne \"tranches\"\n",
        "for i in range(10, 100, 10):\n",
        "    tranches = f\"{i}-{i+10}\"\n",
        "    actifs_groups_courbe = actifs_groups_courbe.append({\"tranches\": tranches}, ignore_index=True)\n",
        "print(actifs_groups_courbe)"
      ],
      "metadata": {
        "id": "d_E3Jw9cDpUk"
      },
      "execution_count": null,
      "outputs": []
    },
    {
      "cell_type": "code",
      "source": [
        "# Remplissage des valeurs moyennes\n",
        "\n",
        "for i in actifs_groups_courbe['tranches'][0:8] :\n",
        "  if len(actifs_groups_bis[(actifs_groups_bis['distinct_users_per_month'] >= int(i[:2])) & (actifs_groups_bis['distinct_users_per_month'] < int(i[-2:]))].iloc[:,5])>0:\n",
        "    n = len(actifs_groups_bis[(actifs_groups_bis['distinct_users_per_month'] >= int(i[:2])) & (actifs_groups_bis['distinct_users_per_month'] < int(i[-2:]))].iloc[:,5])\n",
        "    moy = actifs_groups_bis[(actifs_groups_bis['distinct_users_per_month'] >= int(i[:2])) & (actifs_groups_bis['distinct_users_per_month'] < int(i[-2:]))].iloc[:,5].mean()\n",
        "    actifs_groups_courbe.loc[actifs_groups_courbe['tranches'] == i, 'moyenne_3_mois'] = moy\n",
        "    print(i, moy)"
      ],
      "metadata": {
        "id": "0JMT6zlv3NaK"
      },
      "execution_count": null,
      "outputs": []
    },
    {
      "cell_type": "code",
      "source": [
        "# Remplissage des valeurs medianes parmi les valeurs non nulles\n",
        "\n",
        "for i in actifs_groups_courbe['tranches'][0:8] :\n",
        "  if len(actifs_groups_bis[(actifs_groups_bis['distinct_users_per_month'] >= int(i[:2])) & (actifs_groups_bis['distinct_users_per_month'] < int(i[-2:])) & (actifs_groups_bis['distinct_users_per_month+3'] > 0)].iloc[:,5])>0:\n",
        "    n = len(actifs_groups_bis[(actifs_groups_bis['distinct_users_per_month'] >= int(i[:2])) & (actifs_groups_bis['distinct_users_per_month'] < int(i[-2:])) & (actifs_groups_bis['distinct_users_per_month+3'] > 0)].iloc[:,5])\n",
        "    med = actifs_groups_bis[(actifs_groups_bis['distinct_users_per_month'] >= int(i[:2])) & (actifs_groups_bis['distinct_users_per_month'] < int(i[-2:])) & (actifs_groups_bis['distinct_users_per_month+3'] > 0)].iloc[:,5].median()\n",
        "    actifs_groups_courbe.loc[actifs_groups_courbe['tranches'] == i, 'mediane_non_nulle_3_mois'] = med\n",
        "    print(i, n, med)"
      ],
      "metadata": {
        "id": "jkQDREMbfvhv"
      },
      "execution_count": null,
      "outputs": []
    },
    {
      "cell_type": "code",
      "source": [
        "# Remplissage des valeurs moyennes parmi les valeurs non nulles\n",
        "\n",
        "for i in actifs_groups_courbe['tranches'][0:8] :\n",
        "  if len(actifs_groups_bis[(actifs_groups_bis['distinct_users_per_month'] >= int(i[:2])) & (actifs_groups_bis['distinct_users_per_month'] < int(i[-2:])) & (actifs_groups_bis['distinct_users_per_month+3'] > 0)].iloc[:,5])>0:\n",
        "    n = len(actifs_groups_bis[(actifs_groups_bis['distinct_users_per_month'] >= int(i[:2])) & (actifs_groups_bis['distinct_users_per_month'] < int(i[-2:])) & (actifs_groups_bis['distinct_users_per_month+3'] > 0)].iloc[:,5])\n",
        "    moy = actifs_groups_bis[(actifs_groups_bis['distinct_users_per_month'] >= int(i[:2])) & (actifs_groups_bis['distinct_users_per_month'] < int(i[-2:])) & (actifs_groups_bis['distinct_users_per_month+3'] > 0)].iloc[:,5].mean()\n",
        "    actifs_groups_courbe.loc[actifs_groups_courbe['tranches'] == i, 'moyenne_non_nulle_3_mois'] = moy\n",
        "    print(i, n, med)"
      ],
      "metadata": {
        "id": "EI_IO_MqmdTN"
      },
      "execution_count": null,
      "outputs": []
    },
    {
      "cell_type": "code",
      "source": [
        "actifs_groups_courbe.dropna(inplace=True)\n",
        "print(actifs_groups_courbe)"
      ],
      "metadata": {
        "id": "PsPPzokDFrk9"
      },
      "execution_count": null,
      "outputs": []
    },
    {
      "cell_type": "code",
      "source": [
        "# Créer une liste pour les tranches\n",
        "tranches = actifs_groups_courbe['tranches']\n",
        "\n",
        "# Créer une liste pour les valeurs de 3 mois\n",
        "moyenne_3_mois = actifs_groups_courbe['moyenne_3_mois']\n",
        "\n",
        "# Tracer la courbe\n",
        "plt.plot(tranches, moyenne_3_mois)\n",
        "\n",
        "# Afficher la courbe\n",
        "plt.show()"
      ],
      "metadata": {
        "id": "NqLfz5oxS4pL"
      },
      "execution_count": null,
      "outputs": []
    },
    {
      "cell_type": "code",
      "source": [
        "# Créer une liste pour les tranches\n",
        "tranches = actifs_groups_courbe['tranches']\n",
        "\n",
        "# Créer une liste pour les valeurs de 3 mois\n",
        "mediane_non_nulle_3_mois = actifs_groups_courbe['mediane_non_nulle_3_mois']\n",
        "\n",
        "# Tracer la courbe\n",
        "plt.plot(tranches, mediane_non_nulle_3_mois)\n",
        "\n",
        "# Afficher la courbe\n",
        "plt.show()"
      ],
      "metadata": {
        "id": "IeOoUVOtiXAY"
      },
      "execution_count": null,
      "outputs": []
    },
    {
      "cell_type": "code",
      "source": [
        "# Créer une liste pour les tranches\n",
        "tranches = actifs_groups_courbe['tranches']\n",
        "\n",
        "# Créer une liste pour les valeurs de 3 mois\n",
        "moyenne_non_nulle_3_mois = actifs_groups_courbe['moyenne_non_nulle_3_mois']\n",
        "\n",
        "# Tracer la courbe\n",
        "plt.plot(tranches, moyenne_non_nulle_3_mois)\n",
        "\n",
        "# Afficher la courbe\n",
        "plt.show()"
      ],
      "metadata": {
        "id": "tFm02Ev_nHYO"
      },
      "execution_count": null,
      "outputs": []
    },
    {
      "cell_type": "markdown",
      "source": [
        "## Courbe de corrélation entre % actifs à M0 et % actifs à M+3 - Pour chaque fois que les 10% sont atteints"
      ],
      "metadata": {
        "id": "k0Sj71UT_d_h"
      }
    },
    {
      "cell_type": "code",
      "source": [
        "# On crée un nouveau dataset avec seulement les infos qui nous intéressent\n",
        "\n",
        "actifs_groups = df_users_per_group_test.copy()\n",
        "actifs_groups = actifs_groups.loc[:, ['lowest_level_id','year_month','distinct_users_per_month','consecutive_active_months']]"
      ],
      "metadata": {
        "id": "80YPKJ7vAO08"
      },
      "execution_count": null,
      "outputs": []
    },
    {
      "cell_type": "code",
      "source": [
        "# Création d'un DataFrame vide pour stocker les données finales\n",
        "actifs_groups_bis_2 = pd.DataFrame(columns=actifs_groups.columns)\n",
        "actifs_groups_bis_2['year_month+3'] = \"\"\n",
        "actifs_groups_bis_2['distinct_users_per_month+3'] = \"\"\n",
        "\n",
        "# Pour chaque conversation\n",
        "for conv_id in actifs_groups['lowest_level_id'].unique():\n",
        "    conv_data = actifs_groups[actifs_groups['lowest_level_id'] == conv_id]\n",
        "    for conv_mois in conv_data['year_month'] :\n",
        "      if conv_data.loc[conv_data['year_month'] == conv_mois, 'distinct_users_per_month'].values[0] >= 10:\n",
        "        actifs_groups_bis_2 = actifs_groups_bis_2.append(conv_data[conv_data['year_month'] == conv_mois])\n",
        "        date_obj = datetime.strptime(conv_mois, '%Y-%m-%d').date()\n",
        "        conv_next_month = date_obj + relativedelta(months=3)\n",
        "        conv_next_month = conv_next_month.strftime('%Y-%m-%d')\n",
        "        if conv_next_month not in conv_data['year_month'].values:\n",
        "          continue\n",
        "        next_month_value = conv_data[conv_data['year_month'] == conv_next_month]['distinct_users_per_month'].iloc[0]\n",
        "        actifs_groups_bis_2.loc[(actifs_groups_bis_2['lowest_level_id'] == conv_id) & (actifs_groups_bis_2['year_month'] == conv_mois), 'year_month+3'] = conv_next_month\n",
        "        actifs_groups_bis_2.loc[(actifs_groups_bis_2['lowest_level_id'] == conv_id) & (actifs_groups_bis_2['year_month'] == conv_mois), 'distinct_users_per_month+3'] = next_month_value\n",
        "actifs_groups_bis_2.dropna(inplace=True)"
      ],
      "metadata": {
        "id": "_wZNzcDDrHKd"
      },
      "execution_count": null,
      "outputs": []
    },
    {
      "cell_type": "code",
      "source": [
        "print(actifs_groups_bis_2)"
      ],
      "metadata": {
        "id": "Su-EtNJ82pBM",
        "colab": {
          "base_uri": "https://localhost:8080/"
        },
        "outputId": "30f5bbc2-dd5d-4b82-e504-de656412941d"
      },
      "execution_count": null,
      "outputs": [
        {
          "output_type": "stream",
          "name": "stdout",
          "text": [
            "                 lowest_level_id  year_month  distinct_users_per_month  \\\n",
            "14      59ca43a60da688f1ac5c035a  2022-03-01                      16.7   \n",
            "15      59ca43a60da688f1ac5c035a  2022-04-01                      25.0   \n",
            "16      59ca43a60da688f1ac5c035a  2022-05-01                      16.1   \n",
            "30      59ca44840da688f1ac5c956f  2022-03-01                      28.6   \n",
            "58      59ca44a50da688f1ac5ca174  2022-02-01                      25.0   \n",
            "...                          ...         ...                       ...   \n",
            "119558  63caad5b80683bb9be9bb071  2023-01-01                      66.7   \n",
            "119582  63caad5d80683bb9be9bb0a6  2023-01-01                      18.2   \n",
            "119594  63caad5e80683bb9be9bb0b9  2023-01-01                      20.0   \n",
            "119630  63caad6280683bb9be9bb11e  2023-01-01                      50.0   \n",
            "119733  63d1247f76a9f6f18c3a33f3  2023-01-01                      20.0   \n",
            "\n",
            "       consecutive_active_months year_month+3 distinct_users_per_month+3  \n",
            "14                             3   2022-06-01                        4.4  \n",
            "15                             2   2022-07-01                        7.3  \n",
            "16                             1   2022-08-01                        6.5  \n",
            "30                             1   2022-06-01                        0.0  \n",
            "58                             1   2022-05-01                       22.2  \n",
            "...                          ...          ...                        ...  \n",
            "119558                         1   2023-04-01                        0.0  \n",
            "119582                         1   2023-04-01                        0.0  \n",
            "119594                         2   2023-04-01                        0.0  \n",
            "119630                         2   2023-04-01                        0.0  \n",
            "119733                         2   2023-04-01                        0.0  \n",
            "\n",
            "[3352 rows x 6 columns]\n"
          ]
        }
      ]
    },
    {
      "cell_type": "code",
      "source": [
        "# Création du nouveau df pour la visualisation des résultats\n",
        "\n",
        "actifs_groups_courbe_2 = pd.DataFrame(columns=[\"tranches\", \"moyenne_3_mois\", \"%actifs\", \"size\"])\n",
        "\n",
        "# Remplissage de la colonne \"tranches\"\n",
        "for i in range(10, 60, 10):\n",
        "    tranches = f\"{i}-{i+10}\"\n",
        "    actifs_groups_courbe_2 = actifs_groups_courbe_2.append({\"tranches\": tranches}, ignore_index=True)\n",
        "print(actifs_groups_courbe_2)"
      ],
      "metadata": {
        "id": "fgcyLoeO5jyP"
      },
      "execution_count": null,
      "outputs": []
    },
    {
      "cell_type": "code",
      "source": [
        "# Remplissage des valeurs moyennes\n",
        "\n",
        "for i in actifs_groups_courbe_2['tranches'][0:8] :\n",
        "  if len(actifs_groups_bis_2[(actifs_groups_bis_2['distinct_users_per_month'] >= int(i[:2])) & (actifs_groups_bis_2['distinct_users_per_month'] < int(i[-2:]))].iloc[:,5])>0:\n",
        "    n = len(actifs_groups_bis_2[(actifs_groups_bis_2['distinct_users_per_month'] >= int(i[:2])) & (actifs_groups_bis_2['distinct_users_per_month'] < int(i[-2:]))].iloc[:,5])\n",
        "    moy = actifs_groups_bis_2[(actifs_groups_bis_2['distinct_users_per_month'] >= int(i[:2])) & (actifs_groups_bis_2['distinct_users_per_month'] < int(i[-2:]))].iloc[:,5].mean()\n",
        "    actifs_groups_courbe_2.loc[actifs_groups_courbe_2['tranches'] == i, 'moyenne_3_mois'] = moy\n",
        "    actifs_groups_courbe_2.loc[actifs_groups_courbe_2['tranches'] == i, 'size'] = n\n",
        "    print(i, n, moy)\n",
        "\"\"\"actifs_groups_courbe_2.to_csv('toutes_entreprises.csv', index = False)\n",
        "files.download('toutes_entreprises.csv')\"\"\""
      ],
      "metadata": {
        "id": "LeAgC1xv5kA-"
      },
      "execution_count": null,
      "outputs": []
    },
    {
      "cell_type": "code",
      "source": [
        "# Remplissage du % de conversations perdurant\n",
        "\n",
        "for i in actifs_groups_courbe_2['tranches'][0:8] :\n",
        "  if len(actifs_groups_bis_2[(actifs_groups_bis_2['distinct_users_per_month'] >= int(i[:2])) & (actifs_groups_bis_2['distinct_users_per_month'] < int(i[-2:]))].iloc[:,5])>0:\n",
        "    n = len(actifs_groups_bis_2[(actifs_groups_bis_2['distinct_users_per_month'] >= int(i[:2])) & (actifs_groups_bis_2['distinct_users_per_month'] < int(i[-2:]))].iloc[:,5])\n",
        "    pourcentage_perdure = actifs_groups_bis_2[(actifs_groups_bis_2['distinct_users_per_month'] >= int(i[:2])) & (actifs_groups_bis_2['distinct_users_per_month'] < int(i[-2:]))]\n",
        "    pourcentage_perdure = len(pourcentage_perdure[pourcentage_perdure['distinct_users_per_month+3'] >= 10])/len(pourcentage_perdure)\n",
        "    actifs_groups_courbe_2.loc[actifs_groups_courbe_2['tranches'] == i, '%actifs'] = pourcentage_perdure\n",
        "    actifs_groups_courbe_2.loc[actifs_groups_courbe_2['tranches'] == i, 'size'] = n\n",
        "    print(i, n, pourcentage_perdure)"
      ],
      "metadata": {
        "colab": {
          "base_uri": "https://localhost:8080/"
        },
        "id": "TiKfQ8IJTYtf",
        "outputId": "e10a0f2b-b5b0-48da-eec7-e434f6005ce4"
      },
      "execution_count": null,
      "outputs": [
        {
          "output_type": "stream",
          "name": "stdout",
          "text": [
            "10-20 1310 0.07862595419847328\n",
            "20-30 748 0.11497326203208556\n",
            "30-40 430 0.1325581395348837\n",
            "40-50 213 0.14553990610328638\n",
            "50-60 284 0.17253521126760563\n"
          ]
        }
      ]
    },
    {
      "cell_type": "code",
      "source": [
        "actifs_groups_courbe_2.dropna(inplace=True)\n",
        "print(actifs_groups_courbe_2)"
      ],
      "metadata": {
        "id": "mO8SFqLK50eN",
        "colab": {
          "base_uri": "https://localhost:8080/"
        },
        "outputId": "33d511a4-f915-49e5-d642-1619d7e40711"
      },
      "execution_count": null,
      "outputs": [
        {
          "output_type": "stream",
          "name": "stdout",
          "text": [
            "  tranches moyenne_3_mois   %actifs  size\n",
            "0    10-20        2.04374  0.078626  1310\n",
            "1    20-30       3.134759  0.114973   748\n",
            "2    30-40       3.684884  0.132558   430\n",
            "3    40-50       4.168075   0.14554   213\n",
            "4    50-60       5.992254  0.172535   284\n"
          ]
        }
      ]
    },
    {
      "cell_type": "code",
      "source": [
        "\"\"\"actifs_groups_courbe_2.to_csv('actifs_groups_courbe_2.csv', index=False)\n",
        "files.download('actifs_groups_courbe_2.csv')\"\"\""
      ],
      "metadata": {
        "id": "RcrH7FDm6eGS",
        "colab": {
          "base_uri": "https://localhost:8080/",
          "height": 17
        },
        "outputId": "249d3bf5-e3b0-40be-d381-8ad5e1d0f937"
      },
      "execution_count": null,
      "outputs": [
        {
          "output_type": "display_data",
          "data": {
            "text/plain": [
              "<IPython.core.display.Javascript object>"
            ],
            "application/javascript": [
              "\n",
              "    async function download(id, filename, size) {\n",
              "      if (!google.colab.kernel.accessAllowed) {\n",
              "        return;\n",
              "      }\n",
              "      const div = document.createElement('div');\n",
              "      const label = document.createElement('label');\n",
              "      label.textContent = `Downloading \"${filename}\": `;\n",
              "      div.appendChild(label);\n",
              "      const progress = document.createElement('progress');\n",
              "      progress.max = size;\n",
              "      div.appendChild(progress);\n",
              "      document.body.appendChild(div);\n",
              "\n",
              "      const buffers = [];\n",
              "      let downloaded = 0;\n",
              "\n",
              "      const channel = await google.colab.kernel.comms.open(id);\n",
              "      // Send a message to notify the kernel that we're ready.\n",
              "      channel.send({})\n",
              "\n",
              "      for await (const message of channel.messages) {\n",
              "        // Send a message to notify the kernel that we're ready.\n",
              "        channel.send({})\n",
              "        if (message.buffers) {\n",
              "          for (const buffer of message.buffers) {\n",
              "            buffers.push(buffer);\n",
              "            downloaded += buffer.byteLength;\n",
              "            progress.value = downloaded;\n",
              "          }\n",
              "        }\n",
              "      }\n",
              "      const blob = new Blob(buffers, {type: 'application/binary'});\n",
              "      const a = document.createElement('a');\n",
              "      a.href = window.URL.createObjectURL(blob);\n",
              "      a.download = filename;\n",
              "      div.appendChild(a);\n",
              "      a.click();\n",
              "      div.remove();\n",
              "    }\n",
              "  "
            ]
          },
          "metadata": {}
        },
        {
          "output_type": "display_data",
          "data": {
            "text/plain": [
              "<IPython.core.display.Javascript object>"
            ],
            "application/javascript": [
              "download(\"download_12a4da5d-d1b6-4959-8584-62e473cd87fb\", \"actifs_groups_courbe_2.csv\", 278)"
            ]
          },
          "metadata": {}
        }
      ]
    },
    {
      "cell_type": "markdown",
      "source": [
        "## Courbe de corrélation entre % actifs à M0 et % actifs à M+3 - Pour chaque fois que les 10% sont atteints - Account category"
      ],
      "metadata": {
        "id": "lvVO3455B5TV"
      }
    },
    {
      "cell_type": "code",
      "source": [
        "# On crée un nouveau dataset avec seulement les infos qui nous intéressent\n",
        "\n",
        "actifs_groups = df_users_per_group_test.copy()\n",
        "actifs_groups = actifs_groups.loc[:, ['lowest_level_id','year_month','Account Category', 'distinct_users_per_month','consecutive_active_months']]\n",
        "actifs_groups = actifs_groups[actifs_groups['Account Category'] != 'No_data']\n",
        "print(actifs_groups)"
      ],
      "metadata": {
        "id": "ZAwSRGuNB5Te",
        "colab": {
          "base_uri": "https://localhost:8080/"
        },
        "outputId": "08fd2525-6bc5-41d8-fb97-9e659d40b164"
      },
      "execution_count": null,
      "outputs": [
        {
          "output_type": "stream",
          "name": "stdout",
          "text": [
            "                 lowest_level_id  year_month Account Category  \\\n",
            "12      59ca43a60da688f1ac5c035a  2022-01-01              SMB   \n",
            "13      59ca43a60da688f1ac5c035a  2022-02-01              SMB   \n",
            "14      59ca43a60da688f1ac5c035a  2022-03-01              SMB   \n",
            "15      59ca43a60da688f1ac5c035a  2022-04-01              SMB   \n",
            "16      59ca43a60da688f1ac5c035a  2022-05-01              SMB   \n",
            "...                          ...         ...              ...   \n",
            "121251  6425a07ee57c80817e82209a  2023-04-01              SMB   \n",
            "121252  642a92b81976c00dcf970cec  2023-04-01        Strategic   \n",
            "121254  642be1d3d4f5dbbe6d8a77fd  2023-04-01        Strategic   \n",
            "121259  642fe75aa50fc2135607b063  2023-04-01           Middle   \n",
            "121262  64356b4cc36bee34bb66a59b  2023-04-01        Strategic   \n",
            "\n",
            "        distinct_users_per_month  consecutive_active_months  \n",
            "12                           6.7                          0  \n",
            "13                           4.3                          0  \n",
            "14                          16.7                          3  \n",
            "15                          25.0                          2  \n",
            "16                          16.1                          1  \n",
            "...                          ...                        ...  \n",
            "121251                       0.0                          0  \n",
            "121252                       0.0                          0  \n",
            "121254                       0.0                          0  \n",
            "121259                       0.0                          0  \n",
            "121262                       0.0                          0  \n",
            "\n",
            "[108333 rows x 5 columns]\n"
          ]
        }
      ]
    },
    {
      "cell_type": "code",
      "source": [
        "# Création de DataFrames vides pour stocker les données finales pour chaque catégorie de compte\n",
        "actifs_groups_SMB = pd.DataFrame(columns=actifs_groups.columns)\n",
        "actifs_groups_SMB['year_month+3'] = \"\"\n",
        "actifs_groups_SMB['distinct_users_per_month+3'] = \"\"\n",
        "\n",
        "actifs_groups_Middle = pd.DataFrame(columns=actifs_groups.columns)\n",
        "actifs_groups_Middle['year_month+3'] = \"\"\n",
        "actifs_groups_Middle['distinct_users_per_month+3'] = \"\"\n",
        "\n",
        "actifs_groups_Strategic = pd.DataFrame(columns=actifs_groups.columns)\n",
        "actifs_groups_Strategic['year_month+3'] = \"\"\n",
        "actifs_groups_Strategic['distinct_users_per_month+3'] = \"\"\n",
        "\n",
        "# Pour chaque conversation\n",
        "for conv_id in actifs_groups['lowest_level_id'].unique():\n",
        "    conv_data = actifs_groups[actifs_groups['lowest_level_id'] == conv_id]\n",
        "\n",
        "    # Séparation des données en fonction de la catégorie de compte\n",
        "    if conv_data['Account Category'].values[0] == 'SMB':\n",
        "      for conv_mois in conv_data['year_month'] :\n",
        "          if conv_data.loc[conv_data['year_month'] == conv_mois, 'distinct_users_per_month'].values[0] >= 10:\n",
        "              actifs_groups_SMB = actifs_groups_SMB.append(conv_data[conv_data['year_month'] == conv_mois])\n",
        "              date_obj = datetime.strptime(conv_mois, '%Y-%m-%d').date()\n",
        "              conv_next_month = date_obj + relativedelta(months=3)\n",
        "              conv_next_month = conv_next_month.strftime('%Y-%m-%d')\n",
        "              if conv_next_month not in conv_data['year_month'].values:\n",
        "                  continue\n",
        "              next_month_value = conv_data[conv_data['year_month'] == conv_next_month]['distinct_users_per_month'].iloc[0]\n",
        "              actifs_groups_SMB.loc[(actifs_groups_SMB['lowest_level_id'] == conv_id) & (actifs_groups_SMB['year_month'] == conv_mois), 'year_month+3'] = conv_next_month\n",
        "              actifs_groups_SMB.loc[(actifs_groups_SMB['lowest_level_id'] == conv_id) & (actifs_groups_SMB['year_month'] == conv_mois), 'distinct_users_per_month+3'] = next_month_value\n",
        "    elif conv_data['Account Category'].values[0] == 'Middle':\n",
        "      for conv_mois in conv_data['year_month'] :\n",
        "          if conv_data.loc[conv_data['year_month'] == conv_mois, 'distinct_users_per_month'].values[0] >= 10:\n",
        "              actifs_groups_Middle = actifs_groups_Middle.append(conv_data[conv_data['year_month'] == conv_mois])\n",
        "              date_obj = datetime.strptime(conv_mois, '%Y-%m-%d').date()\n",
        "              conv_next_month = date_obj + relativedelta(months=3)\n",
        "              conv_next_month = conv_next_month.strftime('%Y-%m-%d')\n",
        "              if conv_next_month not in conv_data['year_month'].values:\n",
        "                  continue\n",
        "              next_month_value = conv_data[conv_data['year_month'] == conv_next_month]['distinct_users_per_month'].iloc[0]\n",
        "              actifs_groups_Middle.loc[(actifs_groups_Middle['lowest_level_id'] == conv_id) & (actifs_groups_Middle['year_month'] == conv_mois), 'year_month+3'] = conv_next_month\n",
        "              actifs_groups_Middle.loc[(actifs_groups_Middle['lowest_level_id'] == conv_id) & (actifs_groups_Middle['year_month'] == conv_mois), 'distinct_users_per_month+3'] = next_month_value\n",
        "    else:\n",
        "      for conv_mois in conv_data['year_month'] :\n",
        "          if conv_data.loc[conv_data['year_month'] == conv_mois, 'distinct_users_per_month'].values[0] >= 10:\n",
        "              actifs_groups_Strategic = actifs_groups_Strategic.append(conv_data[conv_data['year_month'] == conv_mois])\n",
        "              date_obj = datetime.strptime(conv_mois, '%Y-%m-%d').date()\n",
        "              conv_next_month = date_obj + relativedelta(months=3)\n",
        "              conv_next_month = conv_next_month.strftime('%Y-%m-%d')\n",
        "              if conv_next_month not in conv_data['year_month'].values:\n",
        "                  continue\n",
        "              next_month_value = conv_data[conv_data['year_month'] == conv_next_month]['distinct_users_per_month'].iloc[0]\n",
        "              actifs_groups_Strategic.loc[(actifs_groups_Strategic['lowest_level_id'] == conv_id) & (actifs_groups_Strategic['year_month'] == conv_mois), 'year_month+3'] = conv_next_month\n",
        "              actifs_groups_Strategic.loc[(actifs_groups_Strategic['lowest_level_id'] == conv_id) & (actifs_groups_Strategic['year_month'] == conv_mois), 'distinct_users_per_month+3'] = next_month_value\n",
        "\n",
        "# Suppression des lignes avec des valeurs manquantes dans chaque DataFrame de catégorie de compte\n",
        "actifs_groups_SMB.dropna(inplace=True)\n",
        "actifs_groups_Middle.dropna(inplace=True)\n",
        "actifs_groups_Strategic.dropna(inplace=True)"
      ],
      "metadata": {
        "id": "n0r72aXBB5Te"
      },
      "execution_count": null,
      "outputs": []
    },
    {
      "cell_type": "code",
      "source": [
        "# Création du nouveau df pour la visualisation des résultats\n",
        "\n",
        "actifs_groups_courbe_SMB = pd.DataFrame(columns=[\"tranches\", \"moyenne_3_mois\", \"%actifs\", \"size\"])\n",
        "\n",
        "# Remplissage de la colonne \"tranches\"\n",
        "for i in range(10, 100, 10):\n",
        "    tranches = f\"{i}-{i+10}\"\n",
        "    actifs_groups_courbe_SMB = actifs_groups_courbe_SMB.append({\"tranches\": tranches}, ignore_index=True)\n",
        "print(actifs_groups_courbe_SMB)\n",
        "\n",
        "# Création du nouveau df pour la visualisation des résultats\n",
        "\n",
        "actifs_groups_courbe_Middle = pd.DataFrame(columns=[\"tranches\", \"moyenne_3_mois\", \"%actifs\", \"size\"])\n",
        "\n",
        "# Remplissage de la colonne \"tranches\"\n",
        "for i in range(10, 100, 10):\n",
        "    tranches = f\"{i}-{i+10}\"\n",
        "    actifs_groups_courbe_Middle = actifs_groups_courbe_Middle.append({\"tranches\": tranches}, ignore_index=True)\n",
        "print(actifs_groups_courbe_Middle)\n",
        "\n",
        "# Création du nouveau df pour la visualisation des résultats\n",
        "\n",
        "actifs_groups_courbe_Strategic = pd.DataFrame(columns=[\"tranches\", \"moyenne_3_mois\", \"%actifs\", \"size\"])\n",
        "\n",
        "# Remplissage de la colonne \"tranches\"\n",
        "for i in range(10, 100, 10):\n",
        "    tranches = f\"{i}-{i+10}\"\n",
        "    actifs_groups_courbe_Strategic = actifs_groups_courbe_Strategic.append({\"tranches\": tranches}, ignore_index=True)\n",
        "print(actifs_groups_courbe_Strategic)"
      ],
      "metadata": {
        "id": "3Oh3VYhAB5Tf"
      },
      "execution_count": null,
      "outputs": []
    },
    {
      "cell_type": "code",
      "source": [
        "# Remplissage des valeurs moyennes\n",
        "\n",
        "for i in actifs_groups_courbe_SMB['tranches'][0:8] :\n",
        "  if len(actifs_groups_SMB[(actifs_groups_SMB['distinct_users_per_month'] >= int(i[:2])) & (actifs_groups_SMB['distinct_users_per_month'] < int(i[-2:]))].iloc[:,6])>0:\n",
        "    n = len(actifs_groups_SMB[(actifs_groups_SMB['distinct_users_per_month'] >= int(i[:2])) & (actifs_groups_SMB['distinct_users_per_month'] < int(i[-2:]))].iloc[:,6])\n",
        "    moy = actifs_groups_SMB[(actifs_groups_SMB['distinct_users_per_month'] >= int(i[:2])) & (actifs_groups_SMB['distinct_users_per_month'] < int(i[-2:]))].iloc[:,6].mean()\n",
        "    actifs_groups_courbe_SMB.loc[actifs_groups_courbe_SMB['tranches'] == i, 'moyenne_3_mois'] = moy\n",
        "    actifs_groups_courbe_SMB.loc[actifs_groups_courbe_SMB['tranches'] == i, 'size'] = n\n",
        "    print(i, moy)\n",
        "\n",
        "# Remplissage des valeurs moyennes\n",
        "\n",
        "for i in actifs_groups_courbe_Middle['tranches'][0:8] :\n",
        "  if len(actifs_groups_Middle[(actifs_groups_Middle['distinct_users_per_month'] >= int(i[:2])) & (actifs_groups_Middle['distinct_users_per_month'] < int(i[-2:]))].iloc[:,6])>0:\n",
        "    n = len(actifs_groups_Middle[(actifs_groups_Middle['distinct_users_per_month'] >= int(i[:2])) & (actifs_groups_Middle['distinct_users_per_month'] < int(i[-2:]))].iloc[:,6])\n",
        "    moy = actifs_groups_Middle[(actifs_groups_Middle['distinct_users_per_month'] >= int(i[:2])) & (actifs_groups_Middle['distinct_users_per_month'] < int(i[-2:]))].iloc[:,6].mean()\n",
        "    actifs_groups_courbe_Middle.loc[actifs_groups_courbe_Middle['tranches'] == i, 'moyenne_3_mois'] = moy\n",
        "    actifs_groups_courbe_Middle.loc[actifs_groups_courbe_Middle['tranches'] == i, 'size'] = n\n",
        "    print(i, moy)\n",
        "\n",
        "# Remplissage des valeurs moyennes\n",
        "\n",
        "for i in actifs_groups_courbe_Strategic['tranches'][0:8] :\n",
        "  if len(actifs_groups_Strategic[(actifs_groups_Strategic['distinct_users_per_month'] >= int(i[:2])) & (actifs_groups_Strategic['distinct_users_per_month'] < int(i[-2:]))].iloc[:,6])>0:\n",
        "    n = len(actifs_groups_Strategic[(actifs_groups_Strategic['distinct_users_per_month'] >= int(i[:2])) & (actifs_groups_Strategic['distinct_users_per_month'] < int(i[-2:]))].iloc[:,6])\n",
        "    moy = actifs_groups_Strategic[(actifs_groups_Strategic['distinct_users_per_month'] >= int(i[:2])) & (actifs_groups_Strategic['distinct_users_per_month'] < int(i[-2:]))].iloc[:,6].mean()\n",
        "    actifs_groups_courbe_Strategic.loc[actifs_groups_courbe_Strategic['tranches'] == i, 'moyenne_3_mois'] = moy\n",
        "    actifs_groups_courbe_Strategic.loc[actifs_groups_courbe_Strategic['tranches'] == i, 'size'] = n\n",
        "    print(i, moy)\n",
        "\n",
        "# Remplissage du % de conversations perdurant\n",
        "\n",
        "for i in actifs_groups_courbe_SMB['tranches'][0:8] :\n",
        "  if len(actifs_groups_SMB[(actifs_groups_SMB['distinct_users_per_month'] >= int(i[:2])) & (actifs_groups_SMB['distinct_users_per_month'] < int(i[-2:]))].iloc[:,5])>0:\n",
        "    n = len(actifs_groups_SMB[(actifs_groups_SMB['distinct_users_per_month'] >= int(i[:2])) & (actifs_groups_SMB['distinct_users_per_month'] < int(i[-2:]))].iloc[:,5])\n",
        "    pourcentage_perdure = actifs_groups_SMB[(actifs_groups_SMB['distinct_users_per_month'] >= int(i[:2])) & (actifs_groups_SMB['distinct_users_per_month'] < int(i[-2:]))]\n",
        "    pourcentage_perdure = len(pourcentage_perdure[pourcentage_perdure['distinct_users_per_month+3'] >= 10])/len(pourcentage_perdure)\n",
        "    actifs_groups_courbe_SMB.loc[actifs_groups_courbe_SMB['tranches'] == i, '%actifs'] = pourcentage_perdure\n",
        "    actifs_groups_courbe_SMB.loc[actifs_groups_courbe_SMB['tranches'] == i, 'size'] = n\n",
        "    print(i, n, pourcentage_perdure)\n",
        "\n",
        "# Remplissage du % de conversations perdurant\n",
        "\n",
        "for i in actifs_groups_courbe_Middle['tranches'][0:8] :\n",
        "  if len(actifs_groups_Middle[(actifs_groups_Middle['distinct_users_per_month'] >= int(i[:2])) & (actifs_groups_Middle['distinct_users_per_month'] < int(i[-2:]))].iloc[:,5])>0:\n",
        "    n = len(actifs_groups_Middle[(actifs_groups_Middle['distinct_users_per_month'] >= int(i[:2])) & (actifs_groups_Middle['distinct_users_per_month'] < int(i[-2:]))].iloc[:,5])\n",
        "    pourcentage_perdure = actifs_groups_Middle[(actifs_groups_Middle['distinct_users_per_month'] >= int(i[:2])) & (actifs_groups_Middle['distinct_users_per_month'] < int(i[-2:]))]\n",
        "    pourcentage_perdure = len(pourcentage_perdure[pourcentage_perdure['distinct_users_per_month+3'] >= 10])/len(pourcentage_perdure)\n",
        "    actifs_groups_courbe_Middle.loc[actifs_groups_courbe_Middle['tranches'] == i, '%actifs'] = pourcentage_perdure\n",
        "    actifs_groups_courbe_Middle.loc[actifs_groups_courbe_Middle['tranches'] == i, 'size'] = n\n",
        "    print(i, n, pourcentage_perdure)\n",
        "\n",
        "# Remplissage du % de conversations perdurant\n",
        "\n",
        "for i in actifs_groups_courbe_Strategic['tranches'][0:8] :\n",
        "  if len(actifs_groups_Strategic[(actifs_groups_Strategic['distinct_users_per_month'] >= int(i[:2])) & (actifs_groups_Strategic['distinct_users_per_month'] < int(i[-2:]))].iloc[:,5])>0:\n",
        "    n = len(actifs_groups_Strategic[(actifs_groups_Strategic['distinct_users_per_month'] >= int(i[:2])) & (actifs_groups_Strategic['distinct_users_per_month'] < int(i[-2:]))].iloc[:,5])\n",
        "    pourcentage_perdure = actifs_groups_Strategic[(actifs_groups_Strategic['distinct_users_per_month'] >= int(i[:2])) & (actifs_groups_Strategic['distinct_users_per_month'] < int(i[-2:]))]\n",
        "    pourcentage_perdure = len(pourcentage_perdure[pourcentage_perdure['distinct_users_per_month+3'] >= 10])/len(pourcentage_perdure)\n",
        "    actifs_groups_courbe_Strategic.loc[actifs_groups_courbe_Strategic['tranches'] == i, '%actifs'] = pourcentage_perdure\n",
        "    actifs_groups_courbe_Strategic.loc[actifs_groups_courbe_Strategic['tranches'] == i, 'size'] = n\n",
        "    print(i, n, pourcentage_perdure)"
      ],
      "metadata": {
        "id": "k3ZzDz_WB5Tf"
      },
      "execution_count": null,
      "outputs": []
    },
    {
      "cell_type": "code",
      "source": [
        "# On supprime les dernières tranches qui ne sont pas assez fournies\n",
        "\n",
        "actifs_groups_courbe_SMB = actifs_groups_courbe_SMB[:-3]\n",
        "actifs_groups_courbe_Middle = actifs_groups_courbe_Middle[:-3]\n",
        "actifs_groups_courbe_Strategic = actifs_groups_courbe_Strategic[:-3]\n",
        "print(actifs_groups_courbe_SMB, \" \", \" \", actifs_groups_courbe_Middle, \" \", \" \", actifs_groups_courbe_Strategic, \" \", \" \")"
      ],
      "metadata": {
        "id": "ILDmvkgXtaE5",
        "colab": {
          "base_uri": "https://localhost:8080/"
        },
        "outputId": "2a256920-8218-4f93-f626-f7bc1479a795"
      },
      "execution_count": null,
      "outputs": [
        {
          "output_type": "stream",
          "name": "stdout",
          "text": [
            "  tranches moyenne_3_mois   %actifs size\n",
            "0    10-20       3.157143  0.097959  245\n",
            "1    20-30       3.905263  0.157895  171\n",
            "2    30-40       4.314754  0.163934  122\n",
            "3    40-50       6.713846  0.215385   65\n",
            "4    50-60          5.975     0.175   80\n",
            "5    60-70       3.293617   0.12766   47       tranches moyenne_3_mois   %actifs size\n",
            "0    10-20       2.585714  0.105714  350\n",
            "1    20-30       2.703261  0.097826  184\n",
            "2    30-40       2.617647  0.107843  102\n",
            "3    40-50       4.291667  0.166667   60\n",
            "4    50-60      10.232308  0.261538   65\n",
            "5    60-70           4.35       0.2   30       tranches moyenne_3_mois   %actifs size\n",
            "0    10-20       1.443168  0.062112  644\n",
            "1    20-30          2.665  0.102941  340\n",
            "2    30-40       3.774444  0.122222  180\n",
            "3    40-50       1.855263  0.065789   76\n",
            "4    50-60       2.372321  0.080357  112\n",
            "5    60-70       3.959677  0.096774   62    \n"
          ]
        }
      ]
    },
    {
      "cell_type": "code",
      "source": [
        "\"\"\"actifs_groups_courbe_SMB.to_csv('actifs_groups_courbe_SMB.csv', index=False)\n",
        "files.download('actifs_groups_courbe_SMB.csv')\n",
        "actifs_groups_courbe_Middle.to_csv('actifs_groups_courbe_Middle.csv', index=False)\n",
        "files.download('actifs_groups_courbe_Middle.csv')\n",
        "actifs_groups_courbe_Strategic.to_csv('actifs_groups_courbe_Strategic.csv', index=False)\n",
        "files.download('actifs_groups_courbe_Strategic.csv')\"\"\""
      ],
      "metadata": {
        "id": "MPDDsw2fB5Tf",
        "colab": {
          "base_uri": "https://localhost:8080/",
          "height": 17
        },
        "outputId": "103b0b9a-83eb-4083-a174-43d569e602c4"
      },
      "execution_count": null,
      "outputs": [
        {
          "output_type": "display_data",
          "data": {
            "text/plain": [
              "<IPython.core.display.Javascript object>"
            ],
            "application/javascript": [
              "\n",
              "    async function download(id, filename, size) {\n",
              "      if (!google.colab.kernel.accessAllowed) {\n",
              "        return;\n",
              "      }\n",
              "      const div = document.createElement('div');\n",
              "      const label = document.createElement('label');\n",
              "      label.textContent = `Downloading \"${filename}\": `;\n",
              "      div.appendChild(label);\n",
              "      const progress = document.createElement('progress');\n",
              "      progress.max = size;\n",
              "      div.appendChild(progress);\n",
              "      document.body.appendChild(div);\n",
              "\n",
              "      const buffers = [];\n",
              "      let downloaded = 0;\n",
              "\n",
              "      const channel = await google.colab.kernel.comms.open(id);\n",
              "      // Send a message to notify the kernel that we're ready.\n",
              "      channel.send({})\n",
              "\n",
              "      for await (const message of channel.messages) {\n",
              "        // Send a message to notify the kernel that we're ready.\n",
              "        channel.send({})\n",
              "        if (message.buffers) {\n",
              "          for (const buffer of message.buffers) {\n",
              "            buffers.push(buffer);\n",
              "            downloaded += buffer.byteLength;\n",
              "            progress.value = downloaded;\n",
              "          }\n",
              "        }\n",
              "      }\n",
              "      const blob = new Blob(buffers, {type: 'application/binary'});\n",
              "      const a = document.createElement('a');\n",
              "      a.href = window.URL.createObjectURL(blob);\n",
              "      a.download = filename;\n",
              "      div.appendChild(a);\n",
              "      a.click();\n",
              "      div.remove();\n",
              "    }\n",
              "  "
            ]
          },
          "metadata": {}
        },
        {
          "output_type": "display_data",
          "data": {
            "text/plain": [
              "<IPython.core.display.Javascript object>"
            ],
            "application/javascript": [
              "download(\"download_6ebc435e-88ec-47a1-98bd-b7ef4fe6d017\", \"actifs_groups_courbe_SMB.csv\", 309)"
            ]
          },
          "metadata": {}
        },
        {
          "output_type": "display_data",
          "data": {
            "text/plain": [
              "<IPython.core.display.Javascript object>"
            ],
            "application/javascript": [
              "\n",
              "    async function download(id, filename, size) {\n",
              "      if (!google.colab.kernel.accessAllowed) {\n",
              "        return;\n",
              "      }\n",
              "      const div = document.createElement('div');\n",
              "      const label = document.createElement('label');\n",
              "      label.textContent = `Downloading \"${filename}\": `;\n",
              "      div.appendChild(label);\n",
              "      const progress = document.createElement('progress');\n",
              "      progress.max = size;\n",
              "      div.appendChild(progress);\n",
              "      document.body.appendChild(div);\n",
              "\n",
              "      const buffers = [];\n",
              "      let downloaded = 0;\n",
              "\n",
              "      const channel = await google.colab.kernel.comms.open(id);\n",
              "      // Send a message to notify the kernel that we're ready.\n",
              "      channel.send({})\n",
              "\n",
              "      for await (const message of channel.messages) {\n",
              "        // Send a message to notify the kernel that we're ready.\n",
              "        channel.send({})\n",
              "        if (message.buffers) {\n",
              "          for (const buffer of message.buffers) {\n",
              "            buffers.push(buffer);\n",
              "            downloaded += buffer.byteLength;\n",
              "            progress.value = downloaded;\n",
              "          }\n",
              "        }\n",
              "      }\n",
              "      const blob = new Blob(buffers, {type: 'application/binary'});\n",
              "      const a = document.createElement('a');\n",
              "      a.href = window.URL.createObjectURL(blob);\n",
              "      a.download = filename;\n",
              "      div.appendChild(a);\n",
              "      a.click();\n",
              "      div.remove();\n",
              "    }\n",
              "  "
            ]
          },
          "metadata": {}
        },
        {
          "output_type": "display_data",
          "data": {
            "text/plain": [
              "<IPython.core.display.Javascript object>"
            ],
            "application/javascript": [
              "download(\"download_4f825151-6387-448d-88da-71bf5649e335\", \"actifs_groups_courbe_Middle.csv\", 296)"
            ]
          },
          "metadata": {}
        },
        {
          "output_type": "display_data",
          "data": {
            "text/plain": [
              "<IPython.core.display.Javascript object>"
            ],
            "application/javascript": [
              "\n",
              "    async function download(id, filename, size) {\n",
              "      if (!google.colab.kernel.accessAllowed) {\n",
              "        return;\n",
              "      }\n",
              "      const div = document.createElement('div');\n",
              "      const label = document.createElement('label');\n",
              "      label.textContent = `Downloading \"${filename}\": `;\n",
              "      div.appendChild(label);\n",
              "      const progress = document.createElement('progress');\n",
              "      progress.max = size;\n",
              "      div.appendChild(progress);\n",
              "      document.body.appendChild(div);\n",
              "\n",
              "      const buffers = [];\n",
              "      let downloaded = 0;\n",
              "\n",
              "      const channel = await google.colab.kernel.comms.open(id);\n",
              "      // Send a message to notify the kernel that we're ready.\n",
              "      channel.send({})\n",
              "\n",
              "      for await (const message of channel.messages) {\n",
              "        // Send a message to notify the kernel that we're ready.\n",
              "        channel.send({})\n",
              "        if (message.buffers) {\n",
              "          for (const buffer of message.buffers) {\n",
              "            buffers.push(buffer);\n",
              "            downloaded += buffer.byteLength;\n",
              "            progress.value = downloaded;\n",
              "          }\n",
              "        }\n",
              "      }\n",
              "      const blob = new Blob(buffers, {type: 'application/binary'});\n",
              "      const a = document.createElement('a');\n",
              "      a.href = window.URL.createObjectURL(blob);\n",
              "      a.download = filename;\n",
              "      div.appendChild(a);\n",
              "      a.click();\n",
              "      div.remove();\n",
              "    }\n",
              "  "
            ]
          },
          "metadata": {}
        },
        {
          "output_type": "display_data",
          "data": {
            "text/plain": [
              "<IPython.core.display.Javascript object>"
            ],
            "application/javascript": [
              "download(\"download_294c3fee-c61d-4e12-865d-496a97166fc8\", \"actifs_groups_courbe_Strategic.csv\", 316)"
            ]
          },
          "metadata": {}
        }
      ]
    },
    {
      "cell_type": "markdown",
      "source": [
        "## Recherche de conversations modèles afin de visualiser les bonnes pratiques"
      ],
      "metadata": {
        "id": "fJkaz7MVxEut"
      }
    },
    {
      "cell_type": "code",
      "source": [
        "df_users_per_group_test.head()"
      ],
      "metadata": {
        "colab": {
          "base_uri": "https://localhost:8080/",
          "height": 421
        },
        "id": "s-rf9nCYx9T-",
        "outputId": "783c32b6-75e2-4bd6-dcb4-f5c95770a140"
      },
      "execution_count": null,
      "outputs": [
        {
          "output_type": "execute_result",
          "data": {
            "text/plain": [
              "            lowest_level_id                level_0_id  \\\n",
              "0  58aea22cbf4d1db14a862976  58aea22cbf4d1db14a862976   \n",
              "1  58aea22cbf4d1db14a862976  58aea22cbf4d1db14a862976   \n",
              "2  58aea22cbf4d1db14a862976  58aea22cbf4d1db14a862976   \n",
              "3  58aea22cbf4d1db14a862976  58aea22cbf4d1db14a862976   \n",
              "4  58aea22cbf4d1db14a862976  58aea22cbf4d1db14a862976   \n",
              "\n",
              "                 level_1_id  quarter    month  year_month  month_rank  \\\n",
              "0  58aea22cbf4d1db14a862976  2022-Q1  2022-01  2022-01-01           1   \n",
              "1  58aea22cbf4d1db14a862976  2022-Q1  2022-02  2022-02-01           1   \n",
              "2  58aea22cbf4d1db14a862976  2022-Q1  2022-03  2022-03-01           1   \n",
              "3  58aea22cbf4d1db14a862976  2022-Q2  2022-04  2022-04-01           1   \n",
              "4  58aea22cbf4d1db14a862976  2022-Q2  2022-05  2022-05-01           1   \n",
              "\n",
              "   registered     Name Total Employees  ... Company_Language  \\\n",
              "0          12  No_data         No_data  ...          No_data   \n",
              "1          12  No_data         No_data  ...          No_data   \n",
              "2          12  No_data         No_data  ...          No_data   \n",
              "3          12  No_data         No_data  ...          No_data   \n",
              "4          12  No_data         No_data  ...          No_data   \n",
              "\n",
              "  Max Potential Users interactions_per_month posts_per_month  \\\n",
              "0             No_data                    0.0             0.0   \n",
              "1             No_data                    0.0             0.0   \n",
              "2             No_data                    0.0             0.0   \n",
              "3             No_data                    0.0             0.0   \n",
              "4             No_data                    0.0             0.0   \n",
              "\n",
              "   comments_per_month  reactions_per_month  distinct_users_per_month  \\\n",
              "0                 0.0                  0.0                       0.0   \n",
              "1                 0.0                  0.0                       0.0   \n",
              "2                 0.0                  0.0                       0.0   \n",
              "3                 0.0                  0.0                       0.0   \n",
              "4                 0.0                  0.0                       0.0   \n",
              "\n",
              "   users+2_interactions  is_active  consecutive_active_months  \n",
              "0                   0.0          0                          0  \n",
              "1                   0.0          0                          0  \n",
              "2                   0.0          0                          0  \n",
              "3                   0.0          0                          0  \n",
              "4                   0.0          0                          0  \n",
              "\n",
              "[5 rows x 22 columns]"
            ],
            "text/html": [
              "\n",
              "  <div id=\"df-95cb2c96-efcb-473b-b566-395a74c03d5c\">\n",
              "    <div class=\"colab-df-container\">\n",
              "      <div>\n",
              "<style scoped>\n",
              "    .dataframe tbody tr th:only-of-type {\n",
              "        vertical-align: middle;\n",
              "    }\n",
              "\n",
              "    .dataframe tbody tr th {\n",
              "        vertical-align: top;\n",
              "    }\n",
              "\n",
              "    .dataframe thead th {\n",
              "        text-align: right;\n",
              "    }\n",
              "</style>\n",
              "<table border=\"1\" class=\"dataframe\">\n",
              "  <thead>\n",
              "    <tr style=\"text-align: right;\">\n",
              "      <th></th>\n",
              "      <th>lowest_level_id</th>\n",
              "      <th>level_0_id</th>\n",
              "      <th>level_1_id</th>\n",
              "      <th>quarter</th>\n",
              "      <th>month</th>\n",
              "      <th>year_month</th>\n",
              "      <th>month_rank</th>\n",
              "      <th>registered</th>\n",
              "      <th>Name</th>\n",
              "      <th>Total Employees</th>\n",
              "      <th>...</th>\n",
              "      <th>Company_Language</th>\n",
              "      <th>Max Potential Users</th>\n",
              "      <th>interactions_per_month</th>\n",
              "      <th>posts_per_month</th>\n",
              "      <th>comments_per_month</th>\n",
              "      <th>reactions_per_month</th>\n",
              "      <th>distinct_users_per_month</th>\n",
              "      <th>users+2_interactions</th>\n",
              "      <th>is_active</th>\n",
              "      <th>consecutive_active_months</th>\n",
              "    </tr>\n",
              "  </thead>\n",
              "  <tbody>\n",
              "    <tr>\n",
              "      <th>0</th>\n",
              "      <td>58aea22cbf4d1db14a862976</td>\n",
              "      <td>58aea22cbf4d1db14a862976</td>\n",
              "      <td>58aea22cbf4d1db14a862976</td>\n",
              "      <td>2022-Q1</td>\n",
              "      <td>2022-01</td>\n",
              "      <td>2022-01-01</td>\n",
              "      <td>1</td>\n",
              "      <td>12</td>\n",
              "      <td>No_data</td>\n",
              "      <td>No_data</td>\n",
              "      <td>...</td>\n",
              "      <td>No_data</td>\n",
              "      <td>No_data</td>\n",
              "      <td>0.0</td>\n",
              "      <td>0.0</td>\n",
              "      <td>0.0</td>\n",
              "      <td>0.0</td>\n",
              "      <td>0.0</td>\n",
              "      <td>0.0</td>\n",
              "      <td>0</td>\n",
              "      <td>0</td>\n",
              "    </tr>\n",
              "    <tr>\n",
              "      <th>1</th>\n",
              "      <td>58aea22cbf4d1db14a862976</td>\n",
              "      <td>58aea22cbf4d1db14a862976</td>\n",
              "      <td>58aea22cbf4d1db14a862976</td>\n",
              "      <td>2022-Q1</td>\n",
              "      <td>2022-02</td>\n",
              "      <td>2022-02-01</td>\n",
              "      <td>1</td>\n",
              "      <td>12</td>\n",
              "      <td>No_data</td>\n",
              "      <td>No_data</td>\n",
              "      <td>...</td>\n",
              "      <td>No_data</td>\n",
              "      <td>No_data</td>\n",
              "      <td>0.0</td>\n",
              "      <td>0.0</td>\n",
              "      <td>0.0</td>\n",
              "      <td>0.0</td>\n",
              "      <td>0.0</td>\n",
              "      <td>0.0</td>\n",
              "      <td>0</td>\n",
              "      <td>0</td>\n",
              "    </tr>\n",
              "    <tr>\n",
              "      <th>2</th>\n",
              "      <td>58aea22cbf4d1db14a862976</td>\n",
              "      <td>58aea22cbf4d1db14a862976</td>\n",
              "      <td>58aea22cbf4d1db14a862976</td>\n",
              "      <td>2022-Q1</td>\n",
              "      <td>2022-03</td>\n",
              "      <td>2022-03-01</td>\n",
              "      <td>1</td>\n",
              "      <td>12</td>\n",
              "      <td>No_data</td>\n",
              "      <td>No_data</td>\n",
              "      <td>...</td>\n",
              "      <td>No_data</td>\n",
              "      <td>No_data</td>\n",
              "      <td>0.0</td>\n",
              "      <td>0.0</td>\n",
              "      <td>0.0</td>\n",
              "      <td>0.0</td>\n",
              "      <td>0.0</td>\n",
              "      <td>0.0</td>\n",
              "      <td>0</td>\n",
              "      <td>0</td>\n",
              "    </tr>\n",
              "    <tr>\n",
              "      <th>3</th>\n",
              "      <td>58aea22cbf4d1db14a862976</td>\n",
              "      <td>58aea22cbf4d1db14a862976</td>\n",
              "      <td>58aea22cbf4d1db14a862976</td>\n",
              "      <td>2022-Q2</td>\n",
              "      <td>2022-04</td>\n",
              "      <td>2022-04-01</td>\n",
              "      <td>1</td>\n",
              "      <td>12</td>\n",
              "      <td>No_data</td>\n",
              "      <td>No_data</td>\n",
              "      <td>...</td>\n",
              "      <td>No_data</td>\n",
              "      <td>No_data</td>\n",
              "      <td>0.0</td>\n",
              "      <td>0.0</td>\n",
              "      <td>0.0</td>\n",
              "      <td>0.0</td>\n",
              "      <td>0.0</td>\n",
              "      <td>0.0</td>\n",
              "      <td>0</td>\n",
              "      <td>0</td>\n",
              "    </tr>\n",
              "    <tr>\n",
              "      <th>4</th>\n",
              "      <td>58aea22cbf4d1db14a862976</td>\n",
              "      <td>58aea22cbf4d1db14a862976</td>\n",
              "      <td>58aea22cbf4d1db14a862976</td>\n",
              "      <td>2022-Q2</td>\n",
              "      <td>2022-05</td>\n",
              "      <td>2022-05-01</td>\n",
              "      <td>1</td>\n",
              "      <td>12</td>\n",
              "      <td>No_data</td>\n",
              "      <td>No_data</td>\n",
              "      <td>...</td>\n",
              "      <td>No_data</td>\n",
              "      <td>No_data</td>\n",
              "      <td>0.0</td>\n",
              "      <td>0.0</td>\n",
              "      <td>0.0</td>\n",
              "      <td>0.0</td>\n",
              "      <td>0.0</td>\n",
              "      <td>0.0</td>\n",
              "      <td>0</td>\n",
              "      <td>0</td>\n",
              "    </tr>\n",
              "  </tbody>\n",
              "</table>\n",
              "<p>5 rows × 22 columns</p>\n",
              "</div>\n",
              "      <button class=\"colab-df-convert\" onclick=\"convertToInteractive('df-95cb2c96-efcb-473b-b566-395a74c03d5c')\"\n",
              "              title=\"Convert this dataframe to an interactive table.\"\n",
              "              style=\"display:none;\">\n",
              "        \n",
              "  <svg xmlns=\"http://www.w3.org/2000/svg\" height=\"24px\"viewBox=\"0 0 24 24\"\n",
              "       width=\"24px\">\n",
              "    <path d=\"M0 0h24v24H0V0z\" fill=\"none\"/>\n",
              "    <path d=\"M18.56 5.44l.94 2.06.94-2.06 2.06-.94-2.06-.94-.94-2.06-.94 2.06-2.06.94zm-11 1L8.5 8.5l.94-2.06 2.06-.94-2.06-.94L8.5 2.5l-.94 2.06-2.06.94zm10 10l.94 2.06.94-2.06 2.06-.94-2.06-.94-.94-2.06-.94 2.06-2.06.94z\"/><path d=\"M17.41 7.96l-1.37-1.37c-.4-.4-.92-.59-1.43-.59-.52 0-1.04.2-1.43.59L10.3 9.45l-7.72 7.72c-.78.78-.78 2.05 0 2.83L4 21.41c.39.39.9.59 1.41.59.51 0 1.02-.2 1.41-.59l7.78-7.78 2.81-2.81c.8-.78.8-2.07 0-2.86zM5.41 20L4 18.59l7.72-7.72 1.47 1.35L5.41 20z\"/>\n",
              "  </svg>\n",
              "      </button>\n",
              "      \n",
              "  <style>\n",
              "    .colab-df-container {\n",
              "      display:flex;\n",
              "      flex-wrap:wrap;\n",
              "      gap: 12px;\n",
              "    }\n",
              "\n",
              "    .colab-df-convert {\n",
              "      background-color: #E8F0FE;\n",
              "      border: none;\n",
              "      border-radius: 50%;\n",
              "      cursor: pointer;\n",
              "      display: none;\n",
              "      fill: #1967D2;\n",
              "      height: 32px;\n",
              "      padding: 0 0 0 0;\n",
              "      width: 32px;\n",
              "    }\n",
              "\n",
              "    .colab-df-convert:hover {\n",
              "      background-color: #E2EBFA;\n",
              "      box-shadow: 0px 1px 2px rgba(60, 64, 67, 0.3), 0px 1px 3px 1px rgba(60, 64, 67, 0.15);\n",
              "      fill: #174EA6;\n",
              "    }\n",
              "\n",
              "    [theme=dark] .colab-df-convert {\n",
              "      background-color: #3B4455;\n",
              "      fill: #D2E3FC;\n",
              "    }\n",
              "\n",
              "    [theme=dark] .colab-df-convert:hover {\n",
              "      background-color: #434B5C;\n",
              "      box-shadow: 0px 1px 3px 1px rgba(0, 0, 0, 0.15);\n",
              "      filter: drop-shadow(0px 1px 2px rgba(0, 0, 0, 0.3));\n",
              "      fill: #FFFFFF;\n",
              "    }\n",
              "  </style>\n",
              "\n",
              "      <script>\n",
              "        const buttonEl =\n",
              "          document.querySelector('#df-95cb2c96-efcb-473b-b566-395a74c03d5c button.colab-df-convert');\n",
              "        buttonEl.style.display =\n",
              "          google.colab.kernel.accessAllowed ? 'block' : 'none';\n",
              "\n",
              "        async function convertToInteractive(key) {\n",
              "          const element = document.querySelector('#df-95cb2c96-efcb-473b-b566-395a74c03d5c');\n",
              "          const dataTable =\n",
              "            await google.colab.kernel.invokeFunction('convertToInteractive',\n",
              "                                                     [key], {});\n",
              "          if (!dataTable) return;\n",
              "\n",
              "          const docLinkHtml = 'Like what you see? Visit the ' +\n",
              "            '<a target=\"_blank\" href=https://colab.research.google.com/notebooks/data_table.ipynb>data table notebook</a>'\n",
              "            + ' to learn more about interactive tables.';\n",
              "          element.innerHTML = '';\n",
              "          dataTable['output_type'] = 'display_data';\n",
              "          await google.colab.output.renderOutput(dataTable, element);\n",
              "          const docLink = document.createElement('div');\n",
              "          docLink.innerHTML = docLinkHtml;\n",
              "          element.appendChild(docLink);\n",
              "        }\n",
              "      </script>\n",
              "    </div>\n",
              "  </div>\n",
              "  "
            ]
          },
          "metadata": {},
          "execution_count": 40
        }
      ]
    },
    {
      "cell_type": "code",
      "source": [
        "# On recherche une conversation, à un mois donné, qui respecte les conditions suivantes :\n",
        "# Pas le premier mois en activité\n",
        "# >= 20 membres dans la conversation\n",
        "# >= 20% d'actifs à M0\n",
        "# >= 20% d'actifs à M+3\n",
        "# >= 50 employés dans l'entreprise\n",
        "\n",
        "df_best_practices = df_users_per_group_test.copy()#[df_users_per_group_test['Total Employees'] != 'No_data']\n",
        "#df_best_practices['Total Employees'] = df_best_practices['Total Employees'].astype(int)\n",
        "df_best_practices = df_best_practices[(df_best_practices['registered'] >= 10) & (df_best_practices['interactions_per_month'] >= 10)]# & (df_best_practices['Total Employees'] >= 50)]\n",
        "\n",
        "df_best_practices_bis = pd.DataFrame(columns=df_best_practices.columns)\n",
        "df_best_practices_bis['year_month+3'] = \"\"\n",
        "df_best_practices_bis['distinct_users_per_month+3'] = \"\"\n",
        "\n",
        "# Pour chaque conversation\n",
        "for conv_id in df_best_practices['lowest_level_id'].unique():\n",
        "    conv_data = df_best_practices[df_best_practices['lowest_level_id'] == conv_id]\n",
        "    for conv_mois in conv_data['year_month'] :\n",
        "      if conv_data.loc[conv_data['year_month'] == conv_mois, 'distinct_users_per_month'].values[0] >= 20:\n",
        "        df_best_practices_bis = df_best_practices_bis.append(conv_data[conv_data['year_month'] == conv_mois])\n",
        "        date_obj = datetime.strptime(conv_mois, '%Y-%m-%d').date()\n",
        "        conv_next_month = date_obj + relativedelta(months=3)\n",
        "        conv_next_month = conv_next_month.strftime('%Y-%m-%d')\n",
        "        if conv_next_month not in conv_data['year_month'].values:\n",
        "          continue\n",
        "        next_month_value = conv_data[conv_data['year_month'] == conv_next_month]['distinct_users_per_month'].iloc[0]\n",
        "        if next_month_value >= 10 :\n",
        "          df_best_practices_bis.loc[(df_best_practices_bis['lowest_level_id'] == conv_id) & (df_best_practices_bis['year_month'] == conv_mois), 'year_month+3'] = conv_next_month\n",
        "          df_best_practices_bis.loc[(df_best_practices_bis['lowest_level_id'] == conv_id) & (df_best_practices_bis['year_month'] == conv_mois), 'distinct_users_per_month+3'] = next_month_value\n",
        "df_best_practices_bis.dropna(inplace=True)\n",
        "\n",
        "#print(df_best_practices)"
      ],
      "metadata": {
        "id": "1VD1IjJCxLxQ"
      },
      "execution_count": null,
      "outputs": []
    },
    {
      "cell_type": "code",
      "source": [
        "print(df_best_practices_bis)\n",
        "\"\"\"df_best_practices_bis.to_csv('best_practices.csv', index=False)\n",
        "files.download(\"best_practices.csv\")\"\"\""
      ],
      "metadata": {
        "id": "tZdEZamV4A-C"
      },
      "execution_count": null,
      "outputs": []
    },
    {
      "cell_type": "markdown",
      "source": [
        "*Donc à priori seulement 1 conversation d'Unilabs correspond à ces critères, il faut maintenant rentrer dans son détail afin d'en tirer des enseignements*"
      ],
      "metadata": {
        "id": "veR80HiK4kWF"
      }
    },
    {
      "cell_type": "markdown",
      "source": [
        "## Algorithme de prédiction faisant le lien entre les caractéristiques d'un groupe et sa continuité"
      ],
      "metadata": {
        "id": "8AyKAuNHwlWh"
      }
    },
    {
      "cell_type": "code",
      "source": [
        "# Modèle de régression linéaire afin de prédire 'interactions_per_month' grâce aux colonnes :\n",
        "# 'registered', 'Account Category' et 'Company_Language'\n",
        "\n",
        "# Séparation des données en ensembles de formation et de test\n",
        "X = df_groups_actives[['registered', 'Account Category', 'Company_Language']]\n",
        "y = df_groups_actives['interactions_per_month']\n",
        "X_train, X_test, y_train, y_test = train_test_split(X, y, test_size=0.3, random_state=42)\n",
        "\n",
        "# Normalisation des données si nécessaire\n",
        "\n",
        "# Entraînement du modèle\n",
        "model = LinearRegression()\n",
        "model.fit(X_train, y_train)\n",
        "\n",
        "# Évaluation du modèle\n",
        "y_pred = model.predict(X_test)\n",
        "mse = mean_squared_error(y_test, y_pred)\n",
        "print('Mean squared error:', mse)"
      ],
      "metadata": {
        "colab": {
          "base_uri": "https://localhost:8080/",
          "height": 240
        },
        "id": "h8dr80Nc4ZW7",
        "outputId": "9c6624b4-6b6d-4c83-c0a9-dbaa8b9aec9d"
      },
      "execution_count": null,
      "outputs": [
        {
          "output_type": "error",
          "ename": "NameError",
          "evalue": "ignored",
          "traceback": [
            "\u001b[0;31m---------------------------------------------------------------------------\u001b[0m",
            "\u001b[0;31mNameError\u001b[0m                                 Traceback (most recent call last)",
            "\u001b[0;32m<ipython-input-137-1b5079880e17>\u001b[0m in \u001b[0;36m<cell line: 5>\u001b[0;34m()\u001b[0m\n\u001b[1;32m      3\u001b[0m \u001b[0;34m\u001b[0m\u001b[0m\n\u001b[1;32m      4\u001b[0m \u001b[0;31m# Séparation des données en ensembles de formation et de test\u001b[0m\u001b[0;34m\u001b[0m\u001b[0;34m\u001b[0m\u001b[0m\n\u001b[0;32m----> 5\u001b[0;31m \u001b[0mX\u001b[0m \u001b[0;34m=\u001b[0m \u001b[0mdf_groups_actives\u001b[0m\u001b[0;34m[\u001b[0m\u001b[0;34m[\u001b[0m\u001b[0;34m'registered'\u001b[0m\u001b[0;34m,\u001b[0m \u001b[0;34m'Account Category'\u001b[0m\u001b[0;34m,\u001b[0m \u001b[0;34m'Company_Language'\u001b[0m\u001b[0;34m]\u001b[0m\u001b[0;34m]\u001b[0m\u001b[0;34m\u001b[0m\u001b[0;34m\u001b[0m\u001b[0m\n\u001b[0m\u001b[1;32m      6\u001b[0m \u001b[0my\u001b[0m \u001b[0;34m=\u001b[0m \u001b[0mdf_groups_actives\u001b[0m\u001b[0;34m[\u001b[0m\u001b[0;34m'interactions_per_month'\u001b[0m\u001b[0;34m]\u001b[0m\u001b[0;34m\u001b[0m\u001b[0;34m\u001b[0m\u001b[0m\n\u001b[1;32m      7\u001b[0m \u001b[0mX_train\u001b[0m\u001b[0;34m,\u001b[0m \u001b[0mX_test\u001b[0m\u001b[0;34m,\u001b[0m \u001b[0my_train\u001b[0m\u001b[0;34m,\u001b[0m \u001b[0my_test\u001b[0m \u001b[0;34m=\u001b[0m \u001b[0mtrain_test_split\u001b[0m\u001b[0;34m(\u001b[0m\u001b[0mX\u001b[0m\u001b[0;34m,\u001b[0m \u001b[0my\u001b[0m\u001b[0;34m,\u001b[0m \u001b[0mtest_size\u001b[0m\u001b[0;34m=\u001b[0m\u001b[0;36m0.3\u001b[0m\u001b[0;34m,\u001b[0m \u001b[0mrandom_state\u001b[0m\u001b[0;34m=\u001b[0m\u001b[0;36m42\u001b[0m\u001b[0;34m)\u001b[0m\u001b[0;34m\u001b[0m\u001b[0;34m\u001b[0m\u001b[0m\n",
            "\u001b[0;31mNameError\u001b[0m: name 'df_groups_actives' is not defined"
          ]
        }
      ]
    }
  ]
}